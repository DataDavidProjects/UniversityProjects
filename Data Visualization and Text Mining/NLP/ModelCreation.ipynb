{
 "cells": [
  {
   "cell_type": "code",
   "execution_count": 1,
   "id": "1d73cc5e",
   "metadata": {},
   "outputs": [],
   "source": [
    "import pandas as pd \n",
    "import numpy as np \n",
    "import matplotlib.pyplot as plt\n",
    "import os\n",
    "from os.path import isfile, join\n",
    "import string\n",
    "import re\n",
    "from string import punctuation\n",
    "import sys\n",
    "\n",
    "import nltk\n",
    "from nltk.stem import WordNetLemmatizer\n",
    "from nltk.corpus import stopwords \n",
    "import spacy\n",
    "nlp = spacy.load('en_core_web_sm')\n",
    "from nltk.tokenize import RegexpTokenizer\n",
    "\n",
    "from sklearn.datasets import fetch_20newsgroups\n",
    "from sklearn.preprocessing import LabelEncoder , StandardScaler , MaxAbsScaler \n",
    "from sklearn.pipeline import Pipeline\n",
    "from sklearn.model_selection import GridSearchCV\n",
    "from sklearn.model_selection import StratifiedKFold\n",
    "from sklearn.preprocessing import FunctionTransformer\n",
    "from sklearn.base import TransformerMixin\n",
    "from sklearn.model_selection import train_test_split\n",
    "from sklearn.metrics import *\n",
    "from sklearn.feature_extraction.text import CountVectorizer ,TfidfVectorizer\n",
    "\n",
    "\n",
    "import tensorflow as tf\n",
    "from keras.wrappers.scikit_learn import KerasClassifier\n",
    "from keras.layers import Dense, Input, Dropout\n",
    "from keras import Sequential\n",
    "from keras import metrics\n"
   ]
  },
  {
   "cell_type": "markdown",
   "id": "ed7622fa",
   "metadata": {},
   "source": [
    "# Data Acquisition"
   ]
  },
  {
   "cell_type": "code",
   "execution_count": 2,
   "id": "10bce0ad",
   "metadata": {},
   "outputs": [],
   "source": [
    "#______________________________________________________ DATA INGESTION___________________________________________________________________\n",
    "dataset = fetch_20newsgroups(subset='train', remove=('headers', 'footers', 'quotes'), shuffle=True, random_state=42)\n",
    "df = pd.DataFrame()\n",
    "df['text'] = dataset.data\n",
    "df['source'] = dataset.target\n",
    "label=[]\n",
    "for i in df['source']:\n",
    "    label.append(dataset.target_names[i])\n",
    "df['label']=label\n",
    "df.drop(['source'],axis=1,inplace=True)\n",
    "\n",
    "\n",
    "# key_categories = ['politics','sport','religion','computer','sales','automobile','science','medicine']\n",
    "# cat_dict = {\n",
    "# **dict.fromkeys(['talk.politics.misc','talk.politics.guns','talk.politics.mideast'],'politics'),\n",
    "# **dict.fromkeys( ['rec.sport.hockey','rec.sport.baseball'],'sport'),\n",
    "# **dict.fromkeys( ['soc.religion.christian','talk.religion.misc'],'religion'),\n",
    "# **dict.fromkeys(['comp.windows.x','comp.sys.ibm.pc.hardware','comp.os.ms-windows.misc','comp.graphics','comp.sys.mac.hardware'],'computer'),\n",
    "# **dict.fromkeys( ['misc.forsale'],'sales'),\n",
    "# **dict.fromkeys( ['rec.autos','rec.motorcycles'],'automobile'),\n",
    "# **dict.fromkeys( ['sci.crypt','sci.electronics','sci.space'],'science'),\n",
    "# **dict.fromkeys( ['sci.med'],'medicine') \n",
    "# }\n",
    "# df['label']=df['label'].map(cat_dict)\n",
    "\n",
    "label_encoder = LabelEncoder()  \n",
    "# Encode labels in column 'species'.\n",
    "df['target']= label_encoder.fit_transform(df['label'])\n",
    "\n",
    "df = df.sample(frac = 1)\n",
    "# dependent and independent variable\n",
    "X = df['text']\n",
    "y = df['target']\n",
    "\n",
    "#_____________________________________________________________________________________________________________________________________________"
   ]
  },
  {
   "cell_type": "code",
   "execution_count": 3,
   "id": "46e9f940",
   "metadata": {},
   "outputs": [
    {
     "data": {
      "text/html": [
       "<div>\n",
       "<style scoped>\n",
       "    .dataframe tbody tr th:only-of-type {\n",
       "        vertical-align: middle;\n",
       "    }\n",
       "\n",
       "    .dataframe tbody tr th {\n",
       "        vertical-align: top;\n",
       "    }\n",
       "\n",
       "    .dataframe thead th {\n",
       "        text-align: right;\n",
       "    }\n",
       "</style>\n",
       "<table border=\"1\" class=\"dataframe\">\n",
       "  <thead>\n",
       "    <tr style=\"text-align: right;\">\n",
       "      <th></th>\n",
       "      <th>text</th>\n",
       "      <th>label</th>\n",
       "      <th>target</th>\n",
       "    </tr>\n",
       "  </thead>\n",
       "  <tbody>\n",
       "    <tr>\n",
       "      <th>6611</th>\n",
       "      <td>Greetings.\\n\\nI am developing an application t...</td>\n",
       "      <td>comp.windows.x</td>\n",
       "      <td>5</td>\n",
       "    </tr>\n",
       "    <tr>\n",
       "      <th>5469</th>\n",
       "      <td>: I'd appreciate any feedback on capture/playb...</td>\n",
       "      <td>comp.windows.x</td>\n",
       "      <td>5</td>\n",
       "    </tr>\n",
       "    <tr>\n",
       "      <th>6395</th>\n",
       "      <td>:\\n:According to an Australian documentary mad...</td>\n",
       "      <td>talk.politics.guns</td>\n",
       "      <td>16</td>\n",
       "    </tr>\n",
       "    <tr>\n",
       "      <th>4408</th>\n",
       "      <td>\\nOr perhaps any planning at all.  :-)  Hiya P...</td>\n",
       "      <td>rec.motorcycles</td>\n",
       "      <td>8</td>\n",
       "    </tr>\n",
       "    <tr>\n",
       "      <th>2027</th>\n",
       "      <td>\\n\\tUh oh...\\n\\tUmm, there are a number of cop...</td>\n",
       "      <td>sci.electronics</td>\n",
       "      <td>12</td>\n",
       "    </tr>\n",
       "  </tbody>\n",
       "</table>\n",
       "</div>"
      ],
      "text/plain": [
       "                                                   text               label  \\\n",
       "6611  Greetings.\\n\\nI am developing an application t...      comp.windows.x   \n",
       "5469  : I'd appreciate any feedback on capture/playb...      comp.windows.x   \n",
       "6395  :\\n:According to an Australian documentary mad...  talk.politics.guns   \n",
       "4408  \\nOr perhaps any planning at all.  :-)  Hiya P...     rec.motorcycles   \n",
       "2027  \\n\\tUh oh...\\n\\tUmm, there are a number of cop...     sci.electronics   \n",
       "\n",
       "      target  \n",
       "6611       5  \n",
       "5469       5  \n",
       "6395      16  \n",
       "4408       8  \n",
       "2027      12  "
      ]
     },
     "execution_count": 3,
     "metadata": {},
     "output_type": "execute_result"
    }
   ],
   "source": [
    "df.head()"
   ]
  },
  {
   "cell_type": "markdown",
   "id": "71651206",
   "metadata": {},
   "source": [
    "# Preprocessing Pipeline"
   ]
  },
  {
   "cell_type": "code",
   "execution_count": 4,
   "id": "c4d4d413",
   "metadata": {},
   "outputs": [],
   "source": [
    "def spacy_preprocessing(text_format):\n",
    "        \n",
    "    def combine_text(list_of_text):\n",
    "            combined_text = ' '.join(list_of_text)\n",
    "            return combined_text\n",
    "        \n",
    "    doc  = nlp(text_format)\n",
    "    tokens_list  = [ token.lemma_ for token in doc if not token.is_punct and not token.is_space and token.is_alpha]\n",
    "    filter_token_sw = [token.lower() for token in tokens_list if token.lower() not in stopwords.words('english')]\n",
    "   \n",
    "    return combine_text(filter_token_sw)\n",
    "    \n",
    "vec_prop = np.vectorize(spacy_preprocessing)\n",
    "\n",
    "pipe_spacy_preprocessing = FunctionTransformer(vec_prop)\n",
    "\n",
    "class DenseTransformer(TransformerMixin):\n",
    "\n",
    "    def fit(self, X, y=None, **fit_params):\n",
    "        return self\n",
    "\n",
    "    def transform(self, X, y=None, **fit_params):\n",
    "        return X.todense()\n",
    "    \n",
    "\n",
    "prep_pipeline = Pipeline([\n",
    "                    ('text_preprocessing', pipe_spacy_preprocessing ),\n",
    "                    ('tfidf', TfidfVectorizer(use_idf = True, max_features=2500)),\n",
    "                    ('sparse_to_dense',DenseTransformer()),\n",
    "                    ('scaler', MaxAbsScaler())\n",
    "                    \n",
    "                    ])\n",
    "\n",
    "# DEFINE LABELS IN OHE FORMAT\n",
    "yc = tf.keras.utils.to_categorical(y,num_classes = 20,dtype=int )"
   ]
  },
  {
   "cell_type": "code",
   "execution_count": null,
   "id": "d642c194",
   "metadata": {},
   "outputs": [],
   "source": [
    "#X_t = prep_pipeline.fit_transform(X).toarray()"
   ]
  },
  {
   "cell_type": "markdown",
   "id": "a851c57c",
   "metadata": {},
   "source": [
    "# Model Pipeline"
   ]
  },
  {
   "cell_type": "markdown",
   "id": "eb1272b3",
   "metadata": {},
   "source": [
    "### Hyperparameters fine-tuning"
   ]
  },
  {
   "cell_type": "code",
   "execution_count": 5,
   "id": "f3c13f80",
   "metadata": {},
   "outputs": [
    {
     "data": {
      "text/html": [
       "<style>#sk-ffeef929-a86d-4942-bbdc-e1bb9c7666ed {color: black;background-color: white;}#sk-ffeef929-a86d-4942-bbdc-e1bb9c7666ed pre{padding: 0;}#sk-ffeef929-a86d-4942-bbdc-e1bb9c7666ed div.sk-toggleable {background-color: white;}#sk-ffeef929-a86d-4942-bbdc-e1bb9c7666ed label.sk-toggleable__label {cursor: pointer;display: block;width: 100%;margin-bottom: 0;padding: 0.3em;box-sizing: border-box;text-align: center;}#sk-ffeef929-a86d-4942-bbdc-e1bb9c7666ed div.sk-toggleable__content {max-height: 0;max-width: 0;overflow: hidden;text-align: left;background-color: #f0f8ff;}#sk-ffeef929-a86d-4942-bbdc-e1bb9c7666ed div.sk-toggleable__content pre {margin: 0.2em;color: black;border-radius: 0.25em;background-color: #f0f8ff;}#sk-ffeef929-a86d-4942-bbdc-e1bb9c7666ed input.sk-toggleable__control:checked~div.sk-toggleable__content {max-height: 200px;max-width: 100%;overflow: auto;}#sk-ffeef929-a86d-4942-bbdc-e1bb9c7666ed div.sk-estimator input.sk-toggleable__control:checked~label.sk-toggleable__label {background-color: #d4ebff;}#sk-ffeef929-a86d-4942-bbdc-e1bb9c7666ed div.sk-label input.sk-toggleable__control:checked~label.sk-toggleable__label {background-color: #d4ebff;}#sk-ffeef929-a86d-4942-bbdc-e1bb9c7666ed input.sk-hidden--visually {border: 0;clip: rect(1px 1px 1px 1px);clip: rect(1px, 1px, 1px, 1px);height: 1px;margin: -1px;overflow: hidden;padding: 0;position: absolute;width: 1px;}#sk-ffeef929-a86d-4942-bbdc-e1bb9c7666ed div.sk-estimator {font-family: monospace;background-color: #f0f8ff;border: 1px dotted black;border-radius: 0.25em;box-sizing: border-box;margin-bottom: 0.5em;}#sk-ffeef929-a86d-4942-bbdc-e1bb9c7666ed div.sk-estimator:hover {background-color: #d4ebff;}#sk-ffeef929-a86d-4942-bbdc-e1bb9c7666ed div.sk-parallel-item::after {content: \"\";width: 100%;border-bottom: 1px solid gray;flex-grow: 1;}#sk-ffeef929-a86d-4942-bbdc-e1bb9c7666ed div.sk-label:hover label.sk-toggleable__label {background-color: #d4ebff;}#sk-ffeef929-a86d-4942-bbdc-e1bb9c7666ed div.sk-serial::before {content: \"\";position: absolute;border-left: 1px solid gray;box-sizing: border-box;top: 2em;bottom: 0;left: 50%;}#sk-ffeef929-a86d-4942-bbdc-e1bb9c7666ed div.sk-serial {display: flex;flex-direction: column;align-items: center;background-color: white;padding-right: 0.2em;padding-left: 0.2em;}#sk-ffeef929-a86d-4942-bbdc-e1bb9c7666ed div.sk-item {z-index: 1;}#sk-ffeef929-a86d-4942-bbdc-e1bb9c7666ed div.sk-parallel {display: flex;align-items: stretch;justify-content: center;background-color: white;}#sk-ffeef929-a86d-4942-bbdc-e1bb9c7666ed div.sk-parallel::before {content: \"\";position: absolute;border-left: 1px solid gray;box-sizing: border-box;top: 2em;bottom: 0;left: 50%;}#sk-ffeef929-a86d-4942-bbdc-e1bb9c7666ed div.sk-parallel-item {display: flex;flex-direction: column;position: relative;background-color: white;}#sk-ffeef929-a86d-4942-bbdc-e1bb9c7666ed div.sk-parallel-item:first-child::after {align-self: flex-end;width: 50%;}#sk-ffeef929-a86d-4942-bbdc-e1bb9c7666ed div.sk-parallel-item:last-child::after {align-self: flex-start;width: 50%;}#sk-ffeef929-a86d-4942-bbdc-e1bb9c7666ed div.sk-parallel-item:only-child::after {width: 0;}#sk-ffeef929-a86d-4942-bbdc-e1bb9c7666ed div.sk-dashed-wrapped {border: 1px dashed gray;margin: 0 0.4em 0.5em 0.4em;box-sizing: border-box;padding-bottom: 0.4em;background-color: white;position: relative;}#sk-ffeef929-a86d-4942-bbdc-e1bb9c7666ed div.sk-label label {font-family: monospace;font-weight: bold;background-color: white;display: inline-block;line-height: 1.2em;}#sk-ffeef929-a86d-4942-bbdc-e1bb9c7666ed div.sk-label-container {position: relative;z-index: 2;text-align: center;}#sk-ffeef929-a86d-4942-bbdc-e1bb9c7666ed div.sk-container {display: inline-block;position: relative;}</style><div id=\"sk-ffeef929-a86d-4942-bbdc-e1bb9c7666ed\" class\"sk-top-container\"><div class=\"sk-container\"><div class=\"sk-item sk-dashed-wrapped\"><div class=\"sk-label-container\"><div class=\"sk-label sk-toggleable\"><input class=\"sk-toggleable__control sk-hidden--visually\" id=\"30c3958e-aab0-4294-9cc2-2b59964b3424\" type=\"checkbox\" ><label class=\"sk-toggleable__label\" for=\"30c3958e-aab0-4294-9cc2-2b59964b3424\">Pipeline</label><div class=\"sk-toggleable__content\"><pre>Pipeline(steps=[('text_preprocessing',\n",
       "                 FunctionTransformer(func=<numpy.vectorize object at 0x00000212668851C0>)),\n",
       "                ('tfidf', TfidfVectorizer(max_features=2500)),\n",
       "                ('sparse_to_dense',\n",
       "                 <__main__.DenseTransformer object at 0x0000021266885250>),\n",
       "                ('scaler', MaxAbsScaler())])</pre></div></div></div><div class=\"sk-serial\"><div class=\"sk-item\"><div class=\"sk-estimator sk-toggleable\"><input class=\"sk-toggleable__control sk-hidden--visually\" id=\"fdf8a6e3-6bb7-487a-9041-e23025b41508\" type=\"checkbox\" ><label class=\"sk-toggleable__label\" for=\"fdf8a6e3-6bb7-487a-9041-e23025b41508\">FunctionTransformer</label><div class=\"sk-toggleable__content\"><pre>FunctionTransformer(func=<numpy.vectorize object at 0x00000212668851C0>)</pre></div></div></div><div class=\"sk-item\"><div class=\"sk-estimator sk-toggleable\"><input class=\"sk-toggleable__control sk-hidden--visually\" id=\"6aa921b3-87f2-4d20-b749-c08d877901e5\" type=\"checkbox\" ><label class=\"sk-toggleable__label\" for=\"6aa921b3-87f2-4d20-b749-c08d877901e5\">TfidfVectorizer</label><div class=\"sk-toggleable__content\"><pre>TfidfVectorizer(max_features=2500)</pre></div></div></div><div class=\"sk-item\"><div class=\"sk-estimator sk-toggleable\"><input class=\"sk-toggleable__control sk-hidden--visually\" id=\"469270fc-4b78-43fb-879a-9469321fa03a\" type=\"checkbox\" ><label class=\"sk-toggleable__label\" for=\"469270fc-4b78-43fb-879a-9469321fa03a\">DenseTransformer</label><div class=\"sk-toggleable__content\"><pre><__main__.DenseTransformer object at 0x0000021266885250></pre></div></div></div><div class=\"sk-item\"><div class=\"sk-estimator sk-toggleable\"><input class=\"sk-toggleable__control sk-hidden--visually\" id=\"e858f39e-7ef2-4f8f-8847-1c467d64601b\" type=\"checkbox\" ><label class=\"sk-toggleable__label\" for=\"e858f39e-7ef2-4f8f-8847-1c467d64601b\">MaxAbsScaler</label><div class=\"sk-toggleable__content\"><pre>MaxAbsScaler()</pre></div></div></div></div></div></div></div>"
      ],
      "text/plain": [
       "Pipeline(steps=[('text_preprocessing',\n",
       "                 FunctionTransformer(func=<numpy.vectorize object at 0x00000212668851C0>)),\n",
       "                ('tfidf', TfidfVectorizer(max_features=2500)),\n",
       "                ('sparse_to_dense',\n",
       "                 <__main__.DenseTransformer object at 0x0000021266885250>),\n",
       "                ('scaler', MaxAbsScaler())])"
      ]
     },
     "execution_count": 5,
     "metadata": {},
     "output_type": "execute_result"
    }
   ],
   "source": [
    "from sklearn import set_config\n",
    "set_config(display='diagram')\n",
    "\n",
    "prep_pipeline"
   ]
  },
  {
   "cell_type": "code",
   "execution_count": 15,
   "id": "1a1f47be",
   "metadata": {},
   "outputs": [
    {
     "name": "stderr",
     "output_type": "stream",
     "text": [
      "C:\\Users\\david\\AppData\\Local\\Temp/ipykernel_2224/828343475.py:19: DeprecationWarning: KerasClassifier is deprecated, use Sci-Keras (https://github.com/adriangb/scikeras) instead.\n",
      "  kears_estimator = KerasClassifier(build_fn=create_model, verbose=1,batch_size=2**10,epochs = 15)\n"
     ]
    }
   ],
   "source": [
    "n_classes = len(set(label))\n",
    "def create_model(optimizer=\"adam\",dense_layer_sizes = False,\n",
    "                 dropout=0.1, init='uniform',\n",
    "                 features=2500,neurons=20,\n",
    "                 n_classes = n_classes ):\n",
    "    \n",
    "    model = Sequential()\n",
    "    model.add(Dense(neurons, activation='relu', input_shape=(features,), kernel_initializer=init,)) \n",
    "    \n",
    "    #for layer_size in dense_layer_sizes:\n",
    "    #   model.add(Dense(layer_size, activation='relu'))\n",
    "    #   model.add(Dropout(dropout), )    \n",
    "    model.add(Dense(n_classes, activation='softmax'))\n",
    "    model.compile(loss='categorical_crossentropy',\n",
    "                  optimizer=optimizer,\n",
    "                  metrics=[tf.keras.metrics.AUC()])\n",
    "    return model\n",
    "\n",
    "kears_estimator = KerasClassifier(build_fn=create_model, verbose=1,batch_size=2**10,epochs = 15)\n",
    "\n",
    "neurons=[10,50,100,300,500,1000]\n",
    "epochs = [5,10,30,50]\n",
    "batch_size = [2,4,10,20,50,100]\n",
    "\n",
    "#dense_layer_sizes = [[] , []]\n",
    "\n",
    "param_grid = dict(neurons=neurons, epochs = epochs, batch_size =batch_size)\n",
    "StratifiedKFold(n_splits=2, shuffle=True)\n",
    "grid = GridSearchCV(estimator=kears_estimator,\n",
    "                    verbose=1,\n",
    "                    cv=5,\n",
    "                    param_grid=param_grid,scoring='roc_auc')"
   ]
  },
  {
   "cell_type": "markdown",
   "id": "1fc0e0a3",
   "metadata": {},
   "source": [
    "#### Grid Search Issue multilabel multiclass"
   ]
  },
  {
   "cell_type": "code",
   "execution_count": null,
   "id": "8cac8b91",
   "metadata": {},
   "outputs": [],
   "source": [
    "# limit = 100\n",
    "# X_p = prep_pipeline.fit_transform(X[:limit]).toarray()\n",
    "# X_p.shape"
   ]
  },
  {
   "cell_type": "code",
   "execution_count": null,
   "id": "6d1dbbb2",
   "metadata": {},
   "outputs": [],
   "source": [
    "# from sklearn.utils.multiclass import type_of_target\n",
    "# type_of_target(y) , type_of_target(yc)"
   ]
  },
  {
   "cell_type": "code",
   "execution_count": null,
   "id": "85aef4bf",
   "metadata": {},
   "outputs": [],
   "source": [
    "# grid_results = grid.fit(X_p,yc)\n",
    "# results  =  pd.DataFrame(grid_results.cv_results_).sort_values('rank_test_score')\n",
    "# results.head()"
   ]
  },
  {
   "cell_type": "markdown",
   "id": "8d5f90fc",
   "metadata": {},
   "source": [
    "## Fit the Pipeline "
   ]
  },
  {
   "cell_type": "code",
   "execution_count": 8,
   "id": "c85687d6",
   "metadata": {},
   "outputs": [],
   "source": [
    "#model = create_model(neurons=20).fit(X_t,yc,epochs  = 15)"
   ]
  },
  {
   "cell_type": "code",
   "execution_count": 11,
   "id": "696252f1",
   "metadata": {},
   "outputs": [],
   "source": [
    "model_pipeline = Pipeline([\n",
    "                    ('text_preprocessing', pipe_spacy_preprocessing ),\n",
    "                    ('tfidf', TfidfVectorizer(use_idf = True, max_features=2500)),\n",
    "                    ('sparse_to_dense',DenseTransformer()),\n",
    "                    ('scaler', MaxAbsScaler()),('clf' ,kears_estimator )\n",
    "])"
   ]
  },
  {
   "cell_type": "code",
   "execution_count": 12,
   "id": "13649eb8",
   "metadata": {},
   "outputs": [
    {
     "data": {
      "text/html": [
       "<style>#sk-70c4af0d-56bc-4f9d-a294-ed702897611b {color: black;background-color: white;}#sk-70c4af0d-56bc-4f9d-a294-ed702897611b pre{padding: 0;}#sk-70c4af0d-56bc-4f9d-a294-ed702897611b div.sk-toggleable {background-color: white;}#sk-70c4af0d-56bc-4f9d-a294-ed702897611b label.sk-toggleable__label {cursor: pointer;display: block;width: 100%;margin-bottom: 0;padding: 0.3em;box-sizing: border-box;text-align: center;}#sk-70c4af0d-56bc-4f9d-a294-ed702897611b div.sk-toggleable__content {max-height: 0;max-width: 0;overflow: hidden;text-align: left;background-color: #f0f8ff;}#sk-70c4af0d-56bc-4f9d-a294-ed702897611b div.sk-toggleable__content pre {margin: 0.2em;color: black;border-radius: 0.25em;background-color: #f0f8ff;}#sk-70c4af0d-56bc-4f9d-a294-ed702897611b input.sk-toggleable__control:checked~div.sk-toggleable__content {max-height: 200px;max-width: 100%;overflow: auto;}#sk-70c4af0d-56bc-4f9d-a294-ed702897611b div.sk-estimator input.sk-toggleable__control:checked~label.sk-toggleable__label {background-color: #d4ebff;}#sk-70c4af0d-56bc-4f9d-a294-ed702897611b div.sk-label input.sk-toggleable__control:checked~label.sk-toggleable__label {background-color: #d4ebff;}#sk-70c4af0d-56bc-4f9d-a294-ed702897611b input.sk-hidden--visually {border: 0;clip: rect(1px 1px 1px 1px);clip: rect(1px, 1px, 1px, 1px);height: 1px;margin: -1px;overflow: hidden;padding: 0;position: absolute;width: 1px;}#sk-70c4af0d-56bc-4f9d-a294-ed702897611b div.sk-estimator {font-family: monospace;background-color: #f0f8ff;border: 1px dotted black;border-radius: 0.25em;box-sizing: border-box;margin-bottom: 0.5em;}#sk-70c4af0d-56bc-4f9d-a294-ed702897611b div.sk-estimator:hover {background-color: #d4ebff;}#sk-70c4af0d-56bc-4f9d-a294-ed702897611b div.sk-parallel-item::after {content: \"\";width: 100%;border-bottom: 1px solid gray;flex-grow: 1;}#sk-70c4af0d-56bc-4f9d-a294-ed702897611b div.sk-label:hover label.sk-toggleable__label {background-color: #d4ebff;}#sk-70c4af0d-56bc-4f9d-a294-ed702897611b div.sk-serial::before {content: \"\";position: absolute;border-left: 1px solid gray;box-sizing: border-box;top: 2em;bottom: 0;left: 50%;}#sk-70c4af0d-56bc-4f9d-a294-ed702897611b div.sk-serial {display: flex;flex-direction: column;align-items: center;background-color: white;padding-right: 0.2em;padding-left: 0.2em;}#sk-70c4af0d-56bc-4f9d-a294-ed702897611b div.sk-item {z-index: 1;}#sk-70c4af0d-56bc-4f9d-a294-ed702897611b div.sk-parallel {display: flex;align-items: stretch;justify-content: center;background-color: white;}#sk-70c4af0d-56bc-4f9d-a294-ed702897611b div.sk-parallel::before {content: \"\";position: absolute;border-left: 1px solid gray;box-sizing: border-box;top: 2em;bottom: 0;left: 50%;}#sk-70c4af0d-56bc-4f9d-a294-ed702897611b div.sk-parallel-item {display: flex;flex-direction: column;position: relative;background-color: white;}#sk-70c4af0d-56bc-4f9d-a294-ed702897611b div.sk-parallel-item:first-child::after {align-self: flex-end;width: 50%;}#sk-70c4af0d-56bc-4f9d-a294-ed702897611b div.sk-parallel-item:last-child::after {align-self: flex-start;width: 50%;}#sk-70c4af0d-56bc-4f9d-a294-ed702897611b div.sk-parallel-item:only-child::after {width: 0;}#sk-70c4af0d-56bc-4f9d-a294-ed702897611b div.sk-dashed-wrapped {border: 1px dashed gray;margin: 0 0.4em 0.5em 0.4em;box-sizing: border-box;padding-bottom: 0.4em;background-color: white;position: relative;}#sk-70c4af0d-56bc-4f9d-a294-ed702897611b div.sk-label label {font-family: monospace;font-weight: bold;background-color: white;display: inline-block;line-height: 1.2em;}#sk-70c4af0d-56bc-4f9d-a294-ed702897611b div.sk-label-container {position: relative;z-index: 2;text-align: center;}#sk-70c4af0d-56bc-4f9d-a294-ed702897611b div.sk-container {display: inline-block;position: relative;}</style><div id=\"sk-70c4af0d-56bc-4f9d-a294-ed702897611b\" class\"sk-top-container\"><div class=\"sk-container\"><div class=\"sk-item sk-dashed-wrapped\"><div class=\"sk-label-container\"><div class=\"sk-label sk-toggleable\"><input class=\"sk-toggleable__control sk-hidden--visually\" id=\"93aa4b9f-a86e-432b-a52e-51f6a42e10da\" type=\"checkbox\" ><label class=\"sk-toggleable__label\" for=\"93aa4b9f-a86e-432b-a52e-51f6a42e10da\">Pipeline</label><div class=\"sk-toggleable__content\"><pre>Pipeline(steps=[('text_preprocessing',\n",
       "                 FunctionTransformer(func=<numpy.vectorize object at 0x00000212668851C0>)),\n",
       "                ('tfidf', TfidfVectorizer(max_features=2500)),\n",
       "                ('sparse_to_dense',\n",
       "                 <__main__.DenseTransformer object at 0x0000021267FB7880>),\n",
       "                ('scaler', MaxAbsScaler()),\n",
       "                ('clf',\n",
       "                 <keras.wrappers.scikit_learn.KerasClassifier object at 0x0000021266871100>)])</pre></div></div></div><div class=\"sk-serial\"><div class=\"sk-item\"><div class=\"sk-estimator sk-toggleable\"><input class=\"sk-toggleable__control sk-hidden--visually\" id=\"bb072da3-35b0-4a5f-8047-b72a1d8e5ac9\" type=\"checkbox\" ><label class=\"sk-toggleable__label\" for=\"bb072da3-35b0-4a5f-8047-b72a1d8e5ac9\">FunctionTransformer</label><div class=\"sk-toggleable__content\"><pre>FunctionTransformer(func=<numpy.vectorize object at 0x00000212668851C0>)</pre></div></div></div><div class=\"sk-item\"><div class=\"sk-estimator sk-toggleable\"><input class=\"sk-toggleable__control sk-hidden--visually\" id=\"2e7cbefd-ac2f-48ab-b14b-0408f1f8140c\" type=\"checkbox\" ><label class=\"sk-toggleable__label\" for=\"2e7cbefd-ac2f-48ab-b14b-0408f1f8140c\">TfidfVectorizer</label><div class=\"sk-toggleable__content\"><pre>TfidfVectorizer(max_features=2500)</pre></div></div></div><div class=\"sk-item\"><div class=\"sk-estimator sk-toggleable\"><input class=\"sk-toggleable__control sk-hidden--visually\" id=\"b66cc197-3aa4-49ed-b83e-9bf992592adb\" type=\"checkbox\" ><label class=\"sk-toggleable__label\" for=\"b66cc197-3aa4-49ed-b83e-9bf992592adb\">DenseTransformer</label><div class=\"sk-toggleable__content\"><pre><__main__.DenseTransformer object at 0x0000021267FB7880></pre></div></div></div><div class=\"sk-item\"><div class=\"sk-estimator sk-toggleable\"><input class=\"sk-toggleable__control sk-hidden--visually\" id=\"dec3c35b-5c28-4173-959a-c391338dd3a1\" type=\"checkbox\" ><label class=\"sk-toggleable__label\" for=\"dec3c35b-5c28-4173-959a-c391338dd3a1\">MaxAbsScaler</label><div class=\"sk-toggleable__content\"><pre>MaxAbsScaler()</pre></div></div></div><div class=\"sk-item\"><div class=\"sk-estimator sk-toggleable\"><input class=\"sk-toggleable__control sk-hidden--visually\" id=\"8798e110-1221-472e-be51-2710aa1c2d94\" type=\"checkbox\" ><label class=\"sk-toggleable__label\" for=\"8798e110-1221-472e-be51-2710aa1c2d94\">KerasClassifier</label><div class=\"sk-toggleable__content\"><pre><keras.wrappers.scikit_learn.KerasClassifier object at 0x0000021266871100></pre></div></div></div></div></div></div></div>"
      ],
      "text/plain": [
       "Pipeline(steps=[('text_preprocessing',\n",
       "                 FunctionTransformer(func=<numpy.vectorize object at 0x00000212668851C0>)),\n",
       "                ('tfidf', TfidfVectorizer(max_features=2500)),\n",
       "                ('sparse_to_dense',\n",
       "                 <__main__.DenseTransformer object at 0x0000021267FB7880>),\n",
       "                ('scaler', MaxAbsScaler()),\n",
       "                ('clf',\n",
       "                 <keras.wrappers.scikit_learn.KerasClassifier object at 0x0000021266871100>)])"
      ]
     },
     "execution_count": 12,
     "metadata": {},
     "output_type": "execute_result"
    }
   ],
   "source": [
    "model_pipeline"
   ]
  },
  {
   "cell_type": "code",
   "execution_count": 17,
   "id": "2e5c91ca",
   "metadata": {},
   "outputs": [
    {
     "name": "stderr",
     "output_type": "stream",
     "text": [
      "c:\\users\\david\\desktop\\universityprojects\\uni_venv\\lib\\site-packages\\sklearn\\utils\\validation.py:585: FutureWarning: np.matrix usage is deprecated in 1.0 and will raise a TypeError in 1.2. Please convert to a numpy array with np.asarray. For more information see: https://numpy.org/doc/stable/reference/generated/numpy.matrix.html\n",
      "  warnings.warn(\n",
      "c:\\users\\david\\desktop\\universityprojects\\uni_venv\\lib\\site-packages\\sklearn\\utils\\validation.py:585: FutureWarning: np.matrix usage is deprecated in 1.0 and will raise a TypeError in 1.2. Please convert to a numpy array with np.asarray. For more information see: https://numpy.org/doc/stable/reference/generated/numpy.matrix.html\n",
      "  warnings.warn(\n"
     ]
    },
    {
     "name": "stdout",
     "output_type": "stream",
     "text": [
      "12/12 [==============================] - 0s 5ms/step - loss: 2.9837 - auc_2: 0.5606\n"
     ]
    },
    {
     "data": {
      "text/plain": [
       "833.0853395462036"
      ]
     },
     "execution_count": 17,
     "metadata": {},
     "output_type": "execute_result"
    }
   ],
   "source": [
    "import time\n",
    "\n",
    "t0 = time.time()\n",
    "fitted_pipe = model_pipeline.fit(X,yc)\n",
    "time.time() - t0 "
   ]
  },
  {
   "cell_type": "code",
   "execution_count": null,
   "id": "29d5cf4e",
   "metadata": {},
   "outputs": [],
   "source": []
  },
  {
   "cell_type": "markdown",
   "id": "a9e5cbaf",
   "metadata": {},
   "source": [
    "# Testing Pipeline"
   ]
  },
  {
   "cell_type": "code",
   "execution_count": null,
   "id": "adf0d9a9",
   "metadata": {},
   "outputs": [],
   "source": [
    "dataset = fetch_20newsgroups(subset='test', remove=('headers', 'footers', 'quotes'), shuffle=True, random_state=42)\n",
    "df = pd.DataFrame()\n",
    "df['text'] = dataset.data\n",
    "df['source'] = dataset.target\n",
    "label=[]\n",
    "for i in df['source']:\n",
    "    label.append(dataset.target_names[i])\n",
    "df['label']=label\n",
    "df.drop(['source'],axis=1,inplace=True)\n",
    "\n",
    "\n",
    "# key_categories = ['politics','sport','religion','computer','sales','automobile','science','medicine']\n",
    "# cat_dict = {\n",
    "# **dict.fromkeys(['talk.politics.misc','talk.politics.guns','talk.politics.mideast'],'politics'),\n",
    "# **dict.fromkeys( ['rec.sport.hockey','rec.sport.baseball'],'sport'),\n",
    "# **dict.fromkeys( ['soc.religion.christian','talk.religion.misc'],'religion'),\n",
    "# **dict.fromkeys(['comp.windows.x','comp.sys.ibm.pc.hardware','comp.os.ms-windows.misc','comp.graphics','comp.sys.mac.hardware'],'computer'),\n",
    "# **dict.fromkeys( ['misc.forsale'],'sales'),\n",
    "# **dict.fromkeys( ['rec.autos','rec.motorcycles'],'automobile'),\n",
    "# **dict.fromkeys( ['sci.crypt','sci.electronics','sci.space'],'science'),\n",
    "# **dict.fromkeys( ['sci.med'],'medicine') \n",
    "# }\n",
    "# df['label']=df['label'].map(cat_dict)\n",
    "\n",
    "label_encoder = LabelEncoder()  \n",
    "# Encode labels in column 'species'.\n",
    "df['target']= label_encoder.fit_transform(df['label'])\n",
    "\n",
    "df = df.sample(frac = 1)\n",
    "# dependent and independent variable\n",
    "X_test = df['text']\n",
    "y_test = df['label']\n",
    "#_____________________________________________________________________________________________________________________________________________"
   ]
  },
  {
   "cell_type": "code",
   "execution_count": null,
   "id": "08e0249c",
   "metadata": {},
   "outputs": [],
   "source": [
    "y_pred  = fitted_pipe.predict(X)"
   ]
  },
  {
   "cell_type": "code",
   "execution_count": null,
   "id": "87b2ffb9",
   "metadata": {},
   "outputs": [],
   "source": []
  },
  {
   "cell_type": "code",
   "execution_count": null,
   "id": "62dce824",
   "metadata": {},
   "outputs": [],
   "source": []
  },
  {
   "cell_type": "code",
   "execution_count": null,
   "id": "439ac108",
   "metadata": {},
   "outputs": [],
   "source": []
  }
 ],
 "metadata": {
  "kernelspec": {
   "display_name": "Python 3 (ipykernel)",
   "language": "python",
   "name": "python3"
  },
  "language_info": {
   "codemirror_mode": {
    "name": "ipython",
    "version": 3
   },
   "file_extension": ".py",
   "mimetype": "text/x-python",
   "name": "python",
   "nbconvert_exporter": "python",
   "pygments_lexer": "ipython3",
   "version": "3.8.5"
  }
 },
 "nbformat": 4,
 "nbformat_minor": 5
}
