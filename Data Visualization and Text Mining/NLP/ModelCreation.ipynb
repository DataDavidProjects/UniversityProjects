{
 "cells": [
  {
   "cell_type": "code",
   "execution_count": 154,
   "id": "e6b90bed",
   "metadata": {},
   "outputs": [],
   "source": [
    "import pandas as pd \n",
    "import numpy as np \n",
    "import matplotlib.pyplot as plt\n",
    "import os\n",
    "from os.path import isfile, join\n",
    "import string\n",
    "import time\n",
    "import re\n",
    "from string import punctuation\n",
    "import sys\n",
    "\n",
    "import nltk\n",
    "from nltk.stem import WordNetLemmatizer\n",
    "from nltk.corpus import stopwords \n",
    "import spacy\n",
    "nlp = spacy.load('en_core_web_sm')\n",
    "from nltk.tokenize import RegexpTokenizer\n",
    "\n",
    "from sklearn.datasets import fetch_20newsgroups\n",
    "from sklearn.preprocessing import LabelEncoder , StandardScaler , MaxAbsScaler \n",
    "from sklearn.pipeline import Pipeline\n",
    "from sklearn.model_selection import GridSearchCV\n",
    "from sklearn.model_selection import StratifiedKFold\n",
    "from sklearn.preprocessing import FunctionTransformer\n",
    "from sklearn.base import TransformerMixin\n",
    "from sklearn.model_selection import train_test_split\n",
    "from sklearn.metrics import *\n",
    "from sklearn.feature_extraction.text import CountVectorizer ,TfidfVectorizer\n",
    "import itertools\n",
    "\n",
    "import tensorflow as tf\n",
    "from keras.wrappers.scikit_learn import KerasClassifier\n",
    "from keras.layers import Dense, Input, Dropout\n",
    "from keras import Sequential\n",
    "from keras import metrics\n",
    "\n",
    "\n",
    "def plot_confusion_matrix(cm, classes,\n",
    "                          normalize=False,\n",
    "                          title='Confusion matrix',\n",
    "                          cmap=plt.cm.Blues):\n",
    "    if normalize:\n",
    "        cm = cm.astype('float') / cm.sum(axis=1)[:, np.newaxis]\n",
    "        print(\"Normalized confusion matrix\")\n",
    "    else:\n",
    "        print('Confusion matrix, without normalization')\n",
    "\n",
    "    # print(cm)\n",
    "\n",
    "    plt.imshow(cm, interpolation='nearest', cmap=cmap)\n",
    "    plt.title(title)\n",
    "    plt.colorbar()\n",
    "    tick_marks = np.arange(len(classes))\n",
    "    plt.xticks(tick_marks, classes, rotation=90)\n",
    "    plt.yticks(tick_marks, classes)\n",
    "\n",
    "    fmt = '.2f' if normalize else 'd'\n",
    "    thresh = cm.max() / 2.\n",
    "    for i, j in itertools.product(range(cm.shape[0]), range(cm.shape[1])):\n",
    "        plt.text(j, i, format(cm[i, j], fmt),\n",
    "                 horizontalalignment=\"center\",\n",
    "                 color=\"white\" if cm[i, j] > thresh else \"black\")\n",
    "\n",
    "    plt.tight_layout()\n",
    "    plt.ylabel('True label')\n",
    "    plt.xlabel('Predicted label')\n",
    "\n",
    "def timing(f):\n",
    "    def wrap(*args, **kwargs):\n",
    "        time1 = time.time()\n",
    "        ret = f(*args, **kwargs)\n",
    "        time2 = time.time()\n",
    "        print('{:s} function took {:.3f} ms'.format(f.__name__, (time2-time1)*1000.0))\n",
    "\n",
    "        return ret\n",
    "    return wrap\n",
    "\n",
    "\n",
    "#Need OPT\n",
    "def spacy_preprocessing(text_format):\n",
    "        \n",
    "    def combine_text(list_of_text):\n",
    "            combined_text = ' '.join(list_of_text)\n",
    "            return combined_text\n",
    "        \n",
    "    doc  = nlp(text_format)\n",
    "    tokens_list  = [ token for token in doc if not token.is_punct and not token.is_space and token.is_alpha]\n",
    "    filter_token_sw = [token.lemma_ for token in tokens_list if token.lower_ not in stopwords.words('english')]\n",
    "   \n",
    "    return combine_text(filter_token_sw)\n",
    "\n",
    "from wordcloud import WordCloud, ImageColorGenerator\n",
    "from collections import Counter\n",
    "\n",
    "wc = WordCloud()"
   ]
  },
  {
   "cell_type": "markdown",
   "id": "2780c6ed",
   "metadata": {},
   "source": [
    "# Data Acquisition"
   ]
  },
  {
   "cell_type": "code",
   "execution_count": 25,
   "id": "d6768ac2",
   "metadata": {},
   "outputs": [
    {
     "data": {
      "text/plain": [
       "computer      2936\n",
       "science       1779\n",
       "politics      1575\n",
       "sport         1197\n",
       "automobile    1192\n",
       "religion       976\n",
       "medicine       594\n",
       "sales          585\n",
       "Name: label, dtype: int64"
      ]
     },
     "execution_count": 25,
     "metadata": {},
     "output_type": "execute_result"
    }
   ],
   "source": [
    "#______________________________________________________ DATA INGESTION___________________________________________________________________\n",
    "dataset = fetch_20newsgroups(subset='train', remove=('headers', 'footers', 'quotes'), shuffle=True, random_state=42)\n",
    "df = pd.DataFrame()\n",
    "df['text'] = dataset.data\n",
    "df['source'] = dataset.target\n",
    "label=[]\n",
    "for i in df['source']:\n",
    "    label.append(dataset.target_names[i])\n",
    "df['label']=label\n",
    "df.drop(['source'],axis=1,inplace=True)\n",
    "\n",
    "\n",
    "\n",
    "#++++++++++++++++++++++++++++++++++++++++Macro Categories++++++++++++++++++++++++++++++++++++++++++++++++++++++++++++++++++++++++++++++++++\n",
    "key_categories = ['politics','sport','religion','computer','sales','automobile','science','medicine']\n",
    "cat_dict = {\n",
    "**dict.fromkeys(['talk.politics.misc','talk.politics.guns','talk.politics.mideast'],'politics'),\n",
    "**dict.fromkeys( ['rec.sport.hockey','rec.sport.baseball'],'sport'),\n",
    "**dict.fromkeys( ['soc.religion.christian','talk.religion.misc'],'religion'),\n",
    "**dict.fromkeys(['comp.windows.x','comp.sys.ibm.pc.hardware','comp.os.ms-windows.misc','comp.graphics','comp.sys.mac.hardware'],'computer'),\n",
    "**dict.fromkeys( ['misc.forsale'],'sales'),\n",
    "**dict.fromkeys( ['rec.autos','rec.motorcycles'],'automobile'),\n",
    "**dict.fromkeys( ['sci.crypt','sci.electronics','sci.space'],'science'),\n",
    "**dict.fromkeys( ['sci.med'],'medicine') \n",
    "}\n",
    "df['label']=df['label'].map(cat_dict)\n",
    "#++++++++++++++++++++++++++++++++++++++++++++++++++++++++++++++++++++++++++++++++++++++++++++++++++++++++++++++++++++++++++++++++++++++++++\n",
    "\n",
    "label_encoder = LabelEncoder()  \n",
    "# Encode labels in column \n",
    "df['target']= label_encoder.fit_transform(df['label'])\n",
    "\n",
    "df = df.sample(frac = 1)\n",
    "# dependent and independent variable\n",
    "X = df['text']\n",
    "y = df['target']\n",
    "\n",
    "df['label'].value_counts()\n",
    "#_____________________________________________________________________________________________________________________________________________"
   ]
  },
  {
   "cell_type": "code",
   "execution_count": 56,
   "id": "ab154a54",
   "metadata": {},
   "outputs": [],
   "source": [
    "df = df.dropna()"
   ]
  },
  {
   "cell_type": "markdown",
   "id": "6d875c08",
   "metadata": {},
   "source": [
    "# Exploratory Data Analysis"
   ]
  },
  {
   "cell_type": "code",
   "execution_count": 32,
   "id": "2c68b971",
   "metadata": {},
   "outputs": [
    {
     "name": "stdout",
     "output_type": "stream",
     "text": [
      "(11314, 3)\n"
     ]
    },
    {
     "data": {
      "text/html": [
       "<div>\n",
       "<style scoped>\n",
       "    .dataframe tbody tr th:only-of-type {\n",
       "        vertical-align: middle;\n",
       "    }\n",
       "\n",
       "    .dataframe tbody tr th {\n",
       "        vertical-align: top;\n",
       "    }\n",
       "\n",
       "    .dataframe thead th {\n",
       "        text-align: right;\n",
       "    }\n",
       "</style>\n",
       "<table border=\"1\" class=\"dataframe\">\n",
       "  <thead>\n",
       "    <tr style=\"text-align: right;\">\n",
       "      <th></th>\n",
       "      <th>text</th>\n",
       "      <th>label</th>\n",
       "      <th>target</th>\n",
       "    </tr>\n",
       "  </thead>\n",
       "  <tbody>\n",
       "    <tr>\n",
       "      <th>768</th>\n",
       "      <td>\\nThe oclock widget was written using the SHAP...</td>\n",
       "      <td>computer</td>\n",
       "      <td>1</td>\n",
       "    </tr>\n",
       "    <tr>\n",
       "      <th>2662</th>\n",
       "      <td>I have a quick question regarding the Rockwell...</td>\n",
       "      <td>computer</td>\n",
       "      <td>1</td>\n",
       "    </tr>\n",
       "    <tr>\n",
       "      <th>7561</th>\n",
       "      <td>\\nI have the same problem.  I have looked at M...</td>\n",
       "      <td>computer</td>\n",
       "      <td>1</td>\n",
       "    </tr>\n",
       "    <tr>\n",
       "      <th>8347</th>\n",
       "      <td>AHL CALDER CUP PLAYOFF GAME(S) PLAYED ON 4/16\\...</td>\n",
       "      <td>sport</td>\n",
       "      <td>7</td>\n",
       "    </tr>\n",
       "    <tr>\n",
       "      <th>1412</th>\n",
       "      <td>\\nIn the case of victimless crimes yes, I thin...</td>\n",
       "      <td>politics</td>\n",
       "      <td>3</td>\n",
       "    </tr>\n",
       "  </tbody>\n",
       "</table>\n",
       "</div>"
      ],
      "text/plain": [
       "                                                   text     label  target\n",
       "768   \\nThe oclock widget was written using the SHAP...  computer       1\n",
       "2662  I have a quick question regarding the Rockwell...  computer       1\n",
       "7561  \\nI have the same problem.  I have looked at M...  computer       1\n",
       "8347  AHL CALDER CUP PLAYOFF GAME(S) PLAYED ON 4/16\\...     sport       7\n",
       "1412  \\nIn the case of victimless crimes yes, I thin...  politics       3"
      ]
     },
     "execution_count": 32,
     "metadata": {},
     "output_type": "execute_result"
    }
   ],
   "source": [
    "print(df.shape)\n",
    "df.head()"
   ]
  },
  {
   "cell_type": "code",
   "execution_count": 3,
   "id": "0e93788b",
   "metadata": {},
   "outputs": [
    {
     "data": {
      "text/plain": [
       "computer      2936\n",
       "science       1779\n",
       "politics      1575\n",
       "sport         1197\n",
       "automobile    1192\n",
       "religion       976\n",
       "medicine       594\n",
       "sales          585\n",
       "Name: label, dtype: int64"
      ]
     },
     "execution_count": 3,
     "metadata": {},
     "output_type": "execute_result"
    }
   ],
   "source": [
    "df['label'].value_counts()"
   ]
  },
  {
   "cell_type": "markdown",
   "id": "13f964e9",
   "metadata": {},
   "source": [
    "### Sample for EDA"
   ]
  },
  {
   "cell_type": "code",
   "execution_count": 30,
   "id": "5a8f8b0c",
   "metadata": {},
   "outputs": [],
   "source": [
    "df_s = df.sample(500)\n",
    "df_s['spacy_obj'] = df_s['text'].apply(lambda x:nlp(x))\n",
    "df_s['label'].value_counts()"
   ]
  },
  {
   "cell_type": "code",
   "execution_count": 43,
   "id": "02d794c1",
   "metadata": {},
   "outputs": [
    {
     "data": {
      "text/html": [
       "<div>\n",
       "<style scoped>\n",
       "    .dataframe tbody tr th:only-of-type {\n",
       "        vertical-align: middle;\n",
       "    }\n",
       "\n",
       "    .dataframe tbody tr th {\n",
       "        vertical-align: top;\n",
       "    }\n",
       "\n",
       "    .dataframe thead th {\n",
       "        text-align: right;\n",
       "    }\n",
       "</style>\n",
       "<table border=\"1\" class=\"dataframe\">\n",
       "  <thead>\n",
       "    <tr style=\"text-align: right;\">\n",
       "      <th></th>\n",
       "      <th>text</th>\n",
       "      <th>label</th>\n",
       "      <th>target</th>\n",
       "      <th>spacy_obj</th>\n",
       "    </tr>\n",
       "  </thead>\n",
       "  <tbody>\n",
       "    <tr>\n",
       "      <th>10727</th>\n",
       "      <td>I bought the diamond stealth 24 a few months a...</td>\n",
       "      <td>computer</td>\n",
       "      <td>1</td>\n",
       "      <td>(I, bought, the, diamond, stealth, 24, a, few,...</td>\n",
       "    </tr>\n",
       "  </tbody>\n",
       "</table>\n",
       "</div>"
      ],
      "text/plain": [
       "                                                    text     label  target  \\\n",
       "10727  I bought the diamond stealth 24 a few months a...  computer       1   \n",
       "\n",
       "                                               spacy_obj  \n",
       "10727  (I, bought, the, diamond, stealth, 24, a, few,...  "
      ]
     },
     "execution_count": 43,
     "metadata": {},
     "output_type": "execute_result"
    }
   ],
   "source": [
    "sample = df_s.sample(1)\n",
    "sample"
   ]
  },
  {
   "cell_type": "code",
   "execution_count": 45,
   "id": "7bc65f50",
   "metadata": {},
   "outputs": [
    {
     "name": "stdout",
     "output_type": "stream",
     "text": [
      "I bought the diamond stealth 24 a few months ago.  it seems to be a\n",
      "great card especially with my multimedia presentations.  It runs graphics\n",
      "and animation as well as some near full motion video very well.  The only\n",
      "thing I can tell that it lacks is speed above 256 colors.  Its qualit in\n",
      "between 256 and 16.7 million collors un unreal but you definitly\n",
      "compromise speed.  It seems to be a great card for graphics and it comes\n",
      "with some great software, but Im not so sure about the excelerator\n",
      "part.  I used to own a paridise and it doesnt seem to be much faster\n",
      "than that.  One thing I do like is that it loads its own vesa driver\n",
      "from ROM at startup, (I think) because I have never had to load it for\n",
      "links386 or any other programs that require special VESA drivers at\n",
      "startup. \n",
      "\n",
      "\n",
      "\n",
      "gromi a16pd\n",
      "\n",
      "\n",
      "                                       HINTMATT@BA.BA.ISU.EDU\n",
      "\n",
      "\n",
      " 10727    computer\n",
      "Name: label, dtype: object\n"
     ]
    }
   ],
   "source": [
    "print(sample.text.values[0] ,sample.label)"
   ]
  },
  {
   "cell_type": "code",
   "execution_count": 115,
   "id": "a143ae8a",
   "metadata": {},
   "outputs": [
    {
     "data": {
      "text/html": [
       "<div>\n",
       "<style scoped>\n",
       "    .dataframe tbody tr th:only-of-type {\n",
       "        vertical-align: middle;\n",
       "    }\n",
       "\n",
       "    .dataframe tbody tr th {\n",
       "        vertical-align: top;\n",
       "    }\n",
       "\n",
       "    .dataframe thead th {\n",
       "        text-align: right;\n",
       "    }\n",
       "</style>\n",
       "<table border=\"1\" class=\"dataframe\">\n",
       "  <thead>\n",
       "    <tr style=\"text-align: right;\">\n",
       "      <th></th>\n",
       "      <th>text</th>\n",
       "      <th>label</th>\n",
       "      <th>target</th>\n",
       "      <th>spacy_obj</th>\n",
       "    </tr>\n",
       "  </thead>\n",
       "  <tbody>\n",
       "    <tr>\n",
       "      <th>10727</th>\n",
       "      <td>I bought the diamond stealth 24 a few months a...</td>\n",
       "      <td>computer</td>\n",
       "      <td>1</td>\n",
       "      <td>(I, bought, the, diamond, stealth, 24, a, few,...</td>\n",
       "    </tr>\n",
       "  </tbody>\n",
       "</table>\n",
       "</div>"
      ],
      "text/plain": [
       "                                                    text     label  target  \\\n",
       "10727  I bought the diamond stealth 24 a few months a...  computer       1   \n",
       "\n",
       "                                               spacy_obj  \n",
       "10727  (I, bought, the, diamond, stealth, 24, a, few,...  "
      ]
     },
     "execution_count": 115,
     "metadata": {},
     "output_type": "execute_result"
    }
   ],
   "source": [
    "sample"
   ]
  },
  {
   "cell_type": "code",
   "execution_count": 124,
   "id": "55a2d754",
   "metadata": {},
   "outputs": [
    {
     "data": {
      "text/plain": [
       "146"
      ]
     },
     "execution_count": 124,
     "metadata": {},
     "output_type": "execute_result"
    }
   ],
   "source": [
    "len([token.text for token in nlp(sample.text.values[0]) if token.is_alpha ])"
   ]
  },
  {
   "cell_type": "code",
   "execution_count": 125,
   "id": "939648bd",
   "metadata": {},
   "outputs": [
    {
     "data": {
      "text/plain": [
       "101"
      ]
     },
     "execution_count": 125,
     "metadata": {},
     "output_type": "execute_result"
    }
   ],
   "source": [
    "len(set([token.text for token in nlp(sample.text.values[0]) if token.is_alpha ]))"
   ]
  },
  {
   "cell_type": "markdown",
   "id": "5dce34ae",
   "metadata": {},
   "source": [
    "## Example of Preprocessing"
   ]
  },
  {
   "cell_type": "code",
   "execution_count": 89,
   "id": "3d78f415",
   "metadata": {},
   "outputs": [
    {
     "data": {
      "text/html": [
       "<div>\n",
       "<style scoped>\n",
       "    .dataframe tbody tr th:only-of-type {\n",
       "        vertical-align: middle;\n",
       "    }\n",
       "\n",
       "    .dataframe tbody tr th {\n",
       "        vertical-align: top;\n",
       "    }\n",
       "\n",
       "    .dataframe thead th {\n",
       "        text-align: right;\n",
       "    }\n",
       "</style>\n",
       "<table border=\"1\" class=\"dataframe\">\n",
       "  <thead>\n",
       "    <tr style=\"text-align: right;\">\n",
       "      <th></th>\n",
       "      <th>text</th>\n",
       "      <th>label</th>\n",
       "      <th>target</th>\n",
       "      <th>spacy_obj</th>\n",
       "      <th>tokens</th>\n",
       "      <th>is_alpha_pure</th>\n",
       "      <th>is_alpha_num</th>\n",
       "      <th>len_text</th>\n",
       "      <th>n_unique_text</th>\n",
       "      <th>richness_text</th>\n",
       "    </tr>\n",
       "  </thead>\n",
       "  <tbody>\n",
       "    <tr>\n",
       "      <th>4652</th>\n",
       "      <td>Here's a list of 800 numbers I have compiled f...</td>\n",
       "      <td>computer</td>\n",
       "      <td>1</td>\n",
       "      <td>(Here, 's, a, list, of, 800, numbers, I, have,...</td>\n",
       "      <td>[Here, 's, a, list, of, 800, numbers, I, have,...</td>\n",
       "      <td>[Here, a, list, of, numbers, I, have, compiled...</td>\n",
       "      <td>['s, 800, ..., \\n, ?, \\n\\n, 's, ,, ,, n't, \\n,...</td>\n",
       "      <td>2861</td>\n",
       "      <td>179</td>\n",
       "      <td>0.062566</td>\n",
       "    </tr>\n",
       "    <tr>\n",
       "      <th>3041</th>\n",
       "      <td>UPI Clarinet has just relayed a \"scoop\" from t...</td>\n",
       "      <td>sport</td>\n",
       "      <td>7</td>\n",
       "      <td>(UPI, Clarinet, has, just, relayed, a, \", scoo...</td>\n",
       "      <td>[UPI, Clarinet, has, just, relayed, a, \", scoo...</td>\n",
       "      <td>[UPI, Clarinet, has, just, relayed, a, scoop, ...</td>\n",
       "      <td>[\", \", \\n, (, ?,  , ..., ), \\n, \\n, .,  , ,, \\...</td>\n",
       "      <td>377</td>\n",
       "      <td>67</td>\n",
       "      <td>0.177719</td>\n",
       "    </tr>\n",
       "    <tr>\n",
       "      <th>6029</th>\n",
       "      <td>\\n\\nWell, it all depends on the motherboard im...</td>\n",
       "      <td>computer</td>\n",
       "      <td>1</td>\n",
       "      <td>(\\n\\n, Well, ,, it, all, depends, on, the, mot...</td>\n",
       "      <td>[\\n\\n, Well, ,, it, all, depends, on, the, mot...</td>\n",
       "      <td>[Well, it, all, depends, on, the, motherboard,...</td>\n",
       "      <td>[\\n\\n, ,, ., \\n\\n, 'm, 1x9, \\n, .,  , 'm, \\n, ...</td>\n",
       "      <td>219</td>\n",
       "      <td>35</td>\n",
       "      <td>0.159817</td>\n",
       "    </tr>\n",
       "    <tr>\n",
       "      <th>11185</th>\n",
       "      <td>\\nThis should not be the case if they are at a...</td>\n",
       "      <td>automobile</td>\n",
       "      <td>0</td>\n",
       "      <td>(\\n, This, should, not, be, the, case, if, the...</td>\n",
       "      <td>[\\n, This, should, not, be, the, case, if, the...</td>\n",
       "      <td>[This, should, not, be, the, case, if, they, a...</td>\n",
       "      <td>[\\n, ., \\n, \\n, ., \\n, ., \\n, ,, ., \\n, (, $, ...</td>\n",
       "      <td>997</td>\n",
       "      <td>177</td>\n",
       "      <td>0.177533</td>\n",
       "    </tr>\n",
       "    <tr>\n",
       "      <th>6907</th>\n",
       "      <td>\\n\\nMore like Philadelphia making dust out of...</td>\n",
       "      <td>sport</td>\n",
       "      <td>7</td>\n",
       "      <td>( \\n\\n, More, like, Philadelphia, making, dust...</td>\n",
       "      <td>[ \\n\\n, More, like, Philadelphia, making, dust...</td>\n",
       "      <td>[More, like, Philadelphia, making, dust, out, ...</td>\n",
       "      <td>[ \\n\\n, ., \\n, ?, \\n\\n, .,  , \\n, \", \", \\n, .,...</td>\n",
       "      <td>293</td>\n",
       "      <td>49</td>\n",
       "      <td>0.167235</td>\n",
       "    </tr>\n",
       "    <tr>\n",
       "      <th>...</th>\n",
       "      <td>...</td>\n",
       "      <td>...</td>\n",
       "      <td>...</td>\n",
       "      <td>...</td>\n",
       "      <td>...</td>\n",
       "      <td>...</td>\n",
       "      <td>...</td>\n",
       "      <td>...</td>\n",
       "      <td>...</td>\n",
       "      <td>...</td>\n",
       "    </tr>\n",
       "    <tr>\n",
       "      <th>9161</th>\n",
       "      <td>Osinski):\\nyears.\\ncity\\n\\nAre you one of thos...</td>\n",
       "      <td>politics</td>\n",
       "      <td>3</td>\n",
       "      <td>(Osinski, ):, \\n, years, ., \\n, city, \\n\\n, Ar...</td>\n",
       "      <td>[Osinski, ):, \\n, years, ., \\n, city, \\n\\n, Ar...</td>\n",
       "      <td>[Osinski, years, city, Are, you, one, of, thos...</td>\n",
       "      <td>[):, \\n, ., \\n, \\n\\n, \\n, ?, n't, !, \\n, ,, .,...</td>\n",
       "      <td>489</td>\n",
       "      <td>84</td>\n",
       "      <td>0.171779</td>\n",
       "    </tr>\n",
       "    <tr>\n",
       "      <th>7085</th>\n",
       "      <td>\\n\\n\\n\\nStrictly speaking, you're right - we c...</td>\n",
       "      <td>religion</td>\n",
       "      <td>4</td>\n",
       "      <td>(\\n\\n\\n\\n, Strictly, speaking, ,, you, 're, ri...</td>\n",
       "      <td>[\\n\\n\\n\\n, Strictly, speaking, ,, you, 're, ri...</td>\n",
       "      <td>[Strictly, speaking, you, right, we, ca, repen...</td>\n",
       "      <td>[\\n\\n\\n\\n, ,, 're, -, n't, _, _, ,, \\n, 've, ....</td>\n",
       "      <td>1249</td>\n",
       "      <td>212</td>\n",
       "      <td>0.169736</td>\n",
       "    </tr>\n",
       "    <tr>\n",
       "      <th>9905</th>\n",
       "      <td>\\nI sometimes wonder if Kekule's dream wasn't ...</td>\n",
       "      <td>medicine</td>\n",
       "      <td>2</td>\n",
       "      <td>(\\n, I, sometimes, wonder, if, Kekule, 's, dre...</td>\n",
       "      <td>[\\n, I, sometimes, wonder, if, Kekule, 's, dre...</td>\n",
       "      <td>[I, sometimes, wonder, if, Kekule, dream, was,...</td>\n",
       "      <td>[\\n, 's, n't, \\n, ;-), ., \\n\\n]</td>\n",
       "      <td>112</td>\n",
       "      <td>18</td>\n",
       "      <td>0.160714</td>\n",
       "    </tr>\n",
       "    <tr>\n",
       "      <th>1129</th>\n",
       "      <td>\\n\\nThe next time you go to church, you can ch...</td>\n",
       "      <td>religion</td>\n",
       "      <td>4</td>\n",
       "      <td>(\\n\\n, The, next, time, you, go, to, church, ,...</td>\n",
       "      <td>[\\n\\n, The, next, time, you, go, to, church, ,...</td>\n",
       "      <td>[The, next, time, you, go, to, church, you, ca...</td>\n",
       "      <td>[\\n\\n, ,, ,, ,, \\n, .,  , 's, \\n, a'soul, ?, \\...</td>\n",
       "      <td>1436</td>\n",
       "      <td>241</td>\n",
       "      <td>0.167827</td>\n",
       "    </tr>\n",
       "    <tr>\n",
       "      <th>7894</th>\n",
       "      <td>\\n: I wonder how many atheists out there care...</td>\n",
       "      <td>NaN</td>\n",
       "      <td>8</td>\n",
       "      <td>( \\n, :, I, wonder, how, many, atheists, out, ...</td>\n",
       "      <td>[ \\n, :, I, wonder, how, many, atheists, out, ...</td>\n",
       "      <td>[I, wonder, how, many, atheists, out, there, c...</td>\n",
       "      <td>[ \\n, :, \\n, :,  , \\n, :, ., \\n\\n, 've, \\n, .,...</td>\n",
       "      <td>2658</td>\n",
       "      <td>448</td>\n",
       "      <td>0.168548</td>\n",
       "    </tr>\n",
       "  </tbody>\n",
       "</table>\n",
       "<p>500 rows × 10 columns</p>\n",
       "</div>"
      ],
      "text/plain": [
       "                                                    text       label  target  \\\n",
       "4652   Here's a list of 800 numbers I have compiled f...    computer       1   \n",
       "3041   UPI Clarinet has just relayed a \"scoop\" from t...       sport       7   \n",
       "6029   \\n\\nWell, it all depends on the motherboard im...    computer       1   \n",
       "11185  \\nThis should not be the case if they are at a...  automobile       0   \n",
       "6907    \\n\\nMore like Philadelphia making dust out of...       sport       7   \n",
       "...                                                  ...         ...     ...   \n",
       "9161   Osinski):\\nyears.\\ncity\\n\\nAre you one of thos...    politics       3   \n",
       "7085   \\n\\n\\n\\nStrictly speaking, you're right - we c...    religion       4   \n",
       "9905   \\nI sometimes wonder if Kekule's dream wasn't ...    medicine       2   \n",
       "1129   \\n\\nThe next time you go to church, you can ch...    religion       4   \n",
       "7894    \\n: I wonder how many atheists out there care...         NaN       8   \n",
       "\n",
       "                                               spacy_obj  \\\n",
       "4652   (Here, 's, a, list, of, 800, numbers, I, have,...   \n",
       "3041   (UPI, Clarinet, has, just, relayed, a, \", scoo...   \n",
       "6029   (\\n\\n, Well, ,, it, all, depends, on, the, mot...   \n",
       "11185  (\\n, This, should, not, be, the, case, if, the...   \n",
       "6907   ( \\n\\n, More, like, Philadelphia, making, dust...   \n",
       "...                                                  ...   \n",
       "9161   (Osinski, ):, \\n, years, ., \\n, city, \\n\\n, Ar...   \n",
       "7085   (\\n\\n\\n\\n, Strictly, speaking, ,, you, 're, ri...   \n",
       "9905   (\\n, I, sometimes, wonder, if, Kekule, 's, dre...   \n",
       "1129   (\\n\\n, The, next, time, you, go, to, church, ,...   \n",
       "7894   ( \\n, :, I, wonder, how, many, atheists, out, ...   \n",
       "\n",
       "                                                  tokens  \\\n",
       "4652   [Here, 's, a, list, of, 800, numbers, I, have,...   \n",
       "3041   [UPI, Clarinet, has, just, relayed, a, \", scoo...   \n",
       "6029   [\\n\\n, Well, ,, it, all, depends, on, the, mot...   \n",
       "11185  [\\n, This, should, not, be, the, case, if, the...   \n",
       "6907   [ \\n\\n, More, like, Philadelphia, making, dust...   \n",
       "...                                                  ...   \n",
       "9161   [Osinski, ):, \\n, years, ., \\n, city, \\n\\n, Ar...   \n",
       "7085   [\\n\\n\\n\\n, Strictly, speaking, ,, you, 're, ri...   \n",
       "9905   [\\n, I, sometimes, wonder, if, Kekule, 's, dre...   \n",
       "1129   [\\n\\n, The, next, time, you, go, to, church, ,...   \n",
       "7894   [ \\n, :, I, wonder, how, many, atheists, out, ...   \n",
       "\n",
       "                                           is_alpha_pure  \\\n",
       "4652   [Here, a, list, of, numbers, I, have, compiled...   \n",
       "3041   [UPI, Clarinet, has, just, relayed, a, scoop, ...   \n",
       "6029   [Well, it, all, depends, on, the, motherboard,...   \n",
       "11185  [This, should, not, be, the, case, if, they, a...   \n",
       "6907   [More, like, Philadelphia, making, dust, out, ...   \n",
       "...                                                  ...   \n",
       "9161   [Osinski, years, city, Are, you, one, of, thos...   \n",
       "7085   [Strictly, speaking, you, right, we, ca, repen...   \n",
       "9905   [I, sometimes, wonder, if, Kekule, dream, was,...   \n",
       "1129   [The, next, time, you, go, to, church, you, ca...   \n",
       "7894   [I, wonder, how, many, atheists, out, there, c...   \n",
       "\n",
       "                                            is_alpha_num  len_text  \\\n",
       "4652   ['s, 800, ..., \\n, ?, \\n\\n, 's, ,, ,, n't, \\n,...      2861   \n",
       "3041   [\", \", \\n, (, ?,  , ..., ), \\n, \\n, .,  , ,, \\...       377   \n",
       "6029   [\\n\\n, ,, ., \\n\\n, 'm, 1x9, \\n, .,  , 'm, \\n, ...       219   \n",
       "11185  [\\n, ., \\n, \\n, ., \\n, ., \\n, ,, ., \\n, (, $, ...       997   \n",
       "6907   [ \\n\\n, ., \\n, ?, \\n\\n, .,  , \\n, \", \", \\n, .,...       293   \n",
       "...                                                  ...       ...   \n",
       "9161   [):, \\n, ., \\n, \\n\\n, \\n, ?, n't, !, \\n, ,, .,...       489   \n",
       "7085   [\\n\\n\\n\\n, ,, 're, -, n't, _, _, ,, \\n, 've, ....      1249   \n",
       "9905                     [\\n, 's, n't, \\n, ;-), ., \\n\\n]       112   \n",
       "1129   [\\n\\n, ,, ,, ,, \\n, .,  , 's, \\n, a'soul, ?, \\...      1436   \n",
       "7894   [ \\n, :, \\n, :,  , \\n, :, ., \\n\\n, 've, \\n, .,...      2658   \n",
       "\n",
       "       n_unique_text  richness_text  \n",
       "4652             179       0.062566  \n",
       "3041              67       0.177719  \n",
       "6029              35       0.159817  \n",
       "11185            177       0.177533  \n",
       "6907              49       0.167235  \n",
       "...              ...            ...  \n",
       "9161              84       0.171779  \n",
       "7085             212       0.169736  \n",
       "9905              18       0.160714  \n",
       "1129             241       0.167827  \n",
       "7894             448       0.168548  \n",
       "\n",
       "[500 rows x 10 columns]"
      ]
     },
     "execution_count": 89,
     "metadata": {},
     "output_type": "execute_result"
    }
   ],
   "source": [
    "df_s"
   ]
  },
  {
   "cell_type": "code",
   "execution_count": 66,
   "id": "f770d098",
   "metadata": {},
   "outputs": [],
   "source": [
    "# df_s['tokens'] =\n",
    "df_s['tokens'] = df_s['spacy_obj'].apply(lambda x:list(x)  )"
   ]
  },
  {
   "cell_type": "code",
   "execution_count": 87,
   "id": "26193f97",
   "metadata": {},
   "outputs": [
    {
     "data": {
      "text/plain": [
       "4652     179\n",
       "3041      67\n",
       "6029      35\n",
       "11185    177\n",
       "6907      49\n",
       "        ... \n",
       "9161      84\n",
       "7085     212\n",
       "9905      18\n",
       "1129     241\n",
       "7894     448\n",
       "Name: is_alpha_pure, Length: 500, dtype: int64"
      ]
     },
     "execution_count": 87,
     "metadata": {},
     "output_type": "execute_result"
    }
   ],
   "source": [
    "df_s['is_alpha_pure'].apply(lambda x:len( set(x) ) )"
   ]
  },
  {
   "cell_type": "code",
   "execution_count": 126,
   "id": "c118f0e0",
   "metadata": {},
   "outputs": [],
   "source": [
    "df_s['is_alpha_pure'] = df_s['tokens'].apply(lambda x: [token.text for token in x if  token.is_alpha ] )\n",
    "df_s['is_alpha_num'] = df_s['tokens'].apply(lambda x: [token.text for token in x if  not token.is_alpha ] )\n",
    "df_s['len_text'] = df_s['text'].apply(lambda x: len(x) )\n",
    "df_s['unique_text'] = df_s['is_alpha_pure'].apply(lambda x: list(set(x)) ) \n",
    "df_s['n_unique_text'] = df_s['is_alpha_pure'].apply(lambda x:len( set(x) ) )\n",
    "df_s['richness_text'] = df_s['n_unique_text']/df_s['len_text'] "
   ]
  },
  {
   "cell_type": "code",
   "execution_count": 127,
   "id": "d38f2dca",
   "metadata": {},
   "outputs": [
    {
     "data": {
      "text/plain": [
       "<AxesSubplot:>"
      ]
     },
     "execution_count": 127,
     "metadata": {},
     "output_type": "execute_result"
    },
    {
     "data": {
      "image/png": "[encoded data removed]",
      "text/plain": [
       "<Figure size 432x288 with 1 Axes>"
      ]
     },
     "metadata": {
      "needs_background": "light"
     },
     "output_type": "display_data"
    }
   ],
   "source": [
    "df_s['richness_text'].hist()"
   ]
  },
  {
   "cell_type": "code",
   "execution_count": 177,
   "id": "256f5f71",
   "metadata": {},
   "outputs": [],
   "source": [
    "from itertools import chain\n",
    "group_class_docs = df_s.groupby('label')['unique_text'].apply(list) \n",
    "group_class_uniqe_texts = group_class_docs.apply(lambda x : list(itertools.chain(*x)))\n",
    "group_class_uniqe_texts.apply(lambda x:len(x)) \n",
    "a = group_class_uniqe_texts.apply(lambda x:str(' '.join(x)))"
   ]
  },
  {
   "cell_type": "code",
   "execution_count": 182,
   "id": "1fa8aa9c",
   "metadata": {},
   "outputs": [
    {
     "data": {
      "text/plain": [
       "str"
      ]
     },
     "execution_count": 182,
     "metadata": {},
     "output_type": "execute_result"
    }
   ],
   "source": [
    "type(a[0])"
   ]
  },
  {
   "cell_type": "code",
   "execution_count": null,
   "id": "b4830d35",
   "metadata": {},
   "outputs": [],
   "source": []
  },
  {
   "cell_type": "markdown",
   "id": "3001075c",
   "metadata": {},
   "source": [
    "# Preprocessing Pipeline"
   ]
  },
  {
   "cell_type": "code",
   "execution_count": null,
   "id": "470ce061",
   "metadata": {},
   "outputs": [],
   "source": [
    "# doc  = nlp('I  @  1223 am happy for your new promotion')\n",
    "# tokens_list  = [ token for token in doc if not token.is_punct and not token.is_space and token.is_alpha]\n",
    "# filter_token_sw = [token.lemma_ for token in tokens_list if token.lower_ not in stopwords.words('english')]\n",
    "# filter_token_sw"
   ]
  },
  {
   "cell_type": "code",
   "execution_count": 5,
   "id": "dd4b2065",
   "metadata": {},
   "outputs": [
    {
     "data": {
      "text/html": [
       "<div>\n",
       "<style scoped>\n",
       "    .dataframe tbody tr th:only-of-type {\n",
       "        vertical-align: middle;\n",
       "    }\n",
       "\n",
       "    .dataframe tbody tr th {\n",
       "        vertical-align: top;\n",
       "    }\n",
       "\n",
       "    .dataframe thead th {\n",
       "        text-align: right;\n",
       "    }\n",
       "</style>\n",
       "<table border=\"1\" class=\"dataframe\">\n",
       "  <thead>\n",
       "    <tr style=\"text-align: right;\">\n",
       "      <th></th>\n",
       "      <th>2</th>\n",
       "      <th>6</th>\n",
       "      <th>3</th>\n",
       "      <th>1</th>\n",
       "      <th>7</th>\n",
       "      <th>0</th>\n",
       "      <th>4</th>\n",
       "      <th>5</th>\n",
       "    </tr>\n",
       "  </thead>\n",
       "  <tbody>\n",
       "    <tr>\n",
       "      <th>target</th>\n",
       "      <td>585</td>\n",
       "      <td>585</td>\n",
       "      <td>585</td>\n",
       "      <td>585</td>\n",
       "      <td>585</td>\n",
       "      <td>585</td>\n",
       "      <td>585</td>\n",
       "      <td>585</td>\n",
       "    </tr>\n",
       "  </tbody>\n",
       "</table>\n",
       "</div>"
      ],
      "text/plain": [
       "          2    6    3    1    7    0    4    5\n",
       "target  585  585  585  585  585  585  585  585"
      ]
     },
     "execution_count": 5,
     "metadata": {},
     "output_type": "execute_result"
    }
   ],
   "source": [
    "# Proportions of labels\n",
    "pd.DataFrame(y.value_counts()).T"
   ]
  },
  {
   "cell_type": "markdown",
   "id": "2944e33a",
   "metadata": {},
   "source": [
    "### Downsampling Data"
   ]
  },
  {
   "cell_type": "code",
   "execution_count": 4,
   "id": "4eea7dec",
   "metadata": {},
   "outputs": [],
   "source": [
    "def downsample(df):\n",
    "    minority_frequency  = df['label'].value_counts()[-1]\n",
    "    minority_label = df['label'].value_counts().index[-1]\n",
    "    \n",
    "    df_balanced = df.loc[df['label'] == minority_label , : ].sample(minority_frequency).copy()\n",
    "    df_balanced = df_balanced.reset_index(drop = True)\n",
    "    \n",
    "    label_list = df['label'].value_counts().index.tolist()\n",
    "    #Sample and concat\n",
    "    for label in label_list:\n",
    "        if label != minority_label:\n",
    "            sample_df = df.loc[df['label'] == label , : ].sample(minority_frequency).copy()\n",
    "            df_balanced = pd.concat([ df_balanced , sample_df],axis = 0 , ignore_index=True) \n",
    "    # Shuffle data\n",
    "    df_balanced = df_balanced.sample(frac = 1).reset_index(drop = True)\n",
    "    \n",
    "    return df_balanced\n",
    "\n",
    "df_balanced = downsample(df)\n",
    "# dependent and independent variable\n",
    "X = df_balanced['text']\n",
    "y = df_balanced['target']"
   ]
  },
  {
   "cell_type": "code",
   "execution_count": 6,
   "id": "75fb598c",
   "metadata": {},
   "outputs": [],
   "source": [
    "\n",
    "\n",
    "    \n",
    "vec_prop = np.vectorize(spacy_preprocessing)\n",
    "pipe_spacy_preprocessing = FunctionTransformer(vec_prop)\n",
    "\n",
    "\n",
    "\n",
    "class DenseTransformer(TransformerMixin):\n",
    "\n",
    "    def fit(self, X, y=None, **fit_params):\n",
    "        return self\n",
    "\n",
    "    def transform(self, X, y=None, **fit_params):\n",
    "        return X.todense()\n",
    "    \n",
    "\n",
    "    \n",
    "\n",
    "prep_pipeline = Pipeline([\n",
    "                    ('text_preprocessing', pipe_spacy_preprocessing )\n",
    "                    ])\n",
    "\n",
    "# DEFINE LABELS IN OHE FORMAT\n",
    "yc = tf.keras.utils.to_categorical(y,num_classes = 20,dtype=int )"
   ]
  },
  {
   "cell_type": "code",
   "execution_count": 7,
   "id": "fd2c4bae",
   "metadata": {},
   "outputs": [
    {
     "data": {
      "text/plain": [
       "(4680,)"
      ]
     },
     "execution_count": 7,
     "metadata": {},
     "output_type": "execute_result"
    }
   ],
   "source": [
    "X.shape"
   ]
  },
  {
   "cell_type": "code",
   "execution_count": null,
   "id": "22910d23",
   "metadata": {},
   "outputs": [],
   "source": []
  },
  {
   "cell_type": "markdown",
   "id": "8bb8492c",
   "metadata": {},
   "source": [
    "# Model Pipeline"
   ]
  },
  {
   "cell_type": "markdown",
   "id": "d643dfea",
   "metadata": {},
   "source": [
    "### Hyperparameters fine-tuning"
   ]
  },
  {
   "cell_type": "code",
   "execution_count": 8,
   "id": "f6a47dd8",
   "metadata": {},
   "outputs": [],
   "source": [
    "# TF IDF DIMENSION will affect the model \n",
    "matrix_features  = 2500\n",
    "\n",
    "n_classes =y.nunique()\n",
    "def create_model(optimizer=\"adam\",\n",
    "                 dense_layer_sizes = False,\n",
    "                 dropout=0.1, init='uniform',\n",
    "                 features=matrix_features,neurons=20,\n",
    "                 n_classes = n_classes ):\n",
    "    \n",
    "    model = Sequential()\n",
    "    model.add(Dense(neurons, activation='relu', input_shape=(features,),kernel_initializer=init)) #\n",
    "    model.add(Dropout(dropout), )    \n",
    "\n",
    "    #for layer_size in dense_layer_sizes:\n",
    "    #   model.add(Dense(layer_size, activation='relu'))\n",
    "    #   model.add(Dropout(dropout), )    \n",
    "    \n",
    "    model.add(Dense(n_classes, activation='softmax'))\n",
    "    model.compile(loss='sparse_categorical_crossentropy',\n",
    "                  optimizer=optimizer,\n",
    "                  metrics=['sparse_categorical_crossentropy'])\n",
    "    return model\n",
    "\n",
    "#dense_layer_sizes = [[] , []]\n",
    "#param_grid = dict(neurons=neurons, epochs = epochs, batch_size =batch_size)\n",
    "\n",
    "param_grid = {\n",
    "    'tfidf__ngram_range': [(1,1), (1,2)],\n",
    "    'kc__epochs': [20,30,50],\n",
    "    'kc__neurons': [10, 20, 30, 100],\n",
    "    'kc__batch_size':[16, 32,50],\n",
    "    'kc__dropout': [ 0.3, 0.1, 0]\n",
    "}\n",
    "\n",
    "\n",
    "#StratifiedKFold(n_splits=2, shuffle=True)\n",
    "\n"
   ]
  },
  {
   "cell_type": "code",
   "execution_count": 9,
   "id": "18ffb66a",
   "metadata": {},
   "outputs": [
    {
     "name": "stderr",
     "output_type": "stream",
     "text": [
      "C:\\Users\\david\\AppData\\Local\\Temp/ipykernel_12480/1029838963.py:5: DeprecationWarning: KerasClassifier is deprecated, use Sci-Keras (https://github.com/adriangb/scikeras) instead.\n",
      "  ('kc' ,KerasClassifier(build_fn=create_model, verbose = 0))\n"
     ]
    }
   ],
   "source": [
    "model_pipeline = Pipeline([\n",
    "                    ('tfidf', TfidfVectorizer(use_idf = True,max_features=2500)),\n",
    "                    ('sparse_to_dense',DenseTransformer()),\n",
    "                    ('scaler', MaxAbsScaler()),\n",
    "                    ('kc' ,KerasClassifier(build_fn=create_model, verbose = 0))\n",
    "])\n",
    "\n",
    "folds = 3\n",
    "skf = StratifiedKFold(n_splits=folds, shuffle = True, random_state = 1001)\n",
    "grid = GridSearchCV(estimator=model_pipeline,\n",
    "                    verbose=1,\n",
    "                    cv=skf.split(X,y),\n",
    "                    param_grid=param_grid,\n",
    "                    scoring='accuracy')"
   ]
  },
  {
   "cell_type": "code",
   "execution_count": 10,
   "id": "6d4510ba",
   "metadata": {},
   "outputs": [
    {
     "data": {
      "text/html": [
       "<style>#sk-a5da72a3-b1a9-4f4c-9881-0801e4199e7b {color: black;background-color: white;}#sk-a5da72a3-b1a9-4f4c-9881-0801e4199e7b pre{padding: 0;}#sk-a5da72a3-b1a9-4f4c-9881-0801e4199e7b div.sk-toggleable {background-color: white;}#sk-a5da72a3-b1a9-4f4c-9881-0801e4199e7b label.sk-toggleable__label {cursor: pointer;display: block;width: 100%;margin-bottom: 0;padding: 0.3em;box-sizing: border-box;text-align: center;}#sk-a5da72a3-b1a9-4f4c-9881-0801e4199e7b div.sk-toggleable__content {max-height: 0;max-width: 0;overflow: hidden;text-align: left;background-color: #f0f8ff;}#sk-a5da72a3-b1a9-4f4c-9881-0801e4199e7b div.sk-toggleable__content pre {margin: 0.2em;color: black;border-radius: 0.25em;background-color: #f0f8ff;}#sk-a5da72a3-b1a9-4f4c-9881-0801e4199e7b input.sk-toggleable__control:checked~div.sk-toggleable__content {max-height: 200px;max-width: 100%;overflow: auto;}#sk-a5da72a3-b1a9-4f4c-9881-0801e4199e7b div.sk-estimator input.sk-toggleable__control:checked~label.sk-toggleable__label {background-color: #d4ebff;}#sk-a5da72a3-b1a9-4f4c-9881-0801e4199e7b div.sk-label input.sk-toggleable__control:checked~label.sk-toggleable__label {background-color: #d4ebff;}#sk-a5da72a3-b1a9-4f4c-9881-0801e4199e7b input.sk-hidden--visually {border: 0;clip: rect(1px 1px 1px 1px);clip: rect(1px, 1px, 1px, 1px);height: 1px;margin: -1px;overflow: hidden;padding: 0;position: absolute;width: 1px;}#sk-a5da72a3-b1a9-4f4c-9881-0801e4199e7b div.sk-estimator {font-family: monospace;background-color: #f0f8ff;border: 1px dotted black;border-radius: 0.25em;box-sizing: border-box;margin-bottom: 0.5em;}#sk-a5da72a3-b1a9-4f4c-9881-0801e4199e7b div.sk-estimator:hover {background-color: #d4ebff;}#sk-a5da72a3-b1a9-4f4c-9881-0801e4199e7b div.sk-parallel-item::after {content: \"\";width: 100%;border-bottom: 1px solid gray;flex-grow: 1;}#sk-a5da72a3-b1a9-4f4c-9881-0801e4199e7b div.sk-label:hover label.sk-toggleable__label {background-color: #d4ebff;}#sk-a5da72a3-b1a9-4f4c-9881-0801e4199e7b div.sk-serial::before {content: \"\";position: absolute;border-left: 1px solid gray;box-sizing: border-box;top: 2em;bottom: 0;left: 50%;}#sk-a5da72a3-b1a9-4f4c-9881-0801e4199e7b div.sk-serial {display: flex;flex-direction: column;align-items: center;background-color: white;padding-right: 0.2em;padding-left: 0.2em;}#sk-a5da72a3-b1a9-4f4c-9881-0801e4199e7b div.sk-item {z-index: 1;}#sk-a5da72a3-b1a9-4f4c-9881-0801e4199e7b div.sk-parallel {display: flex;align-items: stretch;justify-content: center;background-color: white;}#sk-a5da72a3-b1a9-4f4c-9881-0801e4199e7b div.sk-parallel::before {content: \"\";position: absolute;border-left: 1px solid gray;box-sizing: border-box;top: 2em;bottom: 0;left: 50%;}#sk-a5da72a3-b1a9-4f4c-9881-0801e4199e7b div.sk-parallel-item {display: flex;flex-direction: column;position: relative;background-color: white;}#sk-a5da72a3-b1a9-4f4c-9881-0801e4199e7b div.sk-parallel-item:first-child::after {align-self: flex-end;width: 50%;}#sk-a5da72a3-b1a9-4f4c-9881-0801e4199e7b div.sk-parallel-item:last-child::after {align-self: flex-start;width: 50%;}#sk-a5da72a3-b1a9-4f4c-9881-0801e4199e7b div.sk-parallel-item:only-child::after {width: 0;}#sk-a5da72a3-b1a9-4f4c-9881-0801e4199e7b div.sk-dashed-wrapped {border: 1px dashed gray;margin: 0 0.4em 0.5em 0.4em;box-sizing: border-box;padding-bottom: 0.4em;background-color: white;position: relative;}#sk-a5da72a3-b1a9-4f4c-9881-0801e4199e7b div.sk-label label {font-family: monospace;font-weight: bold;background-color: white;display: inline-block;line-height: 1.2em;}#sk-a5da72a3-b1a9-4f4c-9881-0801e4199e7b div.sk-label-container {position: relative;z-index: 2;text-align: center;}#sk-a5da72a3-b1a9-4f4c-9881-0801e4199e7b div.sk-container {display: inline-block;position: relative;}</style><div id=\"sk-a5da72a3-b1a9-4f4c-9881-0801e4199e7b\" class\"sk-top-container\"><div class=\"sk-container\"><div class=\"sk-item sk-dashed-wrapped\"><div class=\"sk-label-container\"><div class=\"sk-label sk-toggleable\"><input class=\"sk-toggleable__control sk-hidden--visually\" id=\"c75e15e7-d897-4291-a7bb-8915706d4fdc\" type=\"checkbox\" ><label class=\"sk-toggleable__label\" for=\"c75e15e7-d897-4291-a7bb-8915706d4fdc\">GridSearchCV</label><div class=\"sk-toggleable__content\"><pre>GridSearchCV(cv=<generator object _BaseKFold.split at 0x000002AAA2C75660>,\n",
       "             estimator=Pipeline(steps=[('tfidf',\n",
       "                                        TfidfVectorizer(max_features=2500)),\n",
       "                                       ('sparse_to_dense',\n",
       "                                        <__main__.DenseTransformer object at 0x000002AAA2C79D60>),\n",
       "                                       ('scaler', MaxAbsScaler()),\n",
       "                                       ('kc',\n",
       "                                        <keras.wrappers.scikit_learn.KerasClassifier object at 0x000002AAA2C79E50>)]),\n",
       "             param_grid={'kc__batch_size': [16, 32, 50],\n",
       "                         'kc__dropout': [0.3, 0.1, 0],\n",
       "                         'kc__epochs': [20, 30, 50],\n",
       "                         'kc__neurons': [10, 20, 30, 100],\n",
       "                         'tfidf__ngram_range': [(1, 1), (1, 2)]},\n",
       "             scoring='accuracy', verbose=1)</pre></div></div></div><div class=\"sk-parallel\"><div class=\"sk-parallel-item\"><div class=\"sk-item\"><div class=\"sk-serial\"><div class=\"sk-item\"><div class=\"sk-serial\"><div class=\"sk-item\"><div class=\"sk-estimator sk-toggleable\"><input class=\"sk-toggleable__control sk-hidden--visually\" id=\"2568e7e1-4d8c-4bbb-b670-4010211e5383\" type=\"checkbox\" ><label class=\"sk-toggleable__label\" for=\"2568e7e1-4d8c-4bbb-b670-4010211e5383\">TfidfVectorizer</label><div class=\"sk-toggleable__content\"><pre>TfidfVectorizer(max_features=2500)</pre></div></div></div><div class=\"sk-item\"><div class=\"sk-estimator sk-toggleable\"><input class=\"sk-toggleable__control sk-hidden--visually\" id=\"64472c9e-2d58-4160-bfb4-9ad9d0c14901\" type=\"checkbox\" ><label class=\"sk-toggleable__label\" for=\"64472c9e-2d58-4160-bfb4-9ad9d0c14901\">DenseTransformer</label><div class=\"sk-toggleable__content\"><pre><__main__.DenseTransformer object at 0x000002AAA2C79D60></pre></div></div></div><div class=\"sk-item\"><div class=\"sk-estimator sk-toggleable\"><input class=\"sk-toggleable__control sk-hidden--visually\" id=\"909b20e1-979f-4b92-8e75-ee121520e34f\" type=\"checkbox\" ><label class=\"sk-toggleable__label\" for=\"909b20e1-979f-4b92-8e75-ee121520e34f\">MaxAbsScaler</label><div class=\"sk-toggleable__content\"><pre>MaxAbsScaler()</pre></div></div></div><div class=\"sk-item\"><div class=\"sk-estimator sk-toggleable\"><input class=\"sk-toggleable__control sk-hidden--visually\" id=\"030fe876-70f4-465d-b8f5-6ada1d1489f1\" type=\"checkbox\" ><label class=\"sk-toggleable__label\" for=\"030fe876-70f4-465d-b8f5-6ada1d1489f1\">KerasClassifier</label><div class=\"sk-toggleable__content\"><pre><keras.wrappers.scikit_learn.KerasClassifier object at 0x000002AAA2C79E50></pre></div></div></div></div></div></div></div></div></div></div></div></div>"
      ],
      "text/plain": [
       "GridSearchCV(cv=<generator object _BaseKFold.split at 0x000002AAA2C75660>,\n",
       "             estimator=Pipeline(steps=[('tfidf',\n",
       "                                        TfidfVectorizer(max_features=2500)),\n",
       "                                       ('sparse_to_dense',\n",
       "                                        <__main__.DenseTransformer object at 0x000002AAA2C79D60>),\n",
       "                                       ('scaler', MaxAbsScaler()),\n",
       "                                       ('kc',\n",
       "                                        <keras.wrappers.scikit_learn.KerasClassifier object at 0x000002AAA2C79E50>)]),\n",
       "             param_grid={'kc__batch_size': [16, 32, 50],\n",
       "                         'kc__dropout': [0.3, 0.1, 0],\n",
       "                         'kc__epochs': [20, 30, 50],\n",
       "                         'kc__neurons': [10, 20, 30, 100],\n",
       "                         'tfidf__ngram_range': [(1, 1), (1, 2)]},\n",
       "             scoring='accuracy', verbose=1)"
      ]
     },
     "execution_count": 10,
     "metadata": {},
     "output_type": "execute_result"
    }
   ],
   "source": [
    "from sklearn import set_config\n",
    "set_config(display='diagram')\n",
    "\n",
    "grid"
   ]
  },
  {
   "cell_type": "markdown",
   "id": "8cedf534",
   "metadata": {},
   "source": [
    "#### Grid Search "
   ]
  },
  {
   "cell_type": "code",
   "execution_count": null,
   "id": "cce8223b",
   "metadata": {},
   "outputs": [],
   "source": [
    "# limit = 100\n",
    "# X_p = prep_pipeline.fit_transform(X[:limit]).toarray()\n",
    "# X_p.shape"
   ]
  },
  {
   "cell_type": "code",
   "execution_count": null,
   "id": "45d12b0a",
   "metadata": {},
   "outputs": [],
   "source": [
    "# from sklearn.utils.multiclass import type_of_target\n",
    "# type_of_target(y) , type_of_target(yc)"
   ]
  },
  {
   "cell_type": "code",
   "execution_count": 11,
   "id": "4cd0491a",
   "metadata": {},
   "outputs": [],
   "source": [
    "X_t = prep_pipeline.fit_transform(X)"
   ]
  },
  {
   "cell_type": "code",
   "execution_count": null,
   "id": "71d86a95",
   "metadata": {},
   "outputs": [],
   "source": [
    "import warnings\n",
    "warnings.simplefilter(action='ignore', category=FutureWarning)\n",
    "\n",
    "t0 = time.time()\n",
    "grid_fitted = grid.fit(X_t,y) # Pipe line fitted with preprocessed clean text spacy\n",
    "results  =  pd.DataFrame(grid_fitted.cv_results_).sort_values('rank_test_score')\n",
    "\n",
    "t1 = time.time()\n",
    "delta = t1-t0\n",
    "print(f'Tuning Time s: {round(delta,3)}')\n",
    "results.head()"
   ]
  },
  {
   "cell_type": "markdown",
   "id": "e07074f0",
   "metadata": {},
   "source": [
    "## Fit the Pipeline"
   ]
  },
  {
   "cell_type": "code",
   "execution_count": null,
   "id": "b56fd8f3",
   "metadata": {},
   "outputs": [],
   "source": [
    "# TEST SAMPLE\n",
    "# limit = 1000\n",
    "\n",
    "# model = create_model(neurons=20)\n",
    "# model.summary()"
   ]
  },
  {
   "cell_type": "code",
   "execution_count": null,
   "id": "d7443852",
   "metadata": {},
   "outputs": [],
   "source": [
    "#+++++++++++++++++++++++ BEST PIPE PARAMS ++++++++++++++++++++++++++++++++\n",
    "opt_pipeline  = grid_fitted.best_estimator_\n",
    "\n",
    "t0 = time.time()\n",
    "fitted_pipe = opt_pipeline.fit(X,y)\n",
    "time.time() - t0 "
   ]
  },
  {
   "cell_type": "markdown",
   "id": "55185efe",
   "metadata": {},
   "source": [
    "# Testing Pipeline"
   ]
  },
  {
   "cell_type": "code",
   "execution_count": 12,
   "id": "c32787fb",
   "metadata": {},
   "outputs": [],
   "source": [
    "dataset = fetch_20newsgroups(subset='test', remove=('headers', 'footers', 'quotes'), shuffle=True, random_state=42)\n",
    "df = pd.DataFrame()\n",
    "df['text'] = dataset.data\n",
    "df['source'] = dataset.target\n",
    "label=[]\n",
    "for i in df['source']:\n",
    "    label.append(dataset.target_names[i])\n",
    "df['label']=label\n",
    "df.drop(['source'],axis=1,inplace=True)\n",
    "\n",
    "#++++++++++++++++++++++++++++++++++++++++Macro Categories++++++++++++++++++++++++++++++++++++++++++++++++++++++++++++++++++++++++++++++++++\n",
    "key_categories = ['politics','sport','religion','computer','sales','automobile','science','medicine']\n",
    "cat_dict = {\n",
    "**dict.fromkeys(['talk.politics.misc','talk.politics.guns','talk.politics.mideast'],'politics'),\n",
    "**dict.fromkeys( ['rec.sport.hockey','rec.sport.baseball'],'sport'),\n",
    "**dict.fromkeys( ['soc.religion.christian','talk.religion.misc'],'religion'),\n",
    "**dict.fromkeys(['comp.windows.x','comp.sys.ibm.pc.hardware','comp.os.ms-windows.misc','comp.graphics','comp.sys.mac.hardware'],'computer'),\n",
    "**dict.fromkeys( ['misc.forsale'],'sales'),\n",
    "**dict.fromkeys( ['rec.autos','rec.motorcycles'],'automobile'),\n",
    "**dict.fromkeys( ['sci.crypt','sci.electronics','sci.space'],'science'),\n",
    "**dict.fromkeys( ['sci.med'],'medicine') \n",
    "}\n",
    "df['label']=df['label'].map(cat_dict)\n",
    "#++++++++++++++++++++++++++++++++++++++++++++++++++++++++++++++++++++++++++++++++++++++++++++++++++++++++++++++++++++++++++++++++++++++++++\n",
    "\n",
    "\n",
    "label_encoder = LabelEncoder()  \n",
    "# Encode labels in column 'species'.\n",
    "df['target']= label_encoder.fit_transform(df['label'])\n",
    "\n",
    "# drop non in categories\n",
    "df = df.loc[df['label'].isin(key_categories)]\n",
    "#++++++++++++++++++++++++ PICK RANDOM 30 % OF TEST++++++++++++++++++++++++++\n",
    "df = df.sample(frac = 1) \n",
    "# dependent and independent variable\n",
    "X_test = df['text']\n",
    "y_test = df['target']\n",
    "#_____________________________________________________________________________________________________________________________________________"
   ]
  },
  {
   "cell_type": "code",
   "execution_count": 13,
   "id": "4969f324",
   "metadata": {},
   "outputs": [],
   "source": [
    "X_test_prep = prep_pipeline.transform(X_test)"
   ]
  },
  {
   "cell_type": "code",
   "execution_count": null,
   "id": "ef7241b8",
   "metadata": {},
   "outputs": [],
   "source": [
    "y_pred  = opt_pipeline.predict(X_test_prep)\n",
    "print(classification_report(y_test,y_pred))"
   ]
  },
  {
   "cell_type": "code",
   "execution_count": null,
   "id": "0a7bd116",
   "metadata": {},
   "outputs": [],
   "source": []
  },
  {
   "cell_type": "code",
   "execution_count": null,
   "id": "40f03db3",
   "metadata": {},
   "outputs": [],
   "source": [
    "dist_proba_pred = pd.DataFrame(fitted_pipe.predict_proba(X_test_prep), columns=key_categories)\n",
    "\n",
    "dist_proba_pred.hist(figsize = (10,8));"
   ]
  },
  {
   "cell_type": "code",
   "execution_count": null,
   "id": "da3afb3f",
   "metadata": {},
   "outputs": [],
   "source": [
    "df['label'].unique()"
   ]
  },
  {
   "cell_type": "code",
   "execution_count": null,
   "id": "749f5aea",
   "metadata": {},
   "outputs": [],
   "source": [
    "def make_custom_predictions(fitted_pipe = fitted_pipe):return label_encoder.inverse_transform(fitted_pipe.predict(pd.Series(input('Input-Text:'))))"
   ]
  },
  {
   "cell_type": "code",
   "execution_count": null,
   "id": "2e421f7b",
   "metadata": {},
   "outputs": [],
   "source": [
    "make_custom_predictions()"
   ]
  },
  {
   "cell_type": "code",
   "execution_count": null,
   "id": "585d458b",
   "metadata": {},
   "outputs": [],
   "source": [
    "fitted_pipe.named_steps['kc']"
   ]
  },
  {
   "cell_type": "code",
   "execution_count": null,
   "id": "cc28738c",
   "metadata": {},
   "outputs": [],
   "source": [
    "def save_keras_pipe(pipeline):\n",
    "    # Save the Keras model first:\n",
    "    pipeline.named_steps['kc'].model.save('keras_model.h5')\n",
    "\n",
    "    # This hack allows us to save the sklearn pipeline:\n",
    "    pipeline.named_steps['kc'].model = None\n",
    "\n",
    "    # Finally, save the pipeline:\n",
    "    joblib.dump(pipeline, 'sklearn_pipeline.pkl')"
   ]
  },
  {
   "cell_type": "code",
   "execution_count": null,
   "id": "76b833cf",
   "metadata": {},
   "outputs": [],
   "source": [
    "save_keras_pipe(fitted_pipe)"
   ]
  },
  {
   "cell_type": "code",
   "execution_count": 15,
   "id": "93cc0203",
   "metadata": {},
   "outputs": [],
   "source": [
    "from keras.models import load_model\n",
    "import joblib\n",
    "# Load the pipeline first:\n",
    "pipeline = joblib.load('sklearn_pipeline.pkl')\n",
    "\n",
    "# Then, load the Keras model:\n",
    "pipeline.named_steps['kc'].model = load_model('keras_model.h5')\n"
   ]
  },
  {
   "cell_type": "code",
   "execution_count": 24,
   "id": "63da1c70",
   "metadata": {},
   "outputs": [
    {
     "name": "stdout",
     "output_type": "stream",
     "text": [
      "              precision    recall  f1-score   support\n",
      "\n",
      "       sport       0.66      0.67      0.67       794\n",
      "    computer       0.85      0.71      0.78      1955\n",
      "       sales       0.58      0.63      0.61       396\n",
      "    politics       0.73      0.63      0.68      1050\n",
      "     science       0.69      0.71      0.70       649\n",
      "  automobile       0.42      0.78      0.55       390\n",
      "    medicine       0.66      0.53      0.59      1183\n",
      "    religion       0.62      0.86      0.72       796\n",
      "\n",
      "    accuracy                           0.68      7213\n",
      "   macro avg       0.65      0.69      0.66      7213\n",
      "weighted avg       0.70      0.68      0.68      7213\n",
      "\n",
      "Normalized confusion matrix\n"
     ]
    },
    {
     "data": {
      "image/png": "[encoded data removed]",
      "text/plain": [
       "<Figure size 1008x864 with 2 Axes>"
      ]
     },
     "metadata": {
      "needs_background": "light"
     },
     "output_type": "display_data"
    }
   ],
   "source": [
    "import warnings\n",
    "warnings.simplefilter(action='ignore', category=FutureWarning)\n",
    "\n",
    "y_pred  = pipeline.predict(X_test_prep)\n",
    "cnf_matrix = confusion_matrix(y_test,y_pred)\n",
    "\n",
    "# Plot normalized confusion matrix\n",
    "fig = plt.figure()\n",
    "fig.set_size_inches(14, 12, forward=True)\n",
    "#fig.align_labels()\n",
    "\n",
    "label_names = df['label'].unique()\n",
    "\n",
    "print(classification_report(y_test,y_pred, target_names=label_names))\n",
    "# fig.subplots_adjust(left=0.0, right=1.0, bottom=0.0, top=1.0)\n",
    "plot_confusion_matrix(cnf_matrix, classes=np.asarray(label_names), normalize=True,\n",
    "                      title='Normalized confusion matrix')"
   ]
  },
  {
   "cell_type": "code",
   "execution_count": null,
   "id": "72635dd7",
   "metadata": {},
   "outputs": [],
   "source": [
    "make_custom_predictions(pipeline)"
   ]
  },
  {
   "cell_type": "markdown",
   "id": "3bce7c8e",
   "metadata": {},
   "source": [
    "# Embedding model with Universal Sentence Encoder"
   ]
  },
  {
   "cell_type": "code",
   "execution_count": null,
   "id": "c7742074",
   "metadata": {},
   "outputs": [],
   "source": [
    "# Inserire flag di dominio dummy \n",
    "\n",
    "# def spacy_tokenizer(document, nlp=nlp):\n",
    "#     # tokenize the document with spaCY\n",
    "#     doc = nlp(document)\n",
    "#     # Remove stop words and punctuation symbols\n",
    "#     tokens = [\n",
    "#         token.text for token in doc if (\n",
    "#         token.is_stop == False and \\\n",
    "#         token.is_punct == False and \\\n",
    "#         token.text.strip() != '' and \\\n",
    "#         token.text.find(\"\\n\") == -1)]\n",
    "#     return tokens\n",
    "\n",
    "import tensorflow_hub as hub\n",
    "# load embeddings model from Tensorflow Hub\n",
    "embed = hub.load(\"https://tfhub.dev/google/universal-sentence-encoder/4\")\n",
    "\n",
    "\n",
    "matrix_features  = 512\n",
    "\n",
    "n_classes =y.nunique()\n",
    "def create_model(optimizer=\"adam\",\n",
    "                 dense_layer_sizes = False,\n",
    "                 dropout=0.1, init='uniform',\n",
    "                 features=matrix_features,neurons=20,\n",
    "                 n_classes = n_classes ):\n",
    "    \n",
    "    model = Sequential()\n",
    "    model.add(Dense(neurons, activation='relu', input_shape=(features,),kernel_initializer=init)) #\n",
    "    model.add(Dropout(dropout), )    \n",
    "\n",
    "    #for layer_size in dense_layer_sizes:\n",
    "    #   model.add(Dense(layer_size, activation='relu'))\n",
    "    #   model.add(Dropout(dropout), )    \n",
    "    \n",
    "    model.add(Dense(n_classes, activation='softmax'))\n",
    "    model.compile(loss='sparse_categorical_crossentropy',\n",
    "                  optimizer=optimizer,\n",
    "                  metrics=['sparse_categorical_crossentropy'])\n",
    "    return model\n"
   ]
  },
  {
   "cell_type": "code",
   "execution_count": null,
   "id": "3b8376c6",
   "metadata": {},
   "outputs": [],
   "source": [
    "# embed(pd.Series(spacy_preprocessing(X)))"
   ]
  },
  {
   "cell_type": "code",
   "execution_count": null,
   "id": "0f967c54",
   "metadata": {},
   "outputs": [],
   "source": []
  },
  {
   "cell_type": "code",
   "execution_count": null,
   "id": "14010716",
   "metadata": {},
   "outputs": [],
   "source": [
    "X_t = prep_pipeline.fit_transform(X)"
   ]
  },
  {
   "cell_type": "code",
   "execution_count": null,
   "id": "d1d6b470",
   "metadata": {},
   "outputs": [],
   "source": [
    "class Embedding(TransformerMixin):\n",
    "\n",
    "    def fit(self, X, y=None, **fit_params):\n",
    "        return self\n",
    "\n",
    "    def transform(self, X, y=None, **fit_params):\n",
    "        return embed(X).numpy()\n",
    "    \n",
    "\n",
    "emb_pipeline = Pipeline([\n",
    "                    ('embed', Embedding()),\n",
    "                    ('kc' ,KerasClassifier(build_fn=create_model, verbose = 0))\n",
    "])\n",
    "fitted_pipe_emb = emb_pipeline.fit(X_t,y)"
   ]
  },
  {
   "cell_type": "code",
   "execution_count": null,
   "id": "68e73ebe",
   "metadata": {},
   "outputs": [],
   "source": [
    "X_test_prep = prep_pipeline.transform(X_test)"
   ]
  },
  {
   "cell_type": "code",
   "execution_count": null,
   "id": "3fafbffb",
   "metadata": {},
   "outputs": [],
   "source": [
    "y_pred  = fitted_pipe_emb.predict(X_test_prep)\n",
    "print(classification_report(y_test,y_pred))"
   ]
  },
  {
   "cell_type": "code",
   "execution_count": null,
   "id": "2cddc0e9",
   "metadata": {},
   "outputs": [],
   "source": []
  },
  {
   "cell_type": "code",
   "execution_count": null,
   "id": "a6ec2a7c",
   "metadata": {},
   "outputs": [],
   "source": []
  }
 ],
 "metadata": {
  "kernelspec": {
   "display_name": "Python 3 (ipykernel)",
   "language": "python",
   "name": "python3"
  },
  "language_info": {
   "codemirror_mode": {
    "name": "ipython",
    "version": 3
   },
   "file_extension": ".py",
   "mimetype": "text/x-python",
   "name": "python",
   "nbconvert_exporter": "python",
   "pygments_lexer": "ipython3",
   "version": "3.8.5"
  }
 },
 "nbformat": 4,
 "nbformat_minor": 5
}
