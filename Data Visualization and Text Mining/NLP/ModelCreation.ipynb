{
 "cells": [
  {
   "cell_type": "code",
   "execution_count": 251,
   "id": "6263d259",
   "metadata": {},
   "outputs": [],
   "source": [
    "import pandas as pd \n",
    "import numpy as np \n",
    "import matplotlib.pyplot as plt\n",
    "import os\n",
    "from os.path import isfile, join\n",
    "import string\n",
    "import time\n",
    "import re\n",
    "from string import punctuation\n",
    "import sys\n",
    "\n",
    "import nltk\n",
    "from nltk.stem import WordNetLemmatizer\n",
    "from nltk.corpus import stopwords \n",
    "import spacy\n",
    "nlp = spacy.load('en_core_web_sm')\n",
    "from nltk.tokenize import RegexpTokenizer\n",
    "\n",
    "from sklearn.datasets import fetch_20newsgroups\n",
    "from sklearn.preprocessing import LabelEncoder , StandardScaler , MaxAbsScaler \n",
    "from sklearn.pipeline import Pipeline\n",
    "from sklearn.model_selection import GridSearchCV\n",
    "from sklearn.model_selection import StratifiedKFold\n",
    "from sklearn.preprocessing import FunctionTransformer\n",
    "from sklearn.base import TransformerMixin\n",
    "from sklearn.model_selection import train_test_split\n",
    "from sklearn.metrics import *\n",
    "from sklearn.feature_extraction.text import CountVectorizer ,TfidfVectorizer\n",
    "import itertools\n",
    "\n",
    "import tensorflow as tf\n",
    "from keras.wrappers.scikit_learn import KerasClassifier\n",
    "from keras.layers import Dense, Input, Dropout\n",
    "from keras import Sequential\n",
    "from keras import metrics\n",
    "\n",
    "\n",
    "def plot_confusion_matrix(cm, classes,\n",
    "                          normalize=False,\n",
    "                          title='Confusion matrix',\n",
    "                          cmap=plt.cm.Blues):\n",
    "    if normalize:\n",
    "        cm = cm.astype('float') / cm.sum(axis=1)[:, np.newaxis]\n",
    "        print(\"Normalized confusion matrix\")\n",
    "    else:\n",
    "        print('Confusion matrix, without normalization')\n",
    "\n",
    "    # print(cm)\n",
    "\n",
    "    plt.imshow(cm, interpolation='nearest', cmap=cmap)\n",
    "    plt.title(title)\n",
    "    plt.colorbar()\n",
    "    tick_marks = np.arange(len(classes))\n",
    "    plt.xticks(tick_marks, classes, rotation=90)\n",
    "    plt.yticks(tick_marks, classes)\n",
    "\n",
    "    fmt = '.2f' if normalize else 'd'\n",
    "    thresh = cm.max() / 2.\n",
    "    for i, j in itertools.product(range(cm.shape[0]), range(cm.shape[1])):\n",
    "        plt.text(j, i, format(cm[i, j], fmt),\n",
    "                 horizontalalignment=\"center\",\n",
    "                 color=\"white\" if cm[i, j] > thresh else \"black\")\n",
    "\n",
    "    plt.tight_layout()\n",
    "    plt.ylabel('True label')\n",
    "    plt.xlabel('Predicted label')\n",
    "\n",
    "def timing(f):\n",
    "    def wrap(*args, **kwargs):\n",
    "        time1 = time.time()\n",
    "        ret = f(*args, **kwargs)\n",
    "        time2 = time.time()\n",
    "        print('{:s} function took {:.3f} ms'.format(f.__name__, (time2-time1)*1000.0))\n",
    "\n",
    "        return ret\n",
    "    return wrap\n",
    "\n",
    "\n",
    "#Need OPT\n",
    "def spacy_preprocessing(text_format):\n",
    "        \n",
    "    def combine_text(list_of_text):\n",
    "            combined_text = ' '.join(list_of_text)\n",
    "            return combined_text\n",
    "        \n",
    "    doc  = nlp(text_format)\n",
    "    tokens_list  = [ token for token in doc if not token.is_punct and not token.is_space and token.is_alpha]\n",
    "    filter_token_sw = [token.lemma_ for token in tokens_list if str.lower(str.strip(token.lemma_)) not in stopwords.words('english')]\n",
    "   \n",
    "    return combine_text(filter_token_sw)\n",
    "\n",
    "from wordcloud import WordCloud, ImageColorGenerator\n",
    "from collections import Counter\n",
    "\n",
    "wc = WordCloud()"
   ]
  },
  {
   "cell_type": "markdown",
   "id": "c4dccd15",
   "metadata": {},
   "source": [
    "# Data Acquisition"
   ]
  },
  {
   "cell_type": "code",
   "execution_count": 25,
   "id": "863b7b8d",
   "metadata": {},
   "outputs": [
    {
     "data": {
      "text/plain": [
       "computer      2936\n",
       "science       1779\n",
       "politics      1575\n",
       "sport         1197\n",
       "automobile    1192\n",
       "religion       976\n",
       "medicine       594\n",
       "sales          585\n",
       "Name: label, dtype: int64"
      ]
     },
     "execution_count": 25,
     "metadata": {},
     "output_type": "execute_result"
    }
   ],
   "source": [
    "#______________________________________________________ DATA INGESTION___________________________________________________________________\n",
    "dataset = fetch_20newsgroups(subset='train', remove=('headers', 'footers', 'quotes'), shuffle=True, random_state=42)\n",
    "df = pd.DataFrame()\n",
    "df['text'] = dataset.data\n",
    "df['source'] = dataset.target\n",
    "label=[]\n",
    "for i in df['source']:\n",
    "    label.append(dataset.target_names[i])\n",
    "df['label']=label\n",
    "df.drop(['source'],axis=1,inplace=True)\n",
    "\n",
    "\n",
    "\n",
    "#++++++++++++++++++++++++++++++++++++++++Macro Categories++++++++++++++++++++++++++++++++++++++++++++++++++++++++++++++++++++++++++++++++++\n",
    "key_categories = ['politics','sport','religion','computer','sales','automobile','science','medicine']\n",
    "cat_dict = {\n",
    "**dict.fromkeys(['talk.politics.misc','talk.politics.guns','talk.politics.mideast'],'politics'),\n",
    "**dict.fromkeys( ['rec.sport.hockey','rec.sport.baseball'],'sport'),\n",
    "**dict.fromkeys( ['soc.religion.christian','talk.religion.misc'],'religion'),\n",
    "**dict.fromkeys(['comp.windows.x','comp.sys.ibm.pc.hardware','comp.os.ms-windows.misc','comp.graphics','comp.sys.mac.hardware'],'computer'),\n",
    "**dict.fromkeys( ['misc.forsale'],'sales'),\n",
    "**dict.fromkeys( ['rec.autos','rec.motorcycles'],'automobile'),\n",
    "**dict.fromkeys( ['sci.crypt','sci.electronics','sci.space'],'science'),\n",
    "**dict.fromkeys( ['sci.med'],'medicine') \n",
    "}\n",
    "df['label']=df['label'].map(cat_dict)\n",
    "#++++++++++++++++++++++++++++++++++++++++++++++++++++++++++++++++++++++++++++++++++++++++++++++++++++++++++++++++++++++++++++++++++++++++++\n",
    "\n",
    "label_encoder = LabelEncoder()  \n",
    "# Encode labels in column \n",
    "df['target']= label_encoder.fit_transform(df['label'])\n",
    "\n",
    "df = df.sample(frac = 1)\n",
    "# dependent and independent variable\n",
    "X = df['text']\n",
    "y = df['target']\n",
    "\n",
    "df['label'].value_counts()\n",
    "#_____________________________________________________________________________________________________________________________________________"
   ]
  },
  {
   "cell_type": "code",
   "execution_count": 56,
   "id": "eb690f25",
   "metadata": {},
   "outputs": [],
   "source": [
    "df = df.dropna()"
   ]
  },
  {
   "cell_type": "markdown",
   "id": "7def8751",
   "metadata": {},
   "source": [
    "# Exploratory Data Analysis"
   ]
  },
  {
   "cell_type": "code",
   "execution_count": 32,
   "id": "92048341",
   "metadata": {},
   "outputs": [
    {
     "name": "stdout",
     "output_type": "stream",
     "text": [
      "(11314, 3)\n"
     ]
    },
    {
     "data": {
      "text/html": [
       "<div>\n",
       "<style scoped>\n",
       "    .dataframe tbody tr th:only-of-type {\n",
       "        vertical-align: middle;\n",
       "    }\n",
       "\n",
       "    .dataframe tbody tr th {\n",
       "        vertical-align: top;\n",
       "    }\n",
       "\n",
       "    .dataframe thead th {\n",
       "        text-align: right;\n",
       "    }\n",
       "</style>\n",
       "<table border=\"1\" class=\"dataframe\">\n",
       "  <thead>\n",
       "    <tr style=\"text-align: right;\">\n",
       "      <th></th>\n",
       "      <th>text</th>\n",
       "      <th>label</th>\n",
       "      <th>target</th>\n",
       "    </tr>\n",
       "  </thead>\n",
       "  <tbody>\n",
       "    <tr>\n",
       "      <th>768</th>\n",
       "      <td>\\nThe oclock widget was written using the SHAP...</td>\n",
       "      <td>computer</td>\n",
       "      <td>1</td>\n",
       "    </tr>\n",
       "    <tr>\n",
       "      <th>2662</th>\n",
       "      <td>I have a quick question regarding the Rockwell...</td>\n",
       "      <td>computer</td>\n",
       "      <td>1</td>\n",
       "    </tr>\n",
       "    <tr>\n",
       "      <th>7561</th>\n",
       "      <td>\\nI have the same problem.  I have looked at M...</td>\n",
       "      <td>computer</td>\n",
       "      <td>1</td>\n",
       "    </tr>\n",
       "    <tr>\n",
       "      <th>8347</th>\n",
       "      <td>AHL CALDER CUP PLAYOFF GAME(S) PLAYED ON 4/16\\...</td>\n",
       "      <td>sport</td>\n",
       "      <td>7</td>\n",
       "    </tr>\n",
       "    <tr>\n",
       "      <th>1412</th>\n",
       "      <td>\\nIn the case of victimless crimes yes, I thin...</td>\n",
       "      <td>politics</td>\n",
       "      <td>3</td>\n",
       "    </tr>\n",
       "  </tbody>\n",
       "</table>\n",
       "</div>"
      ],
      "text/plain": [
       "                                                   text     label  target\n",
       "768   \\nThe oclock widget was written using the SHAP...  computer       1\n",
       "2662  I have a quick question regarding the Rockwell...  computer       1\n",
       "7561  \\nI have the same problem.  I have looked at M...  computer       1\n",
       "8347  AHL CALDER CUP PLAYOFF GAME(S) PLAYED ON 4/16\\...     sport       7\n",
       "1412  \\nIn the case of victimless crimes yes, I thin...  politics       3"
      ]
     },
     "execution_count": 32,
     "metadata": {},
     "output_type": "execute_result"
    }
   ],
   "source": [
    "print(df.shape)\n",
    "df.head()"
   ]
  },
  {
   "cell_type": "code",
   "execution_count": 3,
   "id": "1256c62a",
   "metadata": {},
   "outputs": [
    {
     "data": {
      "text/plain": [
       "computer      2936\n",
       "science       1779\n",
       "politics      1575\n",
       "sport         1197\n",
       "automobile    1192\n",
       "religion       976\n",
       "medicine       594\n",
       "sales          585\n",
       "Name: label, dtype: int64"
      ]
     },
     "execution_count": 3,
     "metadata": {},
     "output_type": "execute_result"
    }
   ],
   "source": [
    "df['label'].value_counts()"
   ]
  },
  {
   "cell_type": "markdown",
   "id": "a765b3de",
   "metadata": {},
   "source": [
    "### Sample for EDA"
   ]
  },
  {
   "cell_type": "code",
   "execution_count": 212,
   "id": "c1cf3fd4",
   "metadata": {},
   "outputs": [
    {
     "data": {
      "text/plain": [
       "computer      1359\n",
       "science        782\n",
       "politics       707\n",
       "automobile     576\n",
       "sport          551\n",
       "religion       482\n",
       "medicine       283\n",
       "sales          260\n",
       "Name: label, dtype: int64"
      ]
     },
     "execution_count": 212,
     "metadata": {},
     "output_type": "execute_result"
    }
   ],
   "source": [
    "df_s = df.sample(5000)\n",
    "df_s['spacy_obj'] = df_s['text'].apply(lambda x:nlp(x))\n",
    "df_s['label'].value_counts()"
   ]
  },
  {
   "cell_type": "code",
   "execution_count": 213,
   "id": "80ecd89e",
   "metadata": {},
   "outputs": [
    {
     "data": {
      "text/html": [
       "<div>\n",
       "<style scoped>\n",
       "    .dataframe tbody tr th:only-of-type {\n",
       "        vertical-align: middle;\n",
       "    }\n",
       "\n",
       "    .dataframe tbody tr th {\n",
       "        vertical-align: top;\n",
       "    }\n",
       "\n",
       "    .dataframe thead th {\n",
       "        text-align: right;\n",
       "    }\n",
       "</style>\n",
       "<table border=\"1\" class=\"dataframe\">\n",
       "  <thead>\n",
       "    <tr style=\"text-align: right;\">\n",
       "      <th></th>\n",
       "      <th>text</th>\n",
       "      <th>label</th>\n",
       "      <th>target</th>\n",
       "      <th>tokens</th>\n",
       "      <th>richness_text</th>\n",
       "      <th>unique_text</th>\n",
       "      <th>spacy_obj</th>\n",
       "    </tr>\n",
       "  </thead>\n",
       "  <tbody>\n",
       "    <tr>\n",
       "      <th>7783</th>\n",
       "      <td>With the continuin talk about the \"End of the ...</td>\n",
       "      <td>science</td>\n",
       "      <td>6</td>\n",
       "      <td>NaN</td>\n",
       "      <td>NaN</td>\n",
       "      <td>NaN</td>\n",
       "      <td>(With, the, continuin, talk, about, the, \", En...</td>\n",
       "    </tr>\n",
       "  </tbody>\n",
       "</table>\n",
       "</div>"
      ],
      "text/plain": [
       "                                                   text    label  target  \\\n",
       "7783  With the continuin talk about the \"End of the ...  science       6   \n",
       "\n",
       "     tokens  richness_text unique_text  \\\n",
       "7783    NaN            NaN         NaN   \n",
       "\n",
       "                                              spacy_obj  \n",
       "7783  (With, the, continuin, talk, about, the, \", En...  "
      ]
     },
     "execution_count": 213,
     "metadata": {},
     "output_type": "execute_result"
    }
   ],
   "source": [
    "sample = df_s.sample(1)\n",
    "sample"
   ]
  },
  {
   "cell_type": "code",
   "execution_count": 214,
   "id": "30c8f27d",
   "metadata": {},
   "outputs": [
    {
     "name": "stdout",
     "output_type": "stream",
     "text": [
      "With the continuin talk about the \"End of the Space Age\" and complaints \n",
      "by government over the large cost, why not try something I read about \n",
      "that might just work.\n",
      "\n",
      "Announce that a reward of $1 billion would go to the first corporation \n",
      "who successfully keeps at least 1 person alive on the moon for a year. \n",
      "Then you'd see some of the inexpensive but not popular technologies begin \n",
      "to be developed. THere'd be a different kind of space race then!\n",
      " 7783    science\n",
      "Name: label, dtype: object\n"
     ]
    }
   ],
   "source": [
    "print(sample.text.values[0] ,sample.label)"
   ]
  },
  {
   "cell_type": "code",
   "execution_count": 215,
   "id": "64472323",
   "metadata": {},
   "outputs": [
    {
     "data": {
      "text/html": [
       "<div>\n",
       "<style scoped>\n",
       "    .dataframe tbody tr th:only-of-type {\n",
       "        vertical-align: middle;\n",
       "    }\n",
       "\n",
       "    .dataframe tbody tr th {\n",
       "        vertical-align: top;\n",
       "    }\n",
       "\n",
       "    .dataframe thead th {\n",
       "        text-align: right;\n",
       "    }\n",
       "</style>\n",
       "<table border=\"1\" class=\"dataframe\">\n",
       "  <thead>\n",
       "    <tr style=\"text-align: right;\">\n",
       "      <th></th>\n",
       "      <th>text</th>\n",
       "      <th>label</th>\n",
       "      <th>target</th>\n",
       "      <th>tokens</th>\n",
       "      <th>richness_text</th>\n",
       "      <th>unique_text</th>\n",
       "      <th>spacy_obj</th>\n",
       "    </tr>\n",
       "  </thead>\n",
       "  <tbody>\n",
       "    <tr>\n",
       "      <th>7783</th>\n",
       "      <td>With the continuin talk about the \"End of the ...</td>\n",
       "      <td>science</td>\n",
       "      <td>6</td>\n",
       "      <td>NaN</td>\n",
       "      <td>NaN</td>\n",
       "      <td>NaN</td>\n",
       "      <td>(With, the, continuin, talk, about, the, \", En...</td>\n",
       "    </tr>\n",
       "  </tbody>\n",
       "</table>\n",
       "</div>"
      ],
      "text/plain": [
       "                                                   text    label  target  \\\n",
       "7783  With the continuin talk about the \"End of the ...  science       6   \n",
       "\n",
       "     tokens  richness_text unique_text  \\\n",
       "7783    NaN            NaN         NaN   \n",
       "\n",
       "                                              spacy_obj  \n",
       "7783  (With, the, continuin, talk, about, the, \", En...  "
      ]
     },
     "execution_count": 215,
     "metadata": {},
     "output_type": "execute_result"
    }
   ],
   "source": [
    "sample"
   ]
  },
  {
   "cell_type": "code",
   "execution_count": 216,
   "id": "5319754b",
   "metadata": {},
   "outputs": [
    {
     "data": {
      "text/plain": [
       "78"
      ]
     },
     "execution_count": 216,
     "metadata": {},
     "output_type": "execute_result"
    }
   ],
   "source": [
    "len([token.text for token in nlp(sample.text.values[0]) if token.is_alpha ])"
   ]
  },
  {
   "cell_type": "code",
   "execution_count": 217,
   "id": "92626562",
   "metadata": {},
   "outputs": [
    {
     "data": {
      "text/plain": [
       "62"
      ]
     },
     "execution_count": 217,
     "metadata": {},
     "output_type": "execute_result"
    }
   ],
   "source": [
    "len(set([token.text for token in nlp(sample.text.values[0]) if token.is_alpha ]))"
   ]
  },
  {
   "cell_type": "markdown",
   "id": "7b49179c",
   "metadata": {},
   "source": [
    "## Example of Preprocessing"
   ]
  },
  {
   "cell_type": "code",
   "execution_count": 225,
   "id": "1b34f4e0",
   "metadata": {},
   "outputs": [
    {
     "data": {
      "text/html": [
       "<div>\n",
       "<style scoped>\n",
       "    .dataframe tbody tr th:only-of-type {\n",
       "        vertical-align: middle;\n",
       "    }\n",
       "\n",
       "    .dataframe tbody tr th {\n",
       "        vertical-align: top;\n",
       "    }\n",
       "\n",
       "    .dataframe thead th {\n",
       "        text-align: right;\n",
       "    }\n",
       "</style>\n",
       "<table border=\"1\" class=\"dataframe\">\n",
       "  <thead>\n",
       "    <tr style=\"text-align: right;\">\n",
       "      <th></th>\n",
       "      <th>text</th>\n",
       "      <th>label</th>\n",
       "      <th>target</th>\n",
       "      <th>tokens</th>\n",
       "      <th>richness_text</th>\n",
       "      <th>unique_text</th>\n",
       "      <th>spacy_obj</th>\n",
       "      <th>is_alpha_pure</th>\n",
       "      <th>is_alpha_num</th>\n",
       "      <th>len_text</th>\n",
       "      <th>n_unique_text</th>\n",
       "    </tr>\n",
       "  </thead>\n",
       "  <tbody>\n",
       "    <tr>\n",
       "      <th>6392</th>\n",
       "      <td>\\nLook how long the Maple Leafs and Nordiques ...</td>\n",
       "      <td>sport</td>\n",
       "      <td>7</td>\n",
       "      <td>[\\n, Look, how, long, the, Maple, Leafs, and, ...</td>\n",
       "      <td>0.128319</td>\n",
       "      <td>[Leafs, occasion, problems, humor, long, bad, ...</td>\n",
       "      <td>(\\n, Look, how, long, the, Maple, Leafs, and, ...</td>\n",
       "      <td>[Look, how, long, the, Maple, Leafs, and, Nord...</td>\n",
       "      <td>[\\n, ....,  , \\n, ,, (, \\n, ), \\n, .,  , what-...</td>\n",
       "      <td>678</td>\n",
       "      <td>87</td>\n",
       "    </tr>\n",
       "    <tr>\n",
       "      <th>4842</th>\n",
       "      <td>\\n :Because of some contract, IBM is not allow...</td>\n",
       "      <td>computer</td>\n",
       "      <td>1</td>\n",
       "      <td>[\\n , :, Because, of, some, contract, ,, IBM, ...</td>\n",
       "      <td>0.142012</td>\n",
       "      <td>[computers, least, not, I, you, any, coprocess...</td>\n",
       "      <td>(\\n , :, Because, of, some, contract, ,, IBM, ...</td>\n",
       "      <td>[Because, of, some, contract, IBM, is, not, al...</td>\n",
       "      <td>[\\n , :, ,, \\n , :, 486, ,, \\n , :, -, ., \\n\\n...</td>\n",
       "      <td>507</td>\n",
       "      <td>72</td>\n",
       "    </tr>\n",
       "    <tr>\n",
       "      <th>10380</th>\n",
       "      <td>Help!!!\\n\\nI have an ADB graphicsd tablet whic...</td>\n",
       "      <td>computer</td>\n",
       "      <td>1</td>\n",
       "      <td>[Help, !, !, !, \\n\\n, I, have, an, ADB, graphi...</td>\n",
       "      <td>0.132450</td>\n",
       "      <td>[my, I, tablet, Quadra, mouse, course, to, Tha...</td>\n",
       "      <td>(Help, !, !, !, \\n\\n, I, have, an, ADB, graphi...</td>\n",
       "      <td>[Help, I, have, an, ADB, graphicsd, tablet, wh...</td>\n",
       "      <td>[!, !, !, \\n\\n, \\n, 950, ., ,, 950, \\n, ., \\n\\...</td>\n",
       "      <td>302</td>\n",
       "      <td>40</td>\n",
       "    </tr>\n",
       "    <tr>\n",
       "      <th>1715</th>\n",
       "      <td>Hi.\\n\\nThe RTrace ray tracer supports 3D text ...</td>\n",
       "      <td>computer</td>\n",
       "      <td>1</td>\n",
       "      <td>[Hi, ., \\n\\n, The, RTrace, ray, tracer, suppor...</td>\n",
       "      <td>0.127962</td>\n",
       "      <td>[text, a, not, chars, you, The, extruded, so, ...</td>\n",
       "      <td>(Hi, ., \\n\\n, The, RTrace, ray, tracer, suppor...</td>\n",
       "      <td>[Hi, The, RTrace, ray, tracer, supports, text,...</td>\n",
       "      <td>[., \\n\\n, 3D, ,, \\n, ,, ..., \\n, 3D, ..., \\n\\n...</td>\n",
       "      <td>422</td>\n",
       "      <td>54</td>\n",
       "    </tr>\n",
       "    <tr>\n",
       "      <th>6512</th>\n",
       "      <td>[reply to geb@cs.pitt.edu (Gordon Banks)]\\n \\n...</td>\n",
       "      <td>medicine</td>\n",
       "      <td>2</td>\n",
       "      <td>[[, reply, to, geb@cs.pitt.edu, (, Gordon, Ban...</td>\n",
       "      <td>0.146032</td>\n",
       "      <td>[like, wo, my, a, I, not, waste, second, expla...</td>\n",
       "      <td>([, reply, to, geb@cs.pitt.edu, (, Gordon, Ban...</td>\n",
       "      <td>[reply, to, Gordon, Banks, I, made, a, decisio...</td>\n",
       "      <td>[[, geb@cs.pitt.edu, (, ), ], \\n \\n \\n \\n, \\n,...</td>\n",
       "      <td>315</td>\n",
       "      <td>46</td>\n",
       "    </tr>\n",
       "  </tbody>\n",
       "</table>\n",
       "</div>"
      ],
      "text/plain": [
       "                                                    text     label  target  \\\n",
       "6392   \\nLook how long the Maple Leafs and Nordiques ...     sport       7   \n",
       "4842   \\n :Because of some contract, IBM is not allow...  computer       1   \n",
       "10380  Help!!!\\n\\nI have an ADB graphicsd tablet whic...  computer       1   \n",
       "1715   Hi.\\n\\nThe RTrace ray tracer supports 3D text ...  computer       1   \n",
       "6512   [reply to geb@cs.pitt.edu (Gordon Banks)]\\n \\n...  medicine       2   \n",
       "\n",
       "                                                  tokens  richness_text  \\\n",
       "6392   [\\n, Look, how, long, the, Maple, Leafs, and, ...       0.128319   \n",
       "4842   [\\n , :, Because, of, some, contract, ,, IBM, ...       0.142012   \n",
       "10380  [Help, !, !, !, \\n\\n, I, have, an, ADB, graphi...       0.132450   \n",
       "1715   [Hi, ., \\n\\n, The, RTrace, ray, tracer, suppor...       0.127962   \n",
       "6512   [[, reply, to, geb@cs.pitt.edu, (, Gordon, Ban...       0.146032   \n",
       "\n",
       "                                             unique_text  \\\n",
       "6392   [Leafs, occasion, problems, humor, long, bad, ...   \n",
       "4842   [computers, least, not, I, you, any, coprocess...   \n",
       "10380  [my, I, tablet, Quadra, mouse, course, to, Tha...   \n",
       "1715   [text, a, not, chars, you, The, extruded, so, ...   \n",
       "6512   [like, wo, my, a, I, not, waste, second, expla...   \n",
       "\n",
       "                                               spacy_obj  \\\n",
       "6392   (\\n, Look, how, long, the, Maple, Leafs, and, ...   \n",
       "4842   (\\n , :, Because, of, some, contract, ,, IBM, ...   \n",
       "10380  (Help, !, !, !, \\n\\n, I, have, an, ADB, graphi...   \n",
       "1715   (Hi, ., \\n\\n, The, RTrace, ray, tracer, suppor...   \n",
       "6512   ([, reply, to, geb@cs.pitt.edu, (, Gordon, Ban...   \n",
       "\n",
       "                                           is_alpha_pure  \\\n",
       "6392   [Look, how, long, the, Maple, Leafs, and, Nord...   \n",
       "4842   [Because, of, some, contract, IBM, is, not, al...   \n",
       "10380  [Help, I, have, an, ADB, graphicsd, tablet, wh...   \n",
       "1715   [Hi, The, RTrace, ray, tracer, supports, text,...   \n",
       "6512   [reply, to, Gordon, Banks, I, made, a, decisio...   \n",
       "\n",
       "                                            is_alpha_num  len_text  \\\n",
       "6392   [\\n, ....,  , \\n, ,, (, \\n, ), \\n, .,  , what-...       678   \n",
       "4842   [\\n , :, ,, \\n , :, 486, ,, \\n , :, -, ., \\n\\n...       507   \n",
       "10380  [!, !, !, \\n\\n, \\n, 950, ., ,, 950, \\n, ., \\n\\...       302   \n",
       "1715   [., \\n\\n, 3D, ,, \\n, ,, ..., \\n, 3D, ..., \\n\\n...       422   \n",
       "6512   [[, geb@cs.pitt.edu, (, ), ], \\n \\n \\n \\n, \\n,...       315   \n",
       "\n",
       "       n_unique_text  \n",
       "6392              87  \n",
       "4842              72  \n",
       "10380             40  \n",
       "1715              54  \n",
       "6512              46  "
      ]
     },
     "execution_count": 225,
     "metadata": {},
     "output_type": "execute_result"
    }
   ],
   "source": [
    "df_s.head()"
   ]
  },
  {
   "cell_type": "code",
   "execution_count": 226,
   "id": "a4751012",
   "metadata": {},
   "outputs": [],
   "source": [
    "# df_s['tokens'] =\n",
    "df_s['tokens'] = df_s['spacy_obj'].apply(lambda x:list(x)  )"
   ]
  },
  {
   "cell_type": "code",
   "execution_count": 223,
   "id": "76d506c0",
   "metadata": {},
   "outputs": [],
   "source": [
    "df_s['is_alpha_pure'] = df_s['tokens'].apply(lambda x: [token.text for token in x if  token.is_alpha ] )\n",
    "df_s['is_alpha_num'] = df_s['tokens'].apply(lambda x: [token.text for token in x if  not token.is_alpha ] )\n",
    "df_s['len_text'] = df_s['text'].apply(lambda x: len(x) )\n",
    "df_s['unique_text'] = df_s['is_alpha_pure'].apply(lambda x: list(set(x)) ) \n",
    "df_s['n_unique_text'] = df_s['is_alpha_pure'].apply(lambda x:len( set(x) ) )\n",
    "df_s['richness_text'] = df_s['n_unique_text']/df_s['len_text'] "
   ]
  },
  {
   "cell_type": "code",
   "execution_count": 227,
   "id": "8dac3075",
   "metadata": {},
   "outputs": [
    {
     "data": {
      "text/plain": [
       "<AxesSubplot:>"
      ]
     },
     "execution_count": 227,
     "metadata": {},
     "output_type": "execute_result"
    },
    {
     "data": {
      "image/png": "[encoded data removed]",
      "text/plain": [
       "<Figure size 432x288 with 1 Axes>"
      ]
     },
     "metadata": {
      "needs_background": "light"
     },
     "output_type": "display_data"
    }
   ],
   "source": [
    "df_s['richness_text'].hist()"
   ]
  },
  {
   "cell_type": "code",
   "execution_count": 228,
   "id": "dac0fb47",
   "metadata": {},
   "outputs": [],
   "source": [
    "from itertools import chain\n",
    "group_class_docs = df_s.groupby('label')['unique_text'].apply(list) \n",
    "group_class_uniqe_texts = group_class_docs.apply(lambda x : list(itertools.chain(*x)))\n",
    "group_class_uniqe_texts.apply(lambda x:len(x)) \n",
    "grouped_vocabolary = group_class_uniqe_texts.apply(lambda x:str(' '.join(x)))"
   ]
  },
  {
   "cell_type": "code",
   "execution_count": 229,
   "id": "92a6025b",
   "metadata": {},
   "outputs": [
    {
     "data": {
      "text/plain": [
       "label\n",
       "automobile    blasphemy looks not long sob address so of and...\n",
       "computer      computers least not I you any coprocessor espe...\n",
       "medicine      like wo my a I not waste second explanation MR...\n",
       "politics      On dismissed other a jointly land you survivor...\n",
       "religion      getaway not yet held by something Oh trying ma...\n",
       "sales         from Chicago tuesday about wanted Indi days on...\n",
       "science       half speech turn agents a might attack pointle...\n",
       "sport         Leafs occasion problems humor long bad logic s...\n",
       "Name: unique_text, dtype: object"
      ]
     },
     "execution_count": 229,
     "metadata": {},
     "output_type": "execute_result"
    }
   ],
   "source": [
    "grouped_vocabolary"
   ]
  },
  {
   "cell_type": "code",
   "execution_count": 253,
   "id": "e358afee",
   "metadata": {},
   "outputs": [],
   "source": [
    "def word_freq(label): return pd.Series([ t.lemma_ for t in nlp(grouped_vocabolary[label]) if str.lower(str.strip(t.lemma_)) not in stopwords.words('english')  ] ).value_counts()"
   ]
  },
  {
   "cell_type": "code",
   "execution_count": 259,
   "id": "c694652c",
   "metadata": {},
   "outputs": [
    {
     "data": {
      "text/plain": [
       "label\n",
       "automobile    blasphemy looks not long sob address so of and...\n",
       "computer      computers least not I you any coprocessor espe...\n",
       "medicine      like wo my a I not waste second explanation MR...\n",
       "politics      On dismissed other a jointly land you survivor...\n",
       "religion      getaway not yet held by something Oh trying ma...\n",
       "sales         from Chicago tuesday about wanted Indi days on...\n",
       "science       half speech turn agents a might attack pointle...\n",
       "sport         Leafs occasion problems humor long bad logic s...\n",
       "Name: unique_text, dtype: object"
      ]
     },
     "execution_count": 259,
     "metadata": {},
     "output_type": "execute_result"
    }
   ],
   "source": [
    "grouped_vocabolary"
   ]
  },
  {
   "cell_type": "code",
   "execution_count": 265,
   "id": "8f205a6a",
   "metadata": {},
   "outputs": [],
   "source": [
    "vocabulary_len_category = dict({ k:len(word_freq(k).index.to_list()) for k in grouped_vocabolary.index.to_list() } )"
   ]
  },
  {
   "cell_type": "markdown",
   "id": "389c92cb",
   "metadata": {},
   "source": [
    "## We decide the size of sparse matrix tfidf based on the median of the vocabs per category"
   ]
  },
  {
   "cell_type": "code",
   "execution_count": 280,
   "id": "0efd1387",
   "metadata": {},
   "outputs": [
    {
     "data": {
      "text/plain": [
       "count        8.000000\n",
       "mean      9465.750000\n",
       "std       3421.168587\n",
       "min       5043.000000\n",
       "25%       6993.000000\n",
       "50%       8475.500000\n",
       "75%      13166.000000\n",
       "max      13596.000000\n",
       "dtype: float64"
      ]
     },
     "execution_count": 280,
     "metadata": {},
     "output_type": "execute_result"
    }
   ],
   "source": [
    "pd.Series(vocabulary_len_category).sort_values().describe()#  be aware that the smaple might be biased "
   ]
  },
  {
   "cell_type": "markdown",
   "id": "29c5099a",
   "metadata": {},
   "source": [
    "# Preprocessing Pipeline"
   ]
  },
  {
   "cell_type": "code",
   "execution_count": null,
   "id": "6d468016",
   "metadata": {},
   "outputs": [],
   "source": [
    "# doc  = nlp('I  @  1223 am happy for your new promotion')\n",
    "# tokens_list  = [ token for token in doc if not token.is_punct and not token.is_space and token.is_alpha]\n",
    "# filter_token_sw = [token.lemma_ for token in tokens_list if token.lower_ not in stopwords.words('english')]\n",
    "# filter_token_sw"
   ]
  },
  {
   "cell_type": "code",
   "execution_count": 5,
   "id": "58320f1e",
   "metadata": {},
   "outputs": [
    {
     "data": {
      "text/html": [
       "<div>\n",
       "<style scoped>\n",
       "    .dataframe tbody tr th:only-of-type {\n",
       "        vertical-align: middle;\n",
       "    }\n",
       "\n",
       "    .dataframe tbody tr th {\n",
       "        vertical-align: top;\n",
       "    }\n",
       "\n",
       "    .dataframe thead th {\n",
       "        text-align: right;\n",
       "    }\n",
       "</style>\n",
       "<table border=\"1\" class=\"dataframe\">\n",
       "  <thead>\n",
       "    <tr style=\"text-align: right;\">\n",
       "      <th></th>\n",
       "      <th>2</th>\n",
       "      <th>6</th>\n",
       "      <th>3</th>\n",
       "      <th>1</th>\n",
       "      <th>7</th>\n",
       "      <th>0</th>\n",
       "      <th>4</th>\n",
       "      <th>5</th>\n",
       "    </tr>\n",
       "  </thead>\n",
       "  <tbody>\n",
       "    <tr>\n",
       "      <th>target</th>\n",
       "      <td>585</td>\n",
       "      <td>585</td>\n",
       "      <td>585</td>\n",
       "      <td>585</td>\n",
       "      <td>585</td>\n",
       "      <td>585</td>\n",
       "      <td>585</td>\n",
       "      <td>585</td>\n",
       "    </tr>\n",
       "  </tbody>\n",
       "</table>\n",
       "</div>"
      ],
      "text/plain": [
       "          2    6    3    1    7    0    4    5\n",
       "target  585  585  585  585  585  585  585  585"
      ]
     },
     "execution_count": 5,
     "metadata": {},
     "output_type": "execute_result"
    }
   ],
   "source": [
    "# Proportions of labels\n",
    "pd.DataFrame(y.value_counts()).T"
   ]
  },
  {
   "cell_type": "markdown",
   "id": "2c1705a0",
   "metadata": {},
   "source": [
    "### Downsampling Data"
   ]
  },
  {
   "cell_type": "code",
   "execution_count": 4,
   "id": "65405c13",
   "metadata": {},
   "outputs": [],
   "source": [
    "def downsample(df):\n",
    "    minority_frequency  = df['label'].value_counts()[-1]\n",
    "    minority_label = df['label'].value_counts().index[-1]\n",
    "    \n",
    "    df_balanced = df.loc[df['label'] == minority_label , : ].sample(minority_frequency).copy()\n",
    "    df_balanced = df_balanced.reset_index(drop = True)\n",
    "    \n",
    "    label_list = df['label'].value_counts().index.tolist()\n",
    "    #Sample and concat\n",
    "    for label in label_list:\n",
    "        if label != minority_label:\n",
    "            sample_df = df.loc[df['label'] == label , : ].sample(minority_frequency).copy()\n",
    "            df_balanced = pd.concat([ df_balanced , sample_df],axis = 0 , ignore_index=True) \n",
    "    # Shuffle data\n",
    "    df_balanced = df_balanced.sample(frac = 1).reset_index(drop = True)\n",
    "    \n",
    "    return df_balanced\n",
    "\n",
    "df_balanced = downsample(df)\n",
    "# dependent and independent variable\n",
    "X = df_balanced['text']\n",
    "y = df_balanced['target']"
   ]
  },
  {
   "cell_type": "code",
   "execution_count": 6,
   "id": "41e0ed58",
   "metadata": {},
   "outputs": [],
   "source": [
    "\n",
    "\n",
    "    \n",
    "vec_prop = np.vectorize(spacy_preprocessing)\n",
    "pipe_spacy_preprocessing = FunctionTransformer(vec_prop)\n",
    "\n",
    "\n",
    "\n",
    "class DenseTransformer(TransformerMixin):\n",
    "\n",
    "    def fit(self, X, y=None, **fit_params):\n",
    "        return self\n",
    "\n",
    "    def transform(self, X, y=None, **fit_params):\n",
    "        return X.todense()\n",
    "    \n",
    "\n",
    "    \n",
    "\n",
    "prep_pipeline = Pipeline([\n",
    "                    ('text_preprocessing', pipe_spacy_preprocessing )\n",
    "                    ])\n",
    "\n",
    "# DEFINE LABELS IN OHE FORMAT\n",
    "yc = tf.keras.utils.to_categorical(y,num_classes = 20,dtype=int )"
   ]
  },
  {
   "cell_type": "code",
   "execution_count": 7,
   "id": "02b86d2a",
   "metadata": {},
   "outputs": [
    {
     "data": {
      "text/plain": [
       "(4680,)"
      ]
     },
     "execution_count": 7,
     "metadata": {},
     "output_type": "execute_result"
    }
   ],
   "source": [
    "X.shape"
   ]
  },
  {
   "cell_type": "code",
   "execution_count": null,
   "id": "24eaacfe",
   "metadata": {},
   "outputs": [],
   "source": []
  },
  {
   "cell_type": "markdown",
   "id": "5e077402",
   "metadata": {},
   "source": [
    "# Model Pipeline"
   ]
  },
  {
   "cell_type": "markdown",
   "id": "1c71c837",
   "metadata": {},
   "source": [
    "### Hyperparameters fine-tuning"
   ]
  },
  {
   "cell_type": "code",
   "execution_count": 281,
   "id": "98589915",
   "metadata": {},
   "outputs": [],
   "source": [
    "# TF IDF DIMENSION will affect the model \n",
    "matrix_features  = 8000 # approximation of the len of vocabolary per each category\n",
    "\n",
    "n_classes =y.nunique()\n",
    "def create_model(optimizer=\"adam\",\n",
    "                 dense_layer_sizes = False,\n",
    "                 dropout=0.1, init='uniform',\n",
    "                 features=matrix_features,neurons=20,\n",
    "                 n_classes = n_classes ):\n",
    "    \n",
    "    model = Sequential()\n",
    "    model.add(Dense(neurons, activation='relu', input_shape=(features,),kernel_initializer=init)) #\n",
    "    model.add(Dropout(dropout), )    \n",
    "\n",
    "    #for layer_size in dense_layer_sizes:\n",
    "    #   model.add(Dense(layer_size, activation='relu'))\n",
    "    #   model.add(Dropout(dropout), )    \n",
    "    \n",
    "    model.add(Dense(n_classes, activation='softmax'))\n",
    "    model.compile(loss='sparse_categorical_crossentropy',\n",
    "                  optimizer=optimizer,\n",
    "                  metrics=['sparse_categorical_crossentropy'])\n",
    "    return model\n",
    "\n",
    "#dense_layer_sizes = [[] , []]\n",
    "#param_grid = dict(neurons=neurons, epochs = epochs, batch_size =batch_size)\n",
    "\n",
    "param_grid = {\n",
    "    'tfidf__ngram_range': [(1,1), (1,2)],\n",
    "    'kc__epochs': [20,30,50],\n",
    "    'kc__neurons': [10, 20, 30, 100],\n",
    "    'kc__batch_size':[16, 32,50],\n",
    "    'kc__dropout': [ 0.3, 0.1, 0]\n",
    "}\n",
    "\n",
    "\n",
    "#StratifiedKFold(n_splits=2, shuffle=True)\n",
    "\n"
   ]
  },
  {
   "cell_type": "code",
   "execution_count": 282,
   "id": "18daa216",
   "metadata": {},
   "outputs": [
    {
     "name": "stderr",
     "output_type": "stream",
     "text": [
      "C:\\Users\\david\\AppData\\Local\\Temp/ipykernel_12480/3753903976.py:5: DeprecationWarning: KerasClassifier is deprecated, use Sci-Keras (https://github.com/adriangb/scikeras) instead.\n",
      "  ('kc' ,KerasClassifier(build_fn=create_model, verbose = 0))\n"
     ]
    }
   ],
   "source": [
    "model_pipeline = Pipeline([\n",
    "                    ('tfidf', TfidfVectorizer(use_idf = True,max_features=matrix_features)),\n",
    "                    ('sparse_to_dense',DenseTransformer()),\n",
    "                    ('scaler', MaxAbsScaler()),\n",
    "                    ('kc' ,KerasClassifier(build_fn=create_model, verbose = 0))\n",
    "])\n",
    "\n",
    "folds = 3\n",
    "skf = StratifiedKFold(n_splits=folds, shuffle = True, random_state = 1001)\n",
    "grid = GridSearchCV(estimator=model_pipeline,\n",
    "                    verbose=1,\n",
    "                    cv=skf.split(X,y),\n",
    "                    param_grid=param_grid,\n",
    "                    scoring='accuracy')"
   ]
  },
  {
   "cell_type": "code",
   "execution_count": 283,
   "id": "cd95500b",
   "metadata": {},
   "outputs": [
    {
     "data": {
      "text/html": [
       "<style>#sk-dd4060e4-83ef-49c3-a47e-9f8682132cd8 {color: black;background-color: white;}#sk-dd4060e4-83ef-49c3-a47e-9f8682132cd8 pre{padding: 0;}#sk-dd4060e4-83ef-49c3-a47e-9f8682132cd8 div.sk-toggleable {background-color: white;}#sk-dd4060e4-83ef-49c3-a47e-9f8682132cd8 label.sk-toggleable__label {cursor: pointer;display: block;width: 100%;margin-bottom: 0;padding: 0.3em;box-sizing: border-box;text-align: center;}#sk-dd4060e4-83ef-49c3-a47e-9f8682132cd8 div.sk-toggleable__content {max-height: 0;max-width: 0;overflow: hidden;text-align: left;background-color: #f0f8ff;}#sk-dd4060e4-83ef-49c3-a47e-9f8682132cd8 div.sk-toggleable__content pre {margin: 0.2em;color: black;border-radius: 0.25em;background-color: #f0f8ff;}#sk-dd4060e4-83ef-49c3-a47e-9f8682132cd8 input.sk-toggleable__control:checked~div.sk-toggleable__content {max-height: 200px;max-width: 100%;overflow: auto;}#sk-dd4060e4-83ef-49c3-a47e-9f8682132cd8 div.sk-estimator input.sk-toggleable__control:checked~label.sk-toggleable__label {background-color: #d4ebff;}#sk-dd4060e4-83ef-49c3-a47e-9f8682132cd8 div.sk-label input.sk-toggleable__control:checked~label.sk-toggleable__label {background-color: #d4ebff;}#sk-dd4060e4-83ef-49c3-a47e-9f8682132cd8 input.sk-hidden--visually {border: 0;clip: rect(1px 1px 1px 1px);clip: rect(1px, 1px, 1px, 1px);height: 1px;margin: -1px;overflow: hidden;padding: 0;position: absolute;width: 1px;}#sk-dd4060e4-83ef-49c3-a47e-9f8682132cd8 div.sk-estimator {font-family: monospace;background-color: #f0f8ff;border: 1px dotted black;border-radius: 0.25em;box-sizing: border-box;margin-bottom: 0.5em;}#sk-dd4060e4-83ef-49c3-a47e-9f8682132cd8 div.sk-estimator:hover {background-color: #d4ebff;}#sk-dd4060e4-83ef-49c3-a47e-9f8682132cd8 div.sk-parallel-item::after {content: \"\";width: 100%;border-bottom: 1px solid gray;flex-grow: 1;}#sk-dd4060e4-83ef-49c3-a47e-9f8682132cd8 div.sk-label:hover label.sk-toggleable__label {background-color: #d4ebff;}#sk-dd4060e4-83ef-49c3-a47e-9f8682132cd8 div.sk-serial::before {content: \"\";position: absolute;border-left: 1px solid gray;box-sizing: border-box;top: 2em;bottom: 0;left: 50%;}#sk-dd4060e4-83ef-49c3-a47e-9f8682132cd8 div.sk-serial {display: flex;flex-direction: column;align-items: center;background-color: white;padding-right: 0.2em;padding-left: 0.2em;}#sk-dd4060e4-83ef-49c3-a47e-9f8682132cd8 div.sk-item {z-index: 1;}#sk-dd4060e4-83ef-49c3-a47e-9f8682132cd8 div.sk-parallel {display: flex;align-items: stretch;justify-content: center;background-color: white;}#sk-dd4060e4-83ef-49c3-a47e-9f8682132cd8 div.sk-parallel::before {content: \"\";position: absolute;border-left: 1px solid gray;box-sizing: border-box;top: 2em;bottom: 0;left: 50%;}#sk-dd4060e4-83ef-49c3-a47e-9f8682132cd8 div.sk-parallel-item {display: flex;flex-direction: column;position: relative;background-color: white;}#sk-dd4060e4-83ef-49c3-a47e-9f8682132cd8 div.sk-parallel-item:first-child::after {align-self: flex-end;width: 50%;}#sk-dd4060e4-83ef-49c3-a47e-9f8682132cd8 div.sk-parallel-item:last-child::after {align-self: flex-start;width: 50%;}#sk-dd4060e4-83ef-49c3-a47e-9f8682132cd8 div.sk-parallel-item:only-child::after {width: 0;}#sk-dd4060e4-83ef-49c3-a47e-9f8682132cd8 div.sk-dashed-wrapped {border: 1px dashed gray;margin: 0 0.4em 0.5em 0.4em;box-sizing: border-box;padding-bottom: 0.4em;background-color: white;position: relative;}#sk-dd4060e4-83ef-49c3-a47e-9f8682132cd8 div.sk-label label {font-family: monospace;font-weight: bold;background-color: white;display: inline-block;line-height: 1.2em;}#sk-dd4060e4-83ef-49c3-a47e-9f8682132cd8 div.sk-label-container {position: relative;z-index: 2;text-align: center;}#sk-dd4060e4-83ef-49c3-a47e-9f8682132cd8 div.sk-container {display: inline-block;position: relative;}</style><div id=\"sk-dd4060e4-83ef-49c3-a47e-9f8682132cd8\" class\"sk-top-container\"><div class=\"sk-container\"><div class=\"sk-item sk-dashed-wrapped\"><div class=\"sk-label-container\"><div class=\"sk-label sk-toggleable\"><input class=\"sk-toggleable__control sk-hidden--visually\" id=\"8c037ade-9542-4aa0-b2a5-763e349e0510\" type=\"checkbox\" ><label class=\"sk-toggleable__label\" for=\"8c037ade-9542-4aa0-b2a5-763e349e0510\">GridSearchCV</label><div class=\"sk-toggleable__content\"><pre>GridSearchCV(cv=<generator object _BaseKFold.split at 0x000002AB703F8270>,\n",
       "             estimator=Pipeline(steps=[('tfidf',\n",
       "                                        TfidfVectorizer(max_features=8000)),\n",
       "                                       ('sparse_to_dense',\n",
       "                                        <__main__.DenseTransformer object at 0x000002AB703E67C0>),\n",
       "                                       ('scaler', MaxAbsScaler()),\n",
       "                                       ('kc',\n",
       "                                        <keras.wrappers.scikit_learn.KerasClassifier object at 0x000002AB703E6C70>)]),\n",
       "             param_grid={'kc__batch_size': [16, 32, 50],\n",
       "                         'kc__dropout': [0.3, 0.1, 0],\n",
       "                         'kc__epochs': [20, 30, 50],\n",
       "                         'kc__neurons': [10, 20, 30, 100],\n",
       "                         'tfidf__ngram_range': [(1, 1), (1, 2)]},\n",
       "             scoring='accuracy', verbose=1)</pre></div></div></div><div class=\"sk-parallel\"><div class=\"sk-parallel-item\"><div class=\"sk-item\"><div class=\"sk-serial\"><div class=\"sk-item\"><div class=\"sk-serial\"><div class=\"sk-item\"><div class=\"sk-estimator sk-toggleable\"><input class=\"sk-toggleable__control sk-hidden--visually\" id=\"11f87894-517d-456b-b61f-0e73e8c751ae\" type=\"checkbox\" ><label class=\"sk-toggleable__label\" for=\"11f87894-517d-456b-b61f-0e73e8c751ae\">TfidfVectorizer</label><div class=\"sk-toggleable__content\"><pre>TfidfVectorizer(max_features=8000)</pre></div></div></div><div class=\"sk-item\"><div class=\"sk-estimator sk-toggleable\"><input class=\"sk-toggleable__control sk-hidden--visually\" id=\"d0485e19-fa99-4362-a0b7-1722362465c0\" type=\"checkbox\" ><label class=\"sk-toggleable__label\" for=\"d0485e19-fa99-4362-a0b7-1722362465c0\">DenseTransformer</label><div class=\"sk-toggleable__content\"><pre><__main__.DenseTransformer object at 0x000002AB703E67C0></pre></div></div></div><div class=\"sk-item\"><div class=\"sk-estimator sk-toggleable\"><input class=\"sk-toggleable__control sk-hidden--visually\" id=\"cd91b294-c495-4d52-9b7f-af38af3940bc\" type=\"checkbox\" ><label class=\"sk-toggleable__label\" for=\"cd91b294-c495-4d52-9b7f-af38af3940bc\">MaxAbsScaler</label><div class=\"sk-toggleable__content\"><pre>MaxAbsScaler()</pre></div></div></div><div class=\"sk-item\"><div class=\"sk-estimator sk-toggleable\"><input class=\"sk-toggleable__control sk-hidden--visually\" id=\"5cf0a6f3-50e9-46c7-8016-3b4bf0ac76df\" type=\"checkbox\" ><label class=\"sk-toggleable__label\" for=\"5cf0a6f3-50e9-46c7-8016-3b4bf0ac76df\">KerasClassifier</label><div class=\"sk-toggleable__content\"><pre><keras.wrappers.scikit_learn.KerasClassifier object at 0x000002AB703E6C70></pre></div></div></div></div></div></div></div></div></div></div></div></div>"
      ],
      "text/plain": [
       "GridSearchCV(cv=<generator object _BaseKFold.split at 0x000002AB703F8270>,\n",
       "             estimator=Pipeline(steps=[('tfidf',\n",
       "                                        TfidfVectorizer(max_features=8000)),\n",
       "                                       ('sparse_to_dense',\n",
       "                                        <__main__.DenseTransformer object at 0x000002AB703E67C0>),\n",
       "                                       ('scaler', MaxAbsScaler()),\n",
       "                                       ('kc',\n",
       "                                        <keras.wrappers.scikit_learn.KerasClassifier object at 0x000002AB703E6C70>)]),\n",
       "             param_grid={'kc__batch_size': [16, 32, 50],\n",
       "                         'kc__dropout': [0.3, 0.1, 0],\n",
       "                         'kc__epochs': [20, 30, 50],\n",
       "                         'kc__neurons': [10, 20, 30, 100],\n",
       "                         'tfidf__ngram_range': [(1, 1), (1, 2)]},\n",
       "             scoring='accuracy', verbose=1)"
      ]
     },
     "execution_count": 283,
     "metadata": {},
     "output_type": "execute_result"
    }
   ],
   "source": [
    "from sklearn import set_config\n",
    "set_config(display='diagram')\n",
    "\n",
    "grid"
   ]
  },
  {
   "cell_type": "markdown",
   "id": "761b477e",
   "metadata": {},
   "source": [
    "#### Grid Search "
   ]
  },
  {
   "cell_type": "code",
   "execution_count": 284,
   "id": "3ab3479c",
   "metadata": {},
   "outputs": [],
   "source": [
    "# limit = 100\n",
    "# X_p = prep_pipeline.fit_transform(X[:limit]).toarray()\n",
    "# X_p.shape"
   ]
  },
  {
   "cell_type": "code",
   "execution_count": 285,
   "id": "965225e9",
   "metadata": {},
   "outputs": [],
   "source": [
    "# from sklearn.utils.multiclass import type_of_target\n",
    "# type_of_target(y) , type_of_target(yc)"
   ]
  },
  {
   "cell_type": "code",
   "execution_count": 287,
   "id": "e2d324a9",
   "metadata": {},
   "outputs": [],
   "source": [
    "X_t = prep_pipeline.fit_transform(X)"
   ]
  },
  {
   "cell_type": "code",
   "execution_count": null,
   "id": "a8b5dd77",
   "metadata": {},
   "outputs": [
    {
     "name": "stdout",
     "output_type": "stream",
     "text": [
      "Fitting 3 folds for each of 216 candidates, totalling 648 fits\n"
     ]
    }
   ],
   "source": [
    "import warnings\n",
    "warnings.simplefilter(action='ignore', category=FutureWarning)\n",
    "\n",
    "t0 = time.time()\n",
    "grid_fitted = grid.fit(X_t,y) # Pipe line fitted with preprocessed clean text spacy\n",
    "results  =  pd.DataFrame(grid_fitted.cv_results_).sort_values('rank_test_score')\n",
    "\n",
    "t1 = time.time()\n",
    "delta = t1-t0\n",
    "print(f'Tuning Time s: {round(delta,3)}')\n",
    "results.head()"
   ]
  },
  {
   "cell_type": "code",
   "execution_count": null,
   "id": "e8872cfa",
   "metadata": {},
   "outputs": [],
   "source": []
  },
  {
   "cell_type": "markdown",
   "id": "cc0a53a7",
   "metadata": {},
   "source": [
    "## Fit the Pipeline"
   ]
  },
  {
   "cell_type": "code",
   "execution_count": null,
   "id": "0a6ca4f2",
   "metadata": {},
   "outputs": [],
   "source": [
    "# TEST SAMPLE\n",
    "# limit = 1000\n",
    "\n",
    "# model = create_model(neurons=20)\n",
    "# model.summary()"
   ]
  },
  {
   "cell_type": "code",
   "execution_count": null,
   "id": "82e6f8e3",
   "metadata": {},
   "outputs": [],
   "source": [
    "#+++++++++++++++++++++++ BEST PIPE PARAMS ++++++++++++++++++++++++++++++++\n",
    "opt_pipeline  = grid_fitted.best_estimator_\n",
    "\n",
    "t0 = time.time()\n",
    "fitted_pipe = opt_pipeline.fit(X,y)\n",
    "time.time() - t0 "
   ]
  },
  {
   "cell_type": "markdown",
   "id": "fa8a024a",
   "metadata": {},
   "source": [
    "# Testing Pipeline"
   ]
  },
  {
   "cell_type": "code",
   "execution_count": null,
   "id": "af286d78",
   "metadata": {},
   "outputs": [],
   "source": [
    "dataset = fetch_20newsgroups(subset='test', remove=('headers', 'footers', 'quotes'), shuffle=True, random_state=42)\n",
    "df = pd.DataFrame()\n",
    "df['text'] = dataset.data\n",
    "df['source'] = dataset.target\n",
    "label=[]\n",
    "for i in df['source']:\n",
    "    label.append(dataset.target_names[i])\n",
    "df['label']=label\n",
    "df.drop(['source'],axis=1,inplace=True)\n",
    "\n",
    "#++++++++++++++++++++++++++++++++++++++++Macro Categories++++++++++++++++++++++++++++++++++++++++++++++++++++++++++++++++++++++++++++++++++\n",
    "key_categories = ['politics','sport','religion','computer','sales','automobile','science','medicine']\n",
    "cat_dict = {\n",
    "**dict.fromkeys(['talk.politics.misc','talk.politics.guns','talk.politics.mideast'],'politics'),\n",
    "**dict.fromkeys( ['rec.sport.hockey','rec.sport.baseball'],'sport'),\n",
    "**dict.fromkeys( ['soc.religion.christian','talk.religion.misc'],'religion'),\n",
    "**dict.fromkeys(['comp.windows.x','comp.sys.ibm.pc.hardware','comp.os.ms-windows.misc','comp.graphics','comp.sys.mac.hardware'],'computer'),\n",
    "**dict.fromkeys( ['misc.forsale'],'sales'),\n",
    "**dict.fromkeys( ['rec.autos','rec.motorcycles'],'automobile'),\n",
    "**dict.fromkeys( ['sci.crypt','sci.electronics','sci.space'],'science'),\n",
    "**dict.fromkeys( ['sci.med'],'medicine') \n",
    "}\n",
    "df['label']=df['label'].map(cat_dict)\n",
    "#++++++++++++++++++++++++++++++++++++++++++++++++++++++++++++++++++++++++++++++++++++++++++++++++++++++++++++++++++++++++++++++++++++++++++\n",
    "\n",
    "\n",
    "label_encoder = LabelEncoder()  \n",
    "# Encode labels in column 'species'.\n",
    "df['target']= label_encoder.fit_transform(df['label'])\n",
    "\n",
    "# drop non in categories\n",
    "df = df.loc[df['label'].isin(key_categories)]\n",
    "#++++++++++++++++++++++++ PICK RANDOM 30 % OF TEST++++++++++++++++++++++++++\n",
    "df = df.sample(frac = 1) \n",
    "# dependent and independent variable\n",
    "X_test = df['text']\n",
    "y_test = df['target']\n",
    "#_____________________________________________________________________________________________________________________________________________"
   ]
  },
  {
   "cell_type": "code",
   "execution_count": null,
   "id": "5168774f",
   "metadata": {},
   "outputs": [],
   "source": [
    "X_test_prep = prep_pipeline.transform(X_test)"
   ]
  },
  {
   "cell_type": "code",
   "execution_count": null,
   "id": "89d989ae",
   "metadata": {},
   "outputs": [],
   "source": [
    "y_pred  = opt_pipeline.predict(X_test_prep)\n",
    "print(classification_report(y_test,y_pred))"
   ]
  },
  {
   "cell_type": "code",
   "execution_count": null,
   "id": "b0beebb1",
   "metadata": {},
   "outputs": [],
   "source": []
  },
  {
   "cell_type": "code",
   "execution_count": null,
   "id": "3d695e43",
   "metadata": {},
   "outputs": [],
   "source": [
    "dist_proba_pred = pd.DataFrame(fitted_pipe.predict_proba(X_test_prep), columns=key_categories)\n",
    "\n",
    "dist_proba_pred.hist(figsize = (10,8));"
   ]
  },
  {
   "cell_type": "code",
   "execution_count": null,
   "id": "36f367d1",
   "metadata": {},
   "outputs": [],
   "source": [
    "df['label'].unique()"
   ]
  },
  {
   "cell_type": "code",
   "execution_count": null,
   "id": "2d841515",
   "metadata": {},
   "outputs": [],
   "source": [
    "def make_custom_predictions(fitted_pipe = fitted_pipe):return label_encoder.inverse_transform(fitted_pipe.predict(pd.Series(input('Input-Text:'))))"
   ]
  },
  {
   "cell_type": "code",
   "execution_count": null,
   "id": "1efcb925",
   "metadata": {},
   "outputs": [],
   "source": [
    "make_custom_predictions()"
   ]
  },
  {
   "cell_type": "code",
   "execution_count": null,
   "id": "cda6f1b2",
   "metadata": {},
   "outputs": [],
   "source": [
    "def save_keras_pipe(pipeline):\n",
    "    # Save the Keras model first:\n",
    "    pipeline.named_steps['kc'].model.save('keras_model.h5')\n",
    "\n",
    "    # This hack allows us to save the sklearn pipeline:\n",
    "    pipeline.named_steps['kc'].model = None\n",
    "\n",
    "    # Finally, save the pipeline:\n",
    "    joblib.dump(pipeline, 'sklearn_pipeline.pkl')"
   ]
  },
  {
   "cell_type": "code",
   "execution_count": null,
   "id": "04f7ee6c",
   "metadata": {},
   "outputs": [],
   "source": [
    "save_keras_pipe(fitted_pipe)"
   ]
  },
  {
   "cell_type": "markdown",
   "id": "0e7c3c97",
   "metadata": {},
   "source": [
    "# Load the trained model "
   ]
  },
  {
   "cell_type": "code",
   "execution_count": 15,
   "id": "2d14160c",
   "metadata": {},
   "outputs": [],
   "source": [
    "from keras.models import load_model\n",
    "import joblib\n",
    "# Load the pipeline first:\n",
    "pipeline = joblib.load('sklearn_pipeline.pkl')\n",
    "\n",
    "# Then, load the Keras model:\n",
    "pipeline.named_steps['kc'].model = load_model('keras_model.h5')\n"
   ]
  },
  {
   "cell_type": "code",
   "execution_count": 183,
   "id": "11422f4b",
   "metadata": {},
   "outputs": [
    {
     "name": "stdout",
     "output_type": "stream",
     "text": [
      "              precision    recall  f1-score   support\n",
      "\n",
      "    computer       0.66      0.67      0.67       794\n",
      "       sport       0.85      0.71      0.78      1955\n",
      "    politics       0.58      0.63      0.61       396\n",
      "  automobile       0.73      0.63      0.68      1050\n",
      "     science       0.69      0.71      0.70       649\n",
      "    medicine       0.42      0.78      0.55       390\n",
      "    religion       0.66      0.53      0.59      1183\n",
      "       sales       0.62      0.86      0.72       796\n",
      "\n",
      "    accuracy                           0.68      7213\n",
      "   macro avg       0.65      0.69      0.66      7213\n",
      "weighted avg       0.70      0.68      0.68      7213\n",
      "\n",
      "Confusion matrix, without normalization\n"
     ]
    },
    {
     "data": {
      "image/png": "[encoded data removed]",
      "text/plain": [
       "<Figure size 1008x864 with 2 Axes>"
      ]
     },
     "metadata": {
      "needs_background": "light"
     },
     "output_type": "display_data"
    }
   ],
   "source": [
    "import warnings\n",
    "warnings.simplefilter(action='ignore', category=FutureWarning)\n",
    "\n",
    "y_pred  = pipeline.predict(X_test_prep)\n",
    "cnf_matrix = confusion_matrix(y_test,y_pred)\n",
    "\n",
    "# Plot normalized confusion matrix\n",
    "fig = plt.figure()\n",
    "fig.set_size_inches(14, 12, forward=True)\n",
    "#fig.align_labels()\n",
    "\n",
    "label_names = df['label'].unique()\n",
    "\n",
    "print(classification_report(y_test,y_pred, target_names=label_names))\n",
    "# fig.subplots_adjust(left=0.0, right=1.0, bottom=0.0, top=1.0)\n",
    "plot_confusion_matrix(cnf_matrix, classes=np.asarray(label_names), normalize=False,\n",
    "                      title='Normalized confusion matrix')"
   ]
  },
  {
   "cell_type": "code",
   "execution_count": null,
   "id": "df60a3b9",
   "metadata": {},
   "outputs": [],
   "source": [
    "make_custom_predictions(pipeline)"
   ]
  },
  {
   "cell_type": "markdown",
   "id": "d45a8e63",
   "metadata": {},
   "source": [
    "# Embedding model with Universal Sentence Encoder"
   ]
  },
  {
   "cell_type": "code",
   "execution_count": null,
   "id": "52630c32",
   "metadata": {},
   "outputs": [],
   "source": [
    "# Inserire flag di dominio dummy \n",
    "\n",
    "# def spacy_tokenizer(document, nlp=nlp):\n",
    "#     # tokenize the document with spaCY\n",
    "#     doc = nlp(document)\n",
    "#     # Remove stop words and punctuation symbols\n",
    "#     tokens = [\n",
    "#         token.text for token in doc if (\n",
    "#         token.is_stop == False and \\\n",
    "#         token.is_punct == False and \\\n",
    "#         token.text.strip() != '' and \\\n",
    "#         token.text.find(\"\\n\") == -1)]\n",
    "#     return tokens\n",
    "\n",
    "import tensorflow_hub as hub\n",
    "# load embeddings model from Tensorflow Hub\n",
    "embed = hub.load(\"https://tfhub.dev/google/universal-sentence-encoder/4\")\n",
    "\n",
    "\n",
    "matrix_features  = 512\n",
    "\n",
    "n_classes =y.nunique()\n",
    "def create_model(optimizer=\"adam\",\n",
    "                 dense_layer_sizes = False,\n",
    "                 dropout=0.1, init='uniform',\n",
    "                 features=matrix_features,neurons=20,\n",
    "                 n_classes = n_classes ):\n",
    "    \n",
    "    model = Sequential()\n",
    "    model.add(Dense(neurons, activation='relu', input_shape=(features,),kernel_initializer=init)) #\n",
    "    model.add(Dropout(dropout), )    \n",
    "\n",
    "    #for layer_size in dense_layer_sizes:\n",
    "    #   model.add(Dense(layer_size, activation='relu'))\n",
    "    #   model.add(Dropout(dropout), )    \n",
    "    \n",
    "    model.add(Dense(n_classes, activation='softmax'))\n",
    "    model.compile(loss='sparse_categorical_crossentropy',\n",
    "                  optimizer=optimizer,\n",
    "                  metrics=['sparse_categorical_crossentropy'])\n",
    "    return model\n"
   ]
  },
  {
   "cell_type": "code",
   "execution_count": null,
   "id": "dbef7419",
   "metadata": {},
   "outputs": [],
   "source": [
    "# embed(pd.Series(spacy_preprocessing(X)))"
   ]
  },
  {
   "cell_type": "code",
   "execution_count": null,
   "id": "47ebdc9c",
   "metadata": {},
   "outputs": [],
   "source": [
    "X_t = prep_pipeline.fit_transform(X)"
   ]
  },
  {
   "cell_type": "code",
   "execution_count": null,
   "id": "fa18e1a4",
   "metadata": {},
   "outputs": [],
   "source": [
    "class Embedding(TransformerMixin):\n",
    "\n",
    "    def fit(self, X, y=None, **fit_params):\n",
    "        return self\n",
    "\n",
    "    def transform(self, X, y=None, **fit_params):\n",
    "        return embed(X).numpy()\n",
    "    \n",
    "\n",
    "emb_pipeline = Pipeline([\n",
    "                    ('embed', Embedding()),\n",
    "                    ('kc' ,KerasClassifier(build_fn=create_model, verbose = 0))\n",
    "])\n",
    "fitted_pipe_emb = emb_pipeline.fit(X_t,y)"
   ]
  },
  {
   "cell_type": "code",
   "execution_count": null,
   "id": "9a2fbc39",
   "metadata": {},
   "outputs": [],
   "source": [
    "X_test_prep = prep_pipeline.transform(X_test)"
   ]
  },
  {
   "cell_type": "code",
   "execution_count": null,
   "id": "9542716d",
   "metadata": {},
   "outputs": [],
   "source": [
    "y_pred  = fitted_pipe_emb.predict(X_test_prep)\n",
    "print(classification_report(y_test,y_pred))"
   ]
  },
  {
   "cell_type": "code",
   "execution_count": null,
   "id": "22576e2a",
   "metadata": {},
   "outputs": [],
   "source": []
  },
  {
   "cell_type": "code",
   "execution_count": null,
   "id": "fe8b3631",
   "metadata": {},
   "outputs": [],
   "source": []
  }
 ],
 "metadata": {
  "kernelspec": {
   "display_name": "Python 3 (ipykernel)",
   "language": "python",
   "name": "python3"
  },
  "language_info": {
   "codemirror_mode": {
    "name": "ipython",
    "version": 3
   },
   "file_extension": ".py",
   "mimetype": "text/x-python",
   "name": "python",
   "nbconvert_exporter": "python",
   "pygments_lexer": "ipython3",
   "version": "3.8.5"
  }
 },
 "nbformat": 4,
 "nbformat_minor": 5
}
