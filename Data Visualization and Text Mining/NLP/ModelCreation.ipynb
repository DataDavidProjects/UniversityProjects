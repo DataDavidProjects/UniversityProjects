{
 "cells": [
  {
   "cell_type": "code",
   "execution_count": null,
   "id": "04e3e21f",
   "metadata": {},
   "outputs": [],
   "source": [
    "import pandas as pd \n",
    "import numpy as np \n",
    "import matplotlib.pyplot as plt\n",
    "import os\n",
    "from os.path import isfile, join\n",
    "import string\n",
    "import re\n",
    "from string import punctuation\n",
    "import sys\n",
    "\n",
    "import nltk\n",
    "from nltk.stem import WordNetLemmatizer\n",
    "from nltk.corpus import stopwords \n",
    "import spacy\n",
    "nlp = spacy.load('en_core_web_sm')\n",
    "from nltk.tokenize import RegexpTokenizer\n",
    "\n",
    "from sklearn.datasets import fetch_20newsgroups\n",
    "from sklearn.preprocessing import LabelEncoder , StandardScaler , MaxAbsScaler \n",
    "from sklearn.pipeline import Pipeline\n",
    "from sklearn.model_selection import GridSearchCV\n",
    "from sklearn.model_selection import StratifiedKFold\n",
    "from sklearn.preprocessing import FunctionTransformer\n",
    "from sklearn.base import TransformerMixin\n",
    "from sklearn.model_selection import train_test_split\n",
    "from sklearn.metrics import *\n",
    "from sklearn.feature_extraction.text import CountVectorizer ,TfidfVectorizer\n",
    "\n",
    "\n",
    "import tensorflow as tf\n",
    "from keras.wrappers.scikit_learn import KerasClassifier\n",
    "from keras.layers import Dense, Input, Dropout\n",
    "from keras import Sequential\n",
    "from keras import metrics\n"
   ]
  },
  {
   "cell_type": "markdown",
   "id": "221d2756",
   "metadata": {},
   "source": [
    "# Data Acquisition"
   ]
  },
  {
   "cell_type": "code",
   "execution_count": null,
   "id": "e2afed97",
   "metadata": {},
   "outputs": [],
   "source": [
    "#______________________________________________________ DATA INGESTION___________________________________________________________________\n",
    "dataset = fetch_20newsgroups(subset='train', remove=('headers', 'footers', 'quotes'), shuffle=True, random_state=42)\n",
    "df = pd.DataFrame()\n",
    "df['text'] = dataset.data\n",
    "df['source'] = dataset.target\n",
    "label=[]\n",
    "for i in df['source']:\n",
    "    label.append(dataset.target_names[i])\n",
    "df['label']=label\n",
    "df.drop(['source'],axis=1,inplace=True)\n",
    "\n",
    "\n",
    "# key_categories = ['politics','sport','religion','computer','sales','automobile','science','medicine']\n",
    "# cat_dict = {\n",
    "# **dict.fromkeys(['talk.politics.misc','talk.politics.guns','talk.politics.mideast'],'politics'),\n",
    "# **dict.fromkeys( ['rec.sport.hockey','rec.sport.baseball'],'sport'),\n",
    "# **dict.fromkeys( ['soc.religion.christian','talk.religion.misc'],'religion'),\n",
    "# **dict.fromkeys(['comp.windows.x','comp.sys.ibm.pc.hardware','comp.os.ms-windows.misc','comp.graphics','comp.sys.mac.hardware'],'computer'),\n",
    "# **dict.fromkeys( ['misc.forsale'],'sales'),\n",
    "# **dict.fromkeys( ['rec.autos','rec.motorcycles'],'automobile'),\n",
    "# **dict.fromkeys( ['sci.crypt','sci.electronics','sci.space'],'science'),\n",
    "# **dict.fromkeys( ['sci.med'],'medicine') \n",
    "# }\n",
    "# df['label']=df['label'].map(cat_dict)\n",
    "\n",
    "label_encoder = LabelEncoder()  \n",
    "# Encode labels in column 'species'.\n",
    "df['target']= label_encoder.fit_transform(df['label'])\n",
    "\n",
    "df = df.sample(frac = 1)\n",
    "# dependent and independent variable\n",
    "X = df['text']\n",
    "y = df['target']\n",
    "\n",
    "#_____________________________________________________________________________________________________________________________________________"
   ]
  },
  {
   "cell_type": "code",
   "execution_count": null,
   "id": "4d041e25",
   "metadata": {},
   "outputs": [],
   "source": [
    "df.head()"
   ]
  },
  {
   "cell_type": "markdown",
   "id": "7906dddf",
   "metadata": {},
   "source": [
    "# Preprocessing Pipeline"
   ]
  },
  {
   "cell_type": "code",
   "execution_count": null,
   "id": "ffb61803",
   "metadata": {},
   "outputs": [],
   "source": [
    "def spacy_preprocessing(text_format):\n",
    "        \n",
    "    def combine_text(list_of_text):\n",
    "            combined_text = ' '.join(list_of_text)\n",
    "            return combined_text\n",
    "        \n",
    "    doc  = nlp(text_format)\n",
    "    tokens_list  = [ token.lemma_ for token in doc if not token.is_punct and not token.is_space and token.is_alpha]\n",
    "    filter_token_sw = [token.lower() for token in tokens_list if token.lower() not in stopwords.words('english')]\n",
    "   \n",
    "    return combine_text(filter_token_sw)\n",
    "    \n",
    "vec_prop = np.vectorize(spacy_preprocessing)\n",
    "\n",
    "pipe_spacy_preprocessing = FunctionTransformer(vec_prop)\n",
    "\n",
    "class DenseTransformer(TransformerMixin):\n",
    "\n",
    "    def fit(self, X, y=None, **fit_params):\n",
    "        return self\n",
    "\n",
    "    def transform(self, X, y=None, **fit_params):\n",
    "        return X.todense()\n",
    "    \n",
    "\n",
    "    \n",
    "# TF IDF DIMENSION will affect the model \n",
    "matrix_features  = 2500\n",
    "prep_pipeline = Pipeline([\n",
    "                    ('text_preprocessing', pipe_spacy_preprocessing ),\n",
    "                    ('tfidf', TfidfVectorizer(use_idf = True, max_features=matrix_feature)),\n",
    "                    ('sparse_to_dense',DenseTransformer()),\n",
    "                    ('scaler', MaxAbsScaler())\n",
    "                    \n",
    "                    ])\n",
    "\n",
    "# DEFINE LABELS IN OHE FORMAT\n",
    "yc = tf.keras.utils.to_categorical(y,num_classes = 20,dtype=int )"
   ]
  },
  {
   "cell_type": "code",
   "execution_count": null,
   "id": "db864ace",
   "metadata": {},
   "outputs": [],
   "source": [
    "#X_t = prep_pipeline.fit_transform(X).toarray()"
   ]
  },
  {
   "cell_type": "markdown",
   "id": "b1501805",
   "metadata": {},
   "source": [
    "# Model Pipeline"
   ]
  },
  {
   "cell_type": "markdown",
   "id": "dc0fd604",
   "metadata": {},
   "source": [
    "### Hyperparameters fine-tuning"
   ]
  },
  {
   "cell_type": "code",
   "execution_count": null,
   "id": "7214dcc1",
   "metadata": {},
   "outputs": [],
   "source": [
    "from sklearn import set_config\n",
    "set_config(display='diagram')\n",
    "\n",
    "prep_pipeline"
   ]
  },
  {
   "cell_type": "code",
   "execution_count": null,
   "id": "dc49c287",
   "metadata": {},
   "outputs": [],
   "source": [
    "n_classes = len(set(label))\n",
    "\n",
    "\n",
    "def create_model(optimizer=\"adam\",\n",
    "                 dense_layer_sizes = False,\n",
    "                 dropout=0.1, init='uniform',\n",
    "                 features=matrix_features,neurons=20,\n",
    "                 n_classes = n_classes ):\n",
    "    \n",
    "    model = Sequential()\n",
    "    model.add(Dense(neurons, activation='relu', input_shape=(features,), kernel_initializer=init,)) \n",
    "    \n",
    "    #for layer_size in dense_layer_sizes:\n",
    "    #   model.add(Dense(layer_size, activation='relu'))\n",
    "    #   model.add(Dropout(dropout), )    \n",
    "    model.add(Dense(n_classes, activation='softmax'))\n",
    "    model.compile(loss='categorical_crossentropy',\n",
    "                  optimizer=optimizer,\n",
    "                  metrics=[tf.keras.metrics.AUC()])\n",
    "    return model\n",
    "\n",
    "kears_estimator = KerasClassifier(build_fn=create_model,\n",
    "                                  verbose=1,\n",
    "                                  batch_size=2**5,\n",
    "                                  epochs = 15)\n",
    "\n",
    "neurons=[10,50,100,300,500,1000]\n",
    "epochs = [5,10,30,50]\n",
    "batch_size = [2,4,10,20,50,100]\n",
    "\n",
    "#dense_layer_sizes = [[] , []]\n",
    "\n",
    "param_grid = dict(neurons=neurons, epochs = epochs, batch_size =batch_size)\n",
    "StratifiedKFold(n_splits=2, shuffle=True)\n",
    "grid = GridSearchCV(estimator=kears_estimator,\n",
    "                    verbose=1,\n",
    "                    cv=5,\n",
    "                    param_grid=param_grid,scoring='roc_auc')"
   ]
  },
  {
   "cell_type": "markdown",
   "id": "cea7046e",
   "metadata": {},
   "source": [
    "#### Grid Search Issue multilabel multiclass"
   ]
  },
  {
   "cell_type": "code",
   "execution_count": null,
   "id": "7828196e",
   "metadata": {},
   "outputs": [],
   "source": [
    "# limit = 100\n",
    "# X_p = prep_pipeline.fit_transform(X[:limit]).toarray()\n",
    "# X_p.shape"
   ]
  },
  {
   "cell_type": "code",
   "execution_count": null,
   "id": "3c91ed44",
   "metadata": {},
   "outputs": [],
   "source": [
    "# from sklearn.utils.multiclass import type_of_target\n",
    "# type_of_target(y) , type_of_target(yc)"
   ]
  },
  {
   "cell_type": "code",
   "execution_count": null,
   "id": "76e3c99d",
   "metadata": {},
   "outputs": [],
   "source": [
    "# grid_results = grid.fit(X_p,yc)\n",
    "# results  =  pd.DataFrame(grid_results.cv_results_).sort_values('rank_test_score')\n",
    "# results.head()"
   ]
  },
  {
   "cell_type": "markdown",
   "id": "39b11bcd",
   "metadata": {},
   "source": [
    "## Fit the Pipeline"
   ]
  },
  {
   "cell_type": "code",
   "execution_count": null,
   "id": "95984916",
   "metadata": {},
   "outputs": [],
   "source": [
    "# TEST SAMPLE\n",
    "limit = 1000\n",
    "yp =  tf.keras.utils.to_categorical(y[:limit],dtype=int )\n",
    "X_p = prep_pipeline.fit_transform(X[:limit])\n",
    "model = create_model(neurons=20).fit(X_p,yp,epochs  = 15)"
   ]
  },
  {
   "cell_type": "code",
   "execution_count": null,
   "id": "6ae9a642",
   "metadata": {},
   "outputs": [],
   "source": [
    "model_pipeline = Pipeline([\n",
    "                    ('text_preprocessing', pipe_spacy_preprocessing ),\n",
    "                    ('tfidf', TfidfVectorizer(use_idf = True, max_features=2500)),\n",
    "                    ('sparse_to_dense',DenseTransformer()),\n",
    "                    ('scaler', MaxAbsScaler()),\n",
    "                    ('clf' ,kears_estimator )\n",
    "])"
   ]
  },
  {
   "cell_type": "code",
   "execution_count": null,
   "id": "25d7e9cb",
   "metadata": {},
   "outputs": [],
   "source": [
    "model_pipeline"
   ]
  },
  {
   "cell_type": "code",
   "execution_count": null,
   "id": "3af63b43",
   "metadata": {},
   "outputs": [],
   "source": [
    "import time\n",
    "\n",
    "t0 = time.time()\n",
    "fitted_pipe = model_pipeline.fit(X,yc)\n",
    "time.time() - t0 "
   ]
  },
  {
   "cell_type": "code",
   "execution_count": null,
   "id": "14fb85a2",
   "metadata": {},
   "outputs": [],
   "source": []
  },
  {
   "cell_type": "markdown",
   "id": "455be191",
   "metadata": {},
   "source": [
    "# Testing Pipeline"
   ]
  },
  {
   "cell_type": "code",
   "execution_count": null,
   "id": "312ec0f1",
   "metadata": {},
   "outputs": [],
   "source": [
    "dataset = fetch_20newsgroups(subset='test', remove=('headers', 'footers', 'quotes'), shuffle=True, random_state=42)\n",
    "df = pd.DataFrame()\n",
    "df['text'] = dataset.data\n",
    "df['source'] = dataset.target\n",
    "label=[]\n",
    "for i in df['source']:\n",
    "    label.append(dataset.target_names[i])\n",
    "df['label']=label\n",
    "df.drop(['source'],axis=1,inplace=True)\n",
    "\n",
    "\n",
    "# key_categories = ['politics','sport','religion','computer','sales','automobile','science','medicine']\n",
    "# cat_dict = {\n",
    "# **dict.fromkeys(['talk.politics.misc','talk.politics.guns','talk.politics.mideast'],'politics'),\n",
    "# **dict.fromkeys( ['rec.sport.hockey','rec.sport.baseball'],'sport'),\n",
    "# **dict.fromkeys( ['soc.religion.christian','talk.religion.misc'],'religion'),\n",
    "# **dict.fromkeys(['comp.windows.x','comp.sys.ibm.pc.hardware','comp.os.ms-windows.misc','comp.graphics','comp.sys.mac.hardware'],'computer'),\n",
    "# **dict.fromkeys( ['misc.forsale'],'sales'),\n",
    "# **dict.fromkeys( ['rec.autos','rec.motorcycles'],'automobile'),\n",
    "# **dict.fromkeys( ['sci.crypt','sci.electronics','sci.space'],'science'),\n",
    "# **dict.fromkeys( ['sci.med'],'medicine') \n",
    "# }\n",
    "# df['label']=df['label'].map(cat_dict)\n",
    "\n",
    "label_encoder = LabelEncoder()  \n",
    "# Encode labels in column 'species'.\n",
    "df['target']= label_encoder.fit_transform(df['label'])\n",
    "\n",
    "\n",
    "#++++++++++++++++++++++++ PICK RANDOM 30 % OF TEST++++++++++++++++++++++++++\n",
    "df = df.sample(frac = 0.01) \n",
    "# dependent and independent variable\n",
    "X_test = df['text']\n",
    "y_test = df['target']\n",
    "#_____________________________________________________________________________________________________________________________________________"
   ]
  },
  {
   "cell_type": "code",
   "execution_count": null,
   "id": "e1b889d3",
   "metadata": {},
   "outputs": [],
   "source": [
    "X_test.shape"
   ]
  },
  {
   "cell_type": "code",
   "execution_count": null,
   "id": "5e8de604",
   "metadata": {},
   "outputs": [],
   "source": [
    "y_pred  = fitted_pipe.predict(X_test)"
   ]
  },
  {
   "cell_type": "code",
   "execution_count": null,
   "id": "93f59cc9",
   "metadata": {},
   "outputs": [],
   "source": [
    "print(classification_report(y_test,y_pred))"
   ]
  },
  {
   "cell_type": "code",
   "execution_count": null,
   "id": "0ec1c566",
   "metadata": {},
   "outputs": [],
   "source": [
    "dist_proba_pred = pd.DataFrame(fitted_pipe.predict_proba(X_test))"
   ]
  },
  {
   "cell_type": "code",
   "execution_count": null,
   "id": "6779364b",
   "metadata": {},
   "outputs": [],
   "source": []
  }
 ],
 "metadata": {
  "kernelspec": {
   "display_name": "Python 3 (ipykernel)",
   "language": "python",
   "name": "python3"
  },
  "language_info": {
   "codemirror_mode": {
    "name": "ipython",
    "version": 3
   },
   "file_extension": ".py",
   "mimetype": "text/x-python",
   "name": "python",
   "nbconvert_exporter": "python",
   "pygments_lexer": "ipython3",
   "version": "3.8.5"
  }
 },
 "nbformat": 4,
 "nbformat_minor": 5
}
