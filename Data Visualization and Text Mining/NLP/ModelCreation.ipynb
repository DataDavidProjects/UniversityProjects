{
 "cells": [
  {
   "cell_type": "code",
   "execution_count": 1,
   "id": "809634f1",
   "metadata": {},
   "outputs": [],
   "source": [
    "import pandas as pd \n",
    "import numpy as np \n",
    "import matplotlib.pyplot as plt\n",
    "import os\n",
    "from os.path import isfile, join\n",
    "import string\n",
    "import time\n",
    "import re\n",
    "from string import punctuation\n",
    "import sys\n",
    "\n",
    "import nltk\n",
    "from nltk.stem import WordNetLemmatizer\n",
    "from nltk.corpus import stopwords \n",
    "import spacy\n",
    "nlp = spacy.load('en_core_web_sm')\n",
    "from nltk.tokenize import RegexpTokenizer\n",
    "\n",
    "from sklearn.datasets import fetch_20newsgroups\n",
    "from sklearn.preprocessing import LabelEncoder , StandardScaler , MaxAbsScaler \n",
    "from sklearn.pipeline import Pipeline\n",
    "from sklearn.model_selection import GridSearchCV\n",
    "from sklearn.model_selection import StratifiedKFold\n",
    "from sklearn.preprocessing import FunctionTransformer\n",
    "from sklearn.base import TransformerMixin\n",
    "from sklearn.model_selection import train_test_split\n",
    "from sklearn.metrics import *\n",
    "from sklearn.feature_extraction.text import CountVectorizer ,TfidfVectorizer\n",
    "\n",
    "\n",
    "import tensorflow as tf\n",
    "from keras.wrappers.scikit_learn import KerasClassifier\n",
    "from keras.layers import Dense, Input, Dropout\n",
    "from keras import Sequential\n",
    "from keras import metrics\n",
    "\n",
    "\n",
    "def timing(f):\n",
    "    def wrap(*args, **kwargs):\n",
    "        time1 = time.time()\n",
    "        ret = f(*args, **kwargs)\n",
    "        time2 = time.time()\n",
    "        print('{:s} function took {:.3f} ms'.format(f.__name__, (time2-time1)*1000.0))\n",
    "\n",
    "        return ret\n",
    "    return wrap"
   ]
  },
  {
   "cell_type": "markdown",
   "id": "ed1981d7",
   "metadata": {},
   "source": [
    "# Data Acquisition"
   ]
  },
  {
   "cell_type": "code",
   "execution_count": 2,
   "id": "d3f0ec42",
   "metadata": {},
   "outputs": [
    {
     "data": {
      "text/plain": [
       "computer      2936\n",
       "science       1779\n",
       "politics      1575\n",
       "sport         1197\n",
       "automobile    1192\n",
       "religion       976\n",
       "medicine       594\n",
       "sales          585\n",
       "Name: label, dtype: int64"
      ]
     },
     "execution_count": 2,
     "metadata": {},
     "output_type": "execute_result"
    }
   ],
   "source": [
    "#______________________________________________________ DATA INGESTION___________________________________________________________________\n",
    "dataset = fetch_20newsgroups(subset='train', remove=('headers', 'footers', 'quotes'), shuffle=True, random_state=42)\n",
    "df = pd.DataFrame()\n",
    "df['text'] = dataset.data\n",
    "df['source'] = dataset.target\n",
    "label=[]\n",
    "for i in df['source']:\n",
    "    label.append(dataset.target_names[i])\n",
    "df['label']=label\n",
    "df.drop(['source'],axis=1,inplace=True)\n",
    "\n",
    "\n",
    "\n",
    "#++++++++++++++++++++++++++++++++++++++++Macro Categories++++++++++++++++++++++++++++++++++++++++++++++++++++++++++++++++++++++++++++++++++\n",
    "key_categories = ['politics','sport','religion','computer','sales','automobile','science','medicine']\n",
    "cat_dict = {\n",
    "**dict.fromkeys(['talk.politics.misc','talk.politics.guns','talk.politics.mideast'],'politics'),\n",
    "**dict.fromkeys( ['rec.sport.hockey','rec.sport.baseball'],'sport'),\n",
    "**dict.fromkeys( ['soc.religion.christian','talk.religion.misc'],'religion'),\n",
    "**dict.fromkeys(['comp.windows.x','comp.sys.ibm.pc.hardware','comp.os.ms-windows.misc','comp.graphics','comp.sys.mac.hardware'],'computer'),\n",
    "**dict.fromkeys( ['misc.forsale'],'sales'),\n",
    "**dict.fromkeys( ['rec.autos','rec.motorcycles'],'automobile'),\n",
    "**dict.fromkeys( ['sci.crypt','sci.electronics','sci.space'],'science'),\n",
    "**dict.fromkeys( ['sci.med'],'medicine') \n",
    "}\n",
    "df['label']=df['label'].map(cat_dict)\n",
    "#++++++++++++++++++++++++++++++++++++++++++++++++++++++++++++++++++++++++++++++++++++++++++++++++++++++++++++++++++++++++++++++++++++++++++\n",
    "\n",
    "label_encoder = LabelEncoder()  \n",
    "# Encode labels in column \n",
    "df['target']= label_encoder.fit_transform(df['label'])\n",
    "\n",
    "df = df.sample(frac = 1)\n",
    "# dependent and independent variable\n",
    "X = df['text']\n",
    "y = df['target']\n",
    "\n",
    "df['label'].value_counts()\n",
    "#_____________________________________________________________________________________________________________________________________________"
   ]
  },
  {
   "cell_type": "code",
   "execution_count": 3,
   "id": "ae092bdd",
   "metadata": {},
   "outputs": [
    {
     "data": {
      "text/plain": [
       "computer      2936\n",
       "science       1779\n",
       "politics      1575\n",
       "sport         1197\n",
       "automobile    1192\n",
       "religion       976\n",
       "medicine       594\n",
       "sales          585\n",
       "Name: label, dtype: int64"
      ]
     },
     "execution_count": 3,
     "metadata": {},
     "output_type": "execute_result"
    }
   ],
   "source": [
    "df['label'].value_counts()"
   ]
  },
  {
   "cell_type": "markdown",
   "id": "bd8ee5e5",
   "metadata": {},
   "source": [
    "### Downsampling Data"
   ]
  },
  {
   "cell_type": "code",
   "execution_count": 4,
   "id": "876eff14",
   "metadata": {},
   "outputs": [],
   "source": [
    "def downsample(df):\n",
    "    minority_frequency  = df['label'].value_counts()[-1]\n",
    "    minority_label = df['label'].value_counts().index[-1]\n",
    "    \n",
    "    df_balanced = df.loc[df['label'] == minority_label , : ].sample(minority_frequency).copy()\n",
    "    df_balanced = df_balanced.reset_index(drop = True)\n",
    "    \n",
    "    label_list = df['label'].value_counts().index.tolist()\n",
    "    #Sample and concat\n",
    "    for label in label_list:\n",
    "        if label != minority_label:\n",
    "            sample_df = df.loc[df['label'] == label , : ].sample(minority_frequency).copy()\n",
    "            df_balanced = pd.concat([ df_balanced , sample_df],axis = 0 , ignore_index=True) \n",
    "    # Shuffle data\n",
    "    df_balanced = df_balanced.sample(frac = 1).reset_index(drop = True)\n",
    "    \n",
    "    return df_balanced\n",
    "\n",
    "df_balanced = downsample(df)\n",
    "# dependent and independent variable\n",
    "X = df_balanced['text']\n",
    "y = df_balanced['target']"
   ]
  },
  {
   "cell_type": "code",
   "execution_count": 5,
   "id": "b410b5f9",
   "metadata": {},
   "outputs": [
    {
     "data": {
      "text/html": [
       "<div>\n",
       "<style scoped>\n",
       "    .dataframe tbody tr th:only-of-type {\n",
       "        vertical-align: middle;\n",
       "    }\n",
       "\n",
       "    .dataframe tbody tr th {\n",
       "        vertical-align: top;\n",
       "    }\n",
       "\n",
       "    .dataframe thead th {\n",
       "        text-align: right;\n",
       "    }\n",
       "</style>\n",
       "<table border=\"1\" class=\"dataframe\">\n",
       "  <thead>\n",
       "    <tr style=\"text-align: right;\">\n",
       "      <th></th>\n",
       "      <th>1</th>\n",
       "      <th>7</th>\n",
       "      <th>4</th>\n",
       "      <th>5</th>\n",
       "      <th>2</th>\n",
       "      <th>6</th>\n",
       "      <th>0</th>\n",
       "      <th>3</th>\n",
       "    </tr>\n",
       "  </thead>\n",
       "  <tbody>\n",
       "    <tr>\n",
       "      <th>target</th>\n",
       "      <td>585</td>\n",
       "      <td>585</td>\n",
       "      <td>585</td>\n",
       "      <td>585</td>\n",
       "      <td>585</td>\n",
       "      <td>585</td>\n",
       "      <td>585</td>\n",
       "      <td>585</td>\n",
       "    </tr>\n",
       "  </tbody>\n",
       "</table>\n",
       "</div>"
      ],
      "text/plain": [
       "          1    7    4    5    2    6    0    3\n",
       "target  585  585  585  585  585  585  585  585"
      ]
     },
     "execution_count": 5,
     "metadata": {},
     "output_type": "execute_result"
    }
   ],
   "source": [
    "# Proportions of labels\n",
    "pd.DataFrame(y.value_counts()).T"
   ]
  },
  {
   "cell_type": "code",
   "execution_count": 6,
   "id": "8f7c3169",
   "metadata": {},
   "outputs": [],
   "source": [
    "# doc  = nlp('I  @  1223 am happy for your new promotion')\n",
    "# tokens_list  = [ token for token in doc if not token.is_punct and not token.is_space and token.is_alpha]\n",
    "# filter_token_sw = [token.lemma_ for token in tokens_list if token.lower_ not in stopwords.words('english')]\n",
    "# filter_token_sw"
   ]
  },
  {
   "cell_type": "markdown",
   "id": "ef6e493c",
   "metadata": {},
   "source": [
    "# Preprocessing Pipeline"
   ]
  },
  {
   "cell_type": "code",
   "execution_count": 7,
   "id": "4bf9425f",
   "metadata": {},
   "outputs": [],
   "source": [
    "\n",
    "#Need OPT\n",
    "def spacy_preprocessing(text_format):\n",
    "        \n",
    "    def combine_text(list_of_text):\n",
    "            combined_text = ' '.join(list_of_text)\n",
    "            return combined_text\n",
    "        \n",
    "    doc  = nlp(text_format)\n",
    "    tokens_list  = [ token for token in doc if not token.is_punct and not token.is_space and token.is_alpha]\n",
    "    filter_token_sw = [token.lemma_ for token in tokens_list if token.lower_ not in stopwords.words('english')]\n",
    "   \n",
    "    return combine_text(filter_token_sw)\n",
    "    \n",
    "vec_prop = np.vectorize(spacy_preprocessing)\n",
    "pipe_spacy_preprocessing = FunctionTransformer(vec_prop)\n",
    "\n",
    "\n",
    "\n",
    "class DenseTransformer(TransformerMixin):\n",
    "\n",
    "    def fit(self, X, y=None, **fit_params):\n",
    "        return self\n",
    "\n",
    "    def transform(self, X, y=None, **fit_params):\n",
    "        return X.todense()\n",
    "    \n",
    "\n",
    "    \n",
    "\n",
    "prep_pipeline = Pipeline([\n",
    "                    ('text_preprocessing', pipe_spacy_preprocessing )\n",
    "                    ])\n",
    "\n",
    "# DEFINE LABELS IN OHE FORMAT\n",
    "yc = tf.keras.utils.to_categorical(y,num_classes = 20,dtype=int )"
   ]
  },
  {
   "cell_type": "code",
   "execution_count": 8,
   "id": "e5fb2c6b",
   "metadata": {},
   "outputs": [
    {
     "data": {
      "text/plain": [
       "(4680,)"
      ]
     },
     "execution_count": 8,
     "metadata": {},
     "output_type": "execute_result"
    }
   ],
   "source": [
    "X.shape"
   ]
  },
  {
   "cell_type": "code",
   "execution_count": 22,
   "id": "d0f8351b",
   "metadata": {},
   "outputs": [
    {
     "data": {
      "text/html": [
       "<div>\n",
       "<style scoped>\n",
       "    .dataframe tbody tr th:only-of-type {\n",
       "        vertical-align: middle;\n",
       "    }\n",
       "\n",
       "    .dataframe tbody tr th {\n",
       "        vertical-align: top;\n",
       "    }\n",
       "\n",
       "    .dataframe thead th {\n",
       "        text-align: right;\n",
       "    }\n",
       "</style>\n",
       "<table border=\"1\" class=\"dataframe\">\n",
       "  <thead>\n",
       "    <tr style=\"text-align: right;\">\n",
       "      <th></th>\n",
       "      <th>text</th>\n",
       "      <th>label</th>\n",
       "      <th>target</th>\n",
       "    </tr>\n",
       "  </thead>\n",
       "  <tbody>\n",
       "    <tr>\n",
       "      <th>5674</th>\n",
       "      <td>\\nI don't know what you mean by 'edged', but s...</td>\n",
       "      <td>science</td>\n",
       "      <td>6</td>\n",
       "    </tr>\n",
       "    <tr>\n",
       "      <th>121</th>\n",
       "      <td>\\nSo is there any problems putting a drive for...</td>\n",
       "      <td>computer</td>\n",
       "      <td>1</td>\n",
       "    </tr>\n",
       "    <tr>\n",
       "      <th>4132</th>\n",
       "      <td>: &gt;\\n: &gt;I think you're letting atheist mytholo...</td>\n",
       "      <td>NaN</td>\n",
       "      <td>8</td>\n",
       "    </tr>\n",
       "    <tr>\n",
       "      <th>6831</th>\n",
       "      <td>To Rob and all others that have been debating ...</td>\n",
       "      <td>politics</td>\n",
       "      <td>3</td>\n",
       "    </tr>\n",
       "    <tr>\n",
       "      <th>1769</th>\n",
       "      <td>Cambridge  Audio  Integrated  Amp  P70  -  60W...</td>\n",
       "      <td>sales</td>\n",
       "      <td>5</td>\n",
       "    </tr>\n",
       "    <tr>\n",
       "      <th>...</th>\n",
       "      <td>...</td>\n",
       "      <td>...</td>\n",
       "      <td>...</td>\n",
       "    </tr>\n",
       "    <tr>\n",
       "      <th>2976</th>\n",
       "      <td>\\n    I don't remember the formula's off hand ...</td>\n",
       "      <td>automobile</td>\n",
       "      <td>0</td>\n",
       "    </tr>\n",
       "    <tr>\n",
       "      <th>3966</th>\n",
       "      <td>I am selling Joe Montana SportsTalk Football '...</td>\n",
       "      <td>sales</td>\n",
       "      <td>5</td>\n",
       "    </tr>\n",
       "    <tr>\n",
       "      <th>3412</th>\n",
       "      <td>\\nNot in isolated ground recepticles (usually ...</td>\n",
       "      <td>science</td>\n",
       "      <td>6</td>\n",
       "    </tr>\n",
       "    <tr>\n",
       "      <th>4207</th>\n",
       "      <td>Hi.\\n\\nMy wife has aquired some thyroidal (sp?...</td>\n",
       "      <td>medicine</td>\n",
       "      <td>2</td>\n",
       "    </tr>\n",
       "    <tr>\n",
       "      <th>2148</th>\n",
       "      <td>\\n\\nDo you mean a prog. that doesn't jump to t...</td>\n",
       "      <td>computer</td>\n",
       "      <td>1</td>\n",
       "    </tr>\n",
       "  </tbody>\n",
       "</table>\n",
       "<p>7532 rows × 3 columns</p>\n",
       "</div>"
      ],
      "text/plain": [
       "                                                   text       label  target\n",
       "5674  \\nI don't know what you mean by 'edged', but s...     science       6\n",
       "121   \\nSo is there any problems putting a drive for...    computer       1\n",
       "4132  : >\\n: >I think you're letting atheist mytholo...         NaN       8\n",
       "6831  To Rob and all others that have been debating ...    politics       3\n",
       "1769  Cambridge  Audio  Integrated  Amp  P70  -  60W...       sales       5\n",
       "...                                                 ...         ...     ...\n",
       "2976  \\n    I don't remember the formula's off hand ...  automobile       0\n",
       "3966  I am selling Joe Montana SportsTalk Football '...       sales       5\n",
       "3412  \\nNot in isolated ground recepticles (usually ...     science       6\n",
       "4207  Hi.\\n\\nMy wife has aquired some thyroidal (sp?...    medicine       2\n",
       "2148  \\n\\nDo you mean a prog. that doesn't jump to t...    computer       1\n",
       "\n",
       "[7532 rows x 3 columns]"
      ]
     },
     "execution_count": 22,
     "metadata": {},
     "output_type": "execute_result"
    }
   ],
   "source": []
  },
  {
   "cell_type": "markdown",
   "id": "71ef1821",
   "metadata": {},
   "source": [
    "# Model Pipeline"
   ]
  },
  {
   "cell_type": "markdown",
   "id": "fb18f49b",
   "metadata": {},
   "source": [
    "### Hyperparameters fine-tuning"
   ]
  },
  {
   "cell_type": "code",
   "execution_count": 9,
   "id": "231c2eb9",
   "metadata": {},
   "outputs": [],
   "source": [
    "# TF IDF DIMENSION will affect the model \n",
    "matrix_features  = 2500\n",
    "\n",
    "n_classes =y.nunique()\n",
    "def create_model(optimizer=\"adam\",\n",
    "                 dense_layer_sizes = False,\n",
    "                 dropout=0.1, init='uniform',\n",
    "                 features=matrix_features,neurons=20,\n",
    "                 n_classes = n_classes ):\n",
    "    \n",
    "    model = Sequential()\n",
    "    model.add(Dense(neurons, activation='relu', input_shape=(features,),kernel_initializer=init)) #\n",
    "    model.add(Dropout(dropout), )    \n",
    "\n",
    "    #for layer_size in dense_layer_sizes:\n",
    "    #   model.add(Dense(layer_size, activation='relu'))\n",
    "    #   model.add(Dropout(dropout), )    \n",
    "    \n",
    "    model.add(Dense(n_classes, activation='softmax'))\n",
    "    model.compile(loss='sparse_categorical_crossentropy',\n",
    "                  optimizer=optimizer,\n",
    "                  metrics=['sparse_categorical_accuracy'])\n",
    "    return model\n",
    "\n",
    "\n",
    "\n",
    "\n",
    "\n",
    "#dense_layer_sizes = [[] , []]\n",
    "#param_grid = dict(neurons=neurons, epochs = epochs, batch_size =batch_size)\n",
    "\n",
    "param_grid = {\n",
    "    'tfidf__ngram_range': [(1,1), (1,2)],\n",
    "    'kc__epochs': [20,30,50],\n",
    "    'kc__neurons': [10, 20, 30, 100],\n",
    "    'kc__batch_size':[16, 32,50],\n",
    "    'kc__dropout': [ 0.3, 0.1, 0]\n",
    "}\n",
    "\n",
    "\n",
    "#StratifiedKFold(n_splits=2, shuffle=True)\n",
    "\n"
   ]
  },
  {
   "cell_type": "code",
   "execution_count": 10,
   "id": "4329fdb9",
   "metadata": {},
   "outputs": [
    {
     "name": "stderr",
     "output_type": "stream",
     "text": [
      "C:\\Users\\david\\AppData\\Local\\Temp/ipykernel_31904/1029838963.py:5: DeprecationWarning: KerasClassifier is deprecated, use Sci-Keras (https://github.com/adriangb/scikeras) instead.\n",
      "  ('kc' ,KerasClassifier(build_fn=create_model, verbose = 0))\n"
     ]
    }
   ],
   "source": [
    "model_pipeline = Pipeline([\n",
    "                    ('tfidf', TfidfVectorizer(use_idf = True,max_features=2500)),\n",
    "                    ('sparse_to_dense',DenseTransformer()),\n",
    "                    ('scaler', MaxAbsScaler()),\n",
    "                    ('kc' ,KerasClassifier(build_fn=create_model, verbose = 0))\n",
    "])\n",
    "\n",
    "folds = 3\n",
    "skf = StratifiedKFold(n_splits=folds, shuffle = True, random_state = 1001)\n",
    "grid = GridSearchCV(estimator=model_pipeline,\n",
    "                    verbose=1,\n",
    "                    cv=skf.split(X,y),\n",
    "                    param_grid=param_grid,\n",
    "                    scoring='accuracy')"
   ]
  },
  {
   "cell_type": "code",
   "execution_count": 11,
   "id": "a110b12b",
   "metadata": {},
   "outputs": [
    {
     "data": {
      "text/html": [
       "<style>#sk-96ec21cc-172c-4dd5-a75e-a37ccac3776b {color: black;background-color: white;}#sk-96ec21cc-172c-4dd5-a75e-a37ccac3776b pre{padding: 0;}#sk-96ec21cc-172c-4dd5-a75e-a37ccac3776b div.sk-toggleable {background-color: white;}#sk-96ec21cc-172c-4dd5-a75e-a37ccac3776b label.sk-toggleable__label {cursor: pointer;display: block;width: 100%;margin-bottom: 0;padding: 0.3em;box-sizing: border-box;text-align: center;}#sk-96ec21cc-172c-4dd5-a75e-a37ccac3776b div.sk-toggleable__content {max-height: 0;max-width: 0;overflow: hidden;text-align: left;background-color: #f0f8ff;}#sk-96ec21cc-172c-4dd5-a75e-a37ccac3776b div.sk-toggleable__content pre {margin: 0.2em;color: black;border-radius: 0.25em;background-color: #f0f8ff;}#sk-96ec21cc-172c-4dd5-a75e-a37ccac3776b input.sk-toggleable__control:checked~div.sk-toggleable__content {max-height: 200px;max-width: 100%;overflow: auto;}#sk-96ec21cc-172c-4dd5-a75e-a37ccac3776b div.sk-estimator input.sk-toggleable__control:checked~label.sk-toggleable__label {background-color: #d4ebff;}#sk-96ec21cc-172c-4dd5-a75e-a37ccac3776b div.sk-label input.sk-toggleable__control:checked~label.sk-toggleable__label {background-color: #d4ebff;}#sk-96ec21cc-172c-4dd5-a75e-a37ccac3776b input.sk-hidden--visually {border: 0;clip: rect(1px 1px 1px 1px);clip: rect(1px, 1px, 1px, 1px);height: 1px;margin: -1px;overflow: hidden;padding: 0;position: absolute;width: 1px;}#sk-96ec21cc-172c-4dd5-a75e-a37ccac3776b div.sk-estimator {font-family: monospace;background-color: #f0f8ff;border: 1px dotted black;border-radius: 0.25em;box-sizing: border-box;margin-bottom: 0.5em;}#sk-96ec21cc-172c-4dd5-a75e-a37ccac3776b div.sk-estimator:hover {background-color: #d4ebff;}#sk-96ec21cc-172c-4dd5-a75e-a37ccac3776b div.sk-parallel-item::after {content: \"\";width: 100%;border-bottom: 1px solid gray;flex-grow: 1;}#sk-96ec21cc-172c-4dd5-a75e-a37ccac3776b div.sk-label:hover label.sk-toggleable__label {background-color: #d4ebff;}#sk-96ec21cc-172c-4dd5-a75e-a37ccac3776b div.sk-serial::before {content: \"\";position: absolute;border-left: 1px solid gray;box-sizing: border-box;top: 2em;bottom: 0;left: 50%;}#sk-96ec21cc-172c-4dd5-a75e-a37ccac3776b div.sk-serial {display: flex;flex-direction: column;align-items: center;background-color: white;padding-right: 0.2em;padding-left: 0.2em;}#sk-96ec21cc-172c-4dd5-a75e-a37ccac3776b div.sk-item {z-index: 1;}#sk-96ec21cc-172c-4dd5-a75e-a37ccac3776b div.sk-parallel {display: flex;align-items: stretch;justify-content: center;background-color: white;}#sk-96ec21cc-172c-4dd5-a75e-a37ccac3776b div.sk-parallel::before {content: \"\";position: absolute;border-left: 1px solid gray;box-sizing: border-box;top: 2em;bottom: 0;left: 50%;}#sk-96ec21cc-172c-4dd5-a75e-a37ccac3776b div.sk-parallel-item {display: flex;flex-direction: column;position: relative;background-color: white;}#sk-96ec21cc-172c-4dd5-a75e-a37ccac3776b div.sk-parallel-item:first-child::after {align-self: flex-end;width: 50%;}#sk-96ec21cc-172c-4dd5-a75e-a37ccac3776b div.sk-parallel-item:last-child::after {align-self: flex-start;width: 50%;}#sk-96ec21cc-172c-4dd5-a75e-a37ccac3776b div.sk-parallel-item:only-child::after {width: 0;}#sk-96ec21cc-172c-4dd5-a75e-a37ccac3776b div.sk-dashed-wrapped {border: 1px dashed gray;margin: 0 0.4em 0.5em 0.4em;box-sizing: border-box;padding-bottom: 0.4em;background-color: white;position: relative;}#sk-96ec21cc-172c-4dd5-a75e-a37ccac3776b div.sk-label label {font-family: monospace;font-weight: bold;background-color: white;display: inline-block;line-height: 1.2em;}#sk-96ec21cc-172c-4dd5-a75e-a37ccac3776b div.sk-label-container {position: relative;z-index: 2;text-align: center;}#sk-96ec21cc-172c-4dd5-a75e-a37ccac3776b div.sk-container {display: inline-block;position: relative;}</style><div id=\"sk-96ec21cc-172c-4dd5-a75e-a37ccac3776b\" class\"sk-top-container\"><div class=\"sk-container\"><div class=\"sk-item sk-dashed-wrapped\"><div class=\"sk-label-container\"><div class=\"sk-label sk-toggleable\"><input class=\"sk-toggleable__control sk-hidden--visually\" id=\"1afcb451-d9fe-46af-a067-0f3a1b1664b8\" type=\"checkbox\" ><label class=\"sk-toggleable__label\" for=\"1afcb451-d9fe-46af-a067-0f3a1b1664b8\">GridSearchCV</label><div class=\"sk-toggleable__content\"><pre>GridSearchCV(cv=<generator object _BaseKFold.split at 0x0000018B79DE3510>,\n",
       "             estimator=Pipeline(steps=[('tfidf',\n",
       "                                        TfidfVectorizer(max_features=2500)),\n",
       "                                       ('sparse_to_dense',\n",
       "                                        <__main__.DenseTransformer object at 0x0000018B79DE57C0>),\n",
       "                                       ('scaler', MaxAbsScaler()),\n",
       "                                       ('kc',\n",
       "                                        <keras.wrappers.scikit_learn.KerasClassifier object at 0x0000018B79DE5A30>)]),\n",
       "             param_grid={'kc__batch_size': [16, 32, 50],\n",
       "                         'kc__dropout': [0.3, 0.1, 0],\n",
       "                         'kc__epochs': [20, 30, 50],\n",
       "                         'kc__neurons': [10, 20, 30, 100],\n",
       "                         'tfidf__ngram_range': [(1, 1), (1, 2)]},\n",
       "             scoring='accuracy', verbose=1)</pre></div></div></div><div class=\"sk-parallel\"><div class=\"sk-parallel-item\"><div class=\"sk-item\"><div class=\"sk-serial\"><div class=\"sk-item\"><div class=\"sk-serial\"><div class=\"sk-item\"><div class=\"sk-estimator sk-toggleable\"><input class=\"sk-toggleable__control sk-hidden--visually\" id=\"22ab6054-23a6-498a-bf70-bdf215d54694\" type=\"checkbox\" ><label class=\"sk-toggleable__label\" for=\"22ab6054-23a6-498a-bf70-bdf215d54694\">TfidfVectorizer</label><div class=\"sk-toggleable__content\"><pre>TfidfVectorizer(max_features=2500)</pre></div></div></div><div class=\"sk-item\"><div class=\"sk-estimator sk-toggleable\"><input class=\"sk-toggleable__control sk-hidden--visually\" id=\"24eb918a-2a99-4da3-8300-9809db083b72\" type=\"checkbox\" ><label class=\"sk-toggleable__label\" for=\"24eb918a-2a99-4da3-8300-9809db083b72\">DenseTransformer</label><div class=\"sk-toggleable__content\"><pre><__main__.DenseTransformer object at 0x0000018B79DE57C0></pre></div></div></div><div class=\"sk-item\"><div class=\"sk-estimator sk-toggleable\"><input class=\"sk-toggleable__control sk-hidden--visually\" id=\"9c2fa118-2bc7-476c-b8ef-ce365e53ee13\" type=\"checkbox\" ><label class=\"sk-toggleable__label\" for=\"9c2fa118-2bc7-476c-b8ef-ce365e53ee13\">MaxAbsScaler</label><div class=\"sk-toggleable__content\"><pre>MaxAbsScaler()</pre></div></div></div><div class=\"sk-item\"><div class=\"sk-estimator sk-toggleable\"><input class=\"sk-toggleable__control sk-hidden--visually\" id=\"458313c5-c074-422f-a722-d24ff92e1087\" type=\"checkbox\" ><label class=\"sk-toggleable__label\" for=\"458313c5-c074-422f-a722-d24ff92e1087\">KerasClassifier</label><div class=\"sk-toggleable__content\"><pre><keras.wrappers.scikit_learn.KerasClassifier object at 0x0000018B79DE5A30></pre></div></div></div></div></div></div></div></div></div></div></div></div>"
      ],
      "text/plain": [
       "GridSearchCV(cv=<generator object _BaseKFold.split at 0x0000018B79DE3510>,\n",
       "             estimator=Pipeline(steps=[('tfidf',\n",
       "                                        TfidfVectorizer(max_features=2500)),\n",
       "                                       ('sparse_to_dense',\n",
       "                                        <__main__.DenseTransformer object at 0x0000018B79DE57C0>),\n",
       "                                       ('scaler', MaxAbsScaler()),\n",
       "                                       ('kc',\n",
       "                                        <keras.wrappers.scikit_learn.KerasClassifier object at 0x0000018B79DE5A30>)]),\n",
       "             param_grid={'kc__batch_size': [16, 32, 50],\n",
       "                         'kc__dropout': [0.3, 0.1, 0],\n",
       "                         'kc__epochs': [20, 30, 50],\n",
       "                         'kc__neurons': [10, 20, 30, 100],\n",
       "                         'tfidf__ngram_range': [(1, 1), (1, 2)]},\n",
       "             scoring='accuracy', verbose=1)"
      ]
     },
     "execution_count": 11,
     "metadata": {},
     "output_type": "execute_result"
    }
   ],
   "source": [
    "from sklearn import set_config\n",
    "set_config(display='diagram')\n",
    "\n",
    "grid"
   ]
  },
  {
   "cell_type": "markdown",
   "id": "60a6fd61",
   "metadata": {},
   "source": [
    "#### Grid Search "
   ]
  },
  {
   "cell_type": "code",
   "execution_count": 12,
   "id": "b58b5ea5",
   "metadata": {},
   "outputs": [],
   "source": [
    "# limit = 100\n",
    "# X_p = prep_pipeline.fit_transform(X[:limit]).toarray()\n",
    "# X_p.shape"
   ]
  },
  {
   "cell_type": "code",
   "execution_count": 13,
   "id": "08eb8f0f",
   "metadata": {},
   "outputs": [],
   "source": [
    "# from sklearn.utils.multiclass import type_of_target\n",
    "# type_of_target(y) , type_of_target(yc)"
   ]
  },
  {
   "cell_type": "code",
   "execution_count": 14,
   "id": "34bd97e1",
   "metadata": {},
   "outputs": [],
   "source": [
    "X_t = prep_pipeline.fit_transform(X)"
   ]
  },
  {
   "cell_type": "code",
   "execution_count": 15,
   "id": "df214a7a",
   "metadata": {},
   "outputs": [
    {
     "name": "stdout",
     "output_type": "stream",
     "text": [
      "Fitting 3 folds for each of 216 candidates, totalling 648 fits\n",
      "Tuning Time s: 3911.33\n"
     ]
    },
    {
     "data": {
      "text/html": [
       "<div>\n",
       "<style scoped>\n",
       "    .dataframe tbody tr th:only-of-type {\n",
       "        vertical-align: middle;\n",
       "    }\n",
       "\n",
       "    .dataframe tbody tr th {\n",
       "        vertical-align: top;\n",
       "    }\n",
       "\n",
       "    .dataframe thead th {\n",
       "        text-align: right;\n",
       "    }\n",
       "</style>\n",
       "<table border=\"1\" class=\"dataframe\">\n",
       "  <thead>\n",
       "    <tr style=\"text-align: right;\">\n",
       "      <th></th>\n",
       "      <th>mean_fit_time</th>\n",
       "      <th>std_fit_time</th>\n",
       "      <th>mean_score_time</th>\n",
       "      <th>std_score_time</th>\n",
       "      <th>param_kc__batch_size</th>\n",
       "      <th>param_kc__dropout</th>\n",
       "      <th>param_kc__epochs</th>\n",
       "      <th>param_kc__neurons</th>\n",
       "      <th>param_tfidf__ngram_range</th>\n",
       "      <th>params</th>\n",
       "      <th>split0_test_score</th>\n",
       "      <th>split1_test_score</th>\n",
       "      <th>split2_test_score</th>\n",
       "      <th>mean_test_score</th>\n",
       "      <th>std_test_score</th>\n",
       "      <th>rank_test_score</th>\n",
       "    </tr>\n",
       "  </thead>\n",
       "  <tbody>\n",
       "    <tr>\n",
       "      <th>168</th>\n",
       "      <td>2.176032</td>\n",
       "      <td>0.027256</td>\n",
       "      <td>0.315198</td>\n",
       "      <td>0.013800</td>\n",
       "      <td>50</td>\n",
       "      <td>0.1</td>\n",
       "      <td>20</td>\n",
       "      <td>10</td>\n",
       "      <td>(1, 1)</td>\n",
       "      <td>{'kc__batch_size': 50, 'kc__dropout': 0.1, 'kc...</td>\n",
       "      <td>0.753205</td>\n",
       "      <td>0.751923</td>\n",
       "      <td>0.760256</td>\n",
       "      <td>0.755128</td>\n",
       "      <td>0.003664</td>\n",
       "      <td>1</td>\n",
       "    </tr>\n",
       "    <tr>\n",
       "      <th>149</th>\n",
       "      <td>3.323972</td>\n",
       "      <td>0.095827</td>\n",
       "      <td>0.389523</td>\n",
       "      <td>0.009375</td>\n",
       "      <td>50</td>\n",
       "      <td>0.3</td>\n",
       "      <td>20</td>\n",
       "      <td>30</td>\n",
       "      <td>(1, 2)</td>\n",
       "      <td>{'kc__batch_size': 50, 'kc__dropout': 0.3, 'kc...</td>\n",
       "      <td>0.748718</td>\n",
       "      <td>0.761538</td>\n",
       "      <td>0.753846</td>\n",
       "      <td>0.754701</td>\n",
       "      <td>0.005269</td>\n",
       "      <td>2</td>\n",
       "    </tr>\n",
       "    <tr>\n",
       "      <th>148</th>\n",
       "      <td>2.414366</td>\n",
       "      <td>0.052360</td>\n",
       "      <td>0.352718</td>\n",
       "      <td>0.036049</td>\n",
       "      <td>50</td>\n",
       "      <td>0.3</td>\n",
       "      <td>20</td>\n",
       "      <td>30</td>\n",
       "      <td>(1, 1)</td>\n",
       "      <td>{'kc__batch_size': 50, 'kc__dropout': 0.3, 'kc...</td>\n",
       "      <td>0.750000</td>\n",
       "      <td>0.751282</td>\n",
       "      <td>0.761538</td>\n",
       "      <td>0.754274</td>\n",
       "      <td>0.005164</td>\n",
       "      <td>3</td>\n",
       "    </tr>\n",
       "    <tr>\n",
       "      <th>75</th>\n",
       "      <td>3.896647</td>\n",
       "      <td>0.031140</td>\n",
       "      <td>0.412531</td>\n",
       "      <td>0.011756</td>\n",
       "      <td>32</td>\n",
       "      <td>0.3</td>\n",
       "      <td>20</td>\n",
       "      <td>20</td>\n",
       "      <td>(1, 2)</td>\n",
       "      <td>{'kc__batch_size': 32, 'kc__dropout': 0.3, 'kc...</td>\n",
       "      <td>0.742949</td>\n",
       "      <td>0.764103</td>\n",
       "      <td>0.753205</td>\n",
       "      <td>0.753419</td>\n",
       "      <td>0.008637</td>\n",
       "      <td>4</td>\n",
       "    </tr>\n",
       "    <tr>\n",
       "      <th>146</th>\n",
       "      <td>2.124492</td>\n",
       "      <td>0.048754</td>\n",
       "      <td>0.306730</td>\n",
       "      <td>0.016421</td>\n",
       "      <td>50</td>\n",
       "      <td>0.3</td>\n",
       "      <td>20</td>\n",
       "      <td>20</td>\n",
       "      <td>(1, 1)</td>\n",
       "      <td>{'kc__batch_size': 50, 'kc__dropout': 0.3, 'kc...</td>\n",
       "      <td>0.742949</td>\n",
       "      <td>0.752564</td>\n",
       "      <td>0.763462</td>\n",
       "      <td>0.752991</td>\n",
       "      <td>0.008380</td>\n",
       "      <td>5</td>\n",
       "    </tr>\n",
       "  </tbody>\n",
       "</table>\n",
       "</div>"
      ],
      "text/plain": [
       "     mean_fit_time  std_fit_time  mean_score_time  std_score_time  \\\n",
       "168       2.176032      0.027256         0.315198        0.013800   \n",
       "149       3.323972      0.095827         0.389523        0.009375   \n",
       "148       2.414366      0.052360         0.352718        0.036049   \n",
       "75        3.896647      0.031140         0.412531        0.011756   \n",
       "146       2.124492      0.048754         0.306730        0.016421   \n",
       "\n",
       "    param_kc__batch_size param_kc__dropout param_kc__epochs param_kc__neurons  \\\n",
       "168                   50               0.1               20                10   \n",
       "149                   50               0.3               20                30   \n",
       "148                   50               0.3               20                30   \n",
       "75                    32               0.3               20                20   \n",
       "146                   50               0.3               20                20   \n",
       "\n",
       "    param_tfidf__ngram_range  \\\n",
       "168                   (1, 1)   \n",
       "149                   (1, 2)   \n",
       "148                   (1, 1)   \n",
       "75                    (1, 2)   \n",
       "146                   (1, 1)   \n",
       "\n",
       "                                                params  split0_test_score  \\\n",
       "168  {'kc__batch_size': 50, 'kc__dropout': 0.1, 'kc...           0.753205   \n",
       "149  {'kc__batch_size': 50, 'kc__dropout': 0.3, 'kc...           0.748718   \n",
       "148  {'kc__batch_size': 50, 'kc__dropout': 0.3, 'kc...           0.750000   \n",
       "75   {'kc__batch_size': 32, 'kc__dropout': 0.3, 'kc...           0.742949   \n",
       "146  {'kc__batch_size': 50, 'kc__dropout': 0.3, 'kc...           0.742949   \n",
       "\n",
       "     split1_test_score  split2_test_score  mean_test_score  std_test_score  \\\n",
       "168           0.751923           0.760256         0.755128        0.003664   \n",
       "149           0.761538           0.753846         0.754701        0.005269   \n",
       "148           0.751282           0.761538         0.754274        0.005164   \n",
       "75            0.764103           0.753205         0.753419        0.008637   \n",
       "146           0.752564           0.763462         0.752991        0.008380   \n",
       "\n",
       "     rank_test_score  \n",
       "168                1  \n",
       "149                2  \n",
       "148                3  \n",
       "75                 4  \n",
       "146                5  "
      ]
     },
     "execution_count": 15,
     "metadata": {},
     "output_type": "execute_result"
    }
   ],
   "source": [
    "import warnings\n",
    "warnings.simplefilter(action='ignore', category=FutureWarning)\n",
    "\n",
    "t0 = time.time()\n",
    "grid_fitted = grid.fit(X_t,y) # Pipe line fitted with preprocessed clean text spacy\n",
    "results  =  pd.DataFrame(grid_fitted.cv_results_).sort_values('rank_test_score')\n",
    "\n",
    "t1 = time.time()\n",
    "delta = t1-t0\n",
    "print(f'Tuning Time s: {round(delta,3)}')\n",
    "results.head()"
   ]
  },
  {
   "cell_type": "markdown",
   "id": "9c8520c6",
   "metadata": {},
   "source": [
    "## Fit the Pipeline"
   ]
  },
  {
   "cell_type": "code",
   "execution_count": 16,
   "id": "d52bf652",
   "metadata": {},
   "outputs": [],
   "source": [
    "# TEST SAMPLE\n",
    "# limit = 1000\n",
    "\n",
    "# model = create_model(neurons=20)\n",
    "# model.summary()"
   ]
  },
  {
   "cell_type": "code",
   "execution_count": 17,
   "id": "a8ccdfd1",
   "metadata": {},
   "outputs": [
    {
     "data": {
      "text/plain": [
       "2.864614248275757"
      ]
     },
     "execution_count": 17,
     "metadata": {},
     "output_type": "execute_result"
    }
   ],
   "source": [
    "#+++++++++++++++++++++++ BEST PIPE PARAMS ++++++++++++++++++++++++++++++++\n",
    "opt_pipeline  = grid_fitted.best_estimator_\n",
    "\n",
    "t0 = time.time()\n",
    "fitted_pipe = opt_pipeline.fit(X,y)\n",
    "time.time() - t0 "
   ]
  },
  {
   "cell_type": "markdown",
   "id": "53b5824b",
   "metadata": {},
   "source": [
    "# Testing Pipeline"
   ]
  },
  {
   "cell_type": "code",
   "execution_count": 18,
   "id": "7de343ed",
   "metadata": {},
   "outputs": [],
   "source": [
    "dataset = fetch_20newsgroups(subset='test', remove=('headers', 'footers', 'quotes'), shuffle=True, random_state=42)\n",
    "df = pd.DataFrame()\n",
    "df['text'] = dataset.data\n",
    "df['source'] = dataset.target\n",
    "label=[]\n",
    "for i in df['source']:\n",
    "    label.append(dataset.target_names[i])\n",
    "df['label']=label\n",
    "df.drop(['source'],axis=1,inplace=True)\n",
    "\n",
    "#++++++++++++++++++++++++++++++++++++++++Macro Categories++++++++++++++++++++++++++++++++++++++++++++++++++++++++++++++++++++++++++++++++++\n",
    "key_categories = ['politics','sport','religion','computer','sales','automobile','science','medicine']\n",
    "cat_dict = {\n",
    "**dict.fromkeys(['talk.politics.misc','talk.politics.guns','talk.politics.mideast'],'politics'),\n",
    "**dict.fromkeys( ['rec.sport.hockey','rec.sport.baseball'],'sport'),\n",
    "**dict.fromkeys( ['soc.religion.christian','talk.religion.misc'],'religion'),\n",
    "**dict.fromkeys(['comp.windows.x','comp.sys.ibm.pc.hardware','comp.os.ms-windows.misc','comp.graphics','comp.sys.mac.hardware'],'computer'),\n",
    "**dict.fromkeys( ['misc.forsale'],'sales'),\n",
    "**dict.fromkeys( ['rec.autos','rec.motorcycles'],'automobile'),\n",
    "**dict.fromkeys( ['sci.crypt','sci.electronics','sci.space'],'science'),\n",
    "**dict.fromkeys( ['sci.med'],'medicine') \n",
    "}\n",
    "df['label']=df['label'].map(cat_dict)\n",
    "#++++++++++++++++++++++++++++++++++++++++++++++++++++++++++++++++++++++++++++++++++++++++++++++++++++++++++++++++++++++++++++++++++++++++++\n",
    "\n",
    "\n",
    "label_encoder = LabelEncoder()  \n",
    "# Encode labels in column 'species'.\n",
    "df['target']= label_encoder.fit_transform(df['label'])\n",
    "\n",
    "\n",
    "#++++++++++++++++++++++++ PICK RANDOM 30 % OF TEST++++++++++++++++++++++++++\n",
    "df = df.sample(frac = 1) \n",
    "# dependent and independent variable\n",
    "X_test = df['text']\n",
    "y_test = df['target']\n",
    "#_____________________________________________________________________________________________________________________________________________"
   ]
  },
  {
   "cell_type": "code",
   "execution_count": 19,
   "id": "727b58fb",
   "metadata": {},
   "outputs": [
    {
     "data": {
      "text/plain": [
       "(7532,)"
      ]
     },
     "execution_count": 19,
     "metadata": {},
     "output_type": "execute_result"
    }
   ],
   "source": [
    "X_test.shape"
   ]
  },
  {
   "cell_type": "code",
   "execution_count": null,
   "id": "a78b4f93",
   "metadata": {},
   "outputs": [],
   "source": [
    "X_test_prep = prep_pipeline.transform(X_test)\n",
    "y_pred  = opt_pipeline.predict(X_test_prep)\n",
    "print(classification_report(y_test,y_pred))"
   ]
  },
  {
   "cell_type": "code",
   "execution_count": null,
   "id": "7f18dc33",
   "metadata": {},
   "outputs": [],
   "source": [
    "dist_proba_pred = pd.DataFrame(fitted_pipe.predict_proba(X_test_prep))\n",
    "dist_proba_pred"
   ]
  },
  {
   "cell_type": "code",
   "execution_count": null,
   "id": "7c5c9cfb",
   "metadata": {},
   "outputs": [],
   "source": []
  }
 ],
 "metadata": {
  "kernelspec": {
   "display_name": "Python 3 (ipykernel)",
   "language": "python",
   "name": "python3"
  },
  "language_info": {
   "codemirror_mode": {
    "name": "ipython",
    "version": 3
   },
   "file_extension": ".py",
   "mimetype": "text/x-python",
   "name": "python",
   "nbconvert_exporter": "python",
   "pygments_lexer": "ipython3",
   "version": "3.8.5"
  }
 },
 "nbformat": 4,
 "nbformat_minor": 5
}
