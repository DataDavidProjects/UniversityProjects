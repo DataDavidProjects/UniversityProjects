{
 "cells": [
  {
   "cell_type": "markdown",
   "id": "306653c4",
   "metadata": {},
   "source": [
    "# Classification of AI Scientific Publications \n",
    "The Cora dataset consists of **2708 scientific publications classified into one of seven classes**.\n",
    "The citation network consists of **5278 links.**\n",
    "Each publication in the dataset is described by a 0 or 1 valued word vector indicating the absence or presence of the corresponding word from the dictionary. \n",
    "The dictionary consists of **1433 unique words.**\n",
    "\n",
    "\n",
    "![title](https://tkipf.github.io/graph-convolutional-networks/images/gcn_web.png)\n",
    "\n",
    "Source: https://tkipf.github.io/graph-convolutional-networks/"
   ]
  },
  {
   "cell_type": "code",
   "execution_count": 1,
   "id": "09fa2924",
   "metadata": {},
   "outputs": [],
   "source": [
    "################################### Libraries ##################################################\n",
    "import torch\n",
    "from torch.nn import Linear\n",
    "import torch.nn.functional as F\n",
    "from torch_geometric.nn import GCNConv\n",
    "import  torch_geometric.data as data\n",
    "from torch_geometric.datasets import Planetoid\n",
    "from torch_geometric.transforms import NormalizeFeatures , AddSelfLoops\n",
    "from torch_geometric.utils.convert import from_networkx\n",
    "import os\n",
    "import numpy as np\n",
    "import networkx as nx\n",
    "import pandas as pd\n",
    "from sklearn.metrics import *\n",
    "#data_dir = \"C:/Users/david/Desktop/cora\"\n",
    "data_dir = '/Users/davide_lupis/Desktop/cora'\n",
    "import matplotlib.pyplot as plt\n",
    "import seaborn as sns\n",
    "#################################################################################################\n",
    "def series(x,col=None):\n",
    "    if col:\n",
    "        return pd.Series(x[col].numpy())\n",
    "    else:return pd.Series(x.numpy())"
   ]
  },
  {
   "cell_type": "markdown",
   "id": "b8ad67f3",
   "metadata": {},
   "source": [
    "# Data Import"
   ]
  },
  {
   "cell_type": "code",
   "execution_count": 2,
   "id": "ea7ea331",
   "metadata": {},
   "outputs": [
    {
     "data": {
      "text/html": [
       "<div>\n",
       "<style scoped>\n",
       "    .dataframe tbody tr th:only-of-type {\n",
       "        vertical-align: middle;\n",
       "    }\n",
       "\n",
       "    .dataframe tbody tr th {\n",
       "        vertical-align: top;\n",
       "    }\n",
       "\n",
       "    .dataframe thead th {\n",
       "        text-align: right;\n",
       "    }\n",
       "</style>\n",
       "<table border=\"1\" class=\"dataframe\">\n",
       "  <thead>\n",
       "    <tr style=\"text-align: right;\">\n",
       "      <th></th>\n",
       "      <th>target</th>\n",
       "      <th>source</th>\n",
       "      <th>relation_type</th>\n",
       "    </tr>\n",
       "  </thead>\n",
       "  <tbody>\n",
       "    <tr>\n",
       "      <th>4681</th>\n",
       "      <td>248431</td>\n",
       "      <td>1113831</td>\n",
       "      <td>cites</td>\n",
       "    </tr>\n",
       "    <tr>\n",
       "      <th>2692</th>\n",
       "      <td>30817</td>\n",
       "      <td>3229</td>\n",
       "      <td>cites</td>\n",
       "    </tr>\n",
       "    <tr>\n",
       "      <th>2031</th>\n",
       "      <td>15429</td>\n",
       "      <td>89547</td>\n",
       "      <td>cites</td>\n",
       "    </tr>\n",
       "    <tr>\n",
       "      <th>4909</th>\n",
       "      <td>503877</td>\n",
       "      <td>1154076</td>\n",
       "      <td>cites</td>\n",
       "    </tr>\n",
       "    <tr>\n",
       "      <th>1667</th>\n",
       "      <td>10169</td>\n",
       "      <td>552469</td>\n",
       "      <td>cites</td>\n",
       "    </tr>\n",
       "  </tbody>\n",
       "</table>\n",
       "</div>"
      ],
      "text/plain": [
       "      target   source relation_type\n",
       "4681  248431  1113831         cites\n",
       "2692   30817     3229         cites\n",
       "2031   15429    89547         cites\n",
       "4909  503877  1154076         cites\n",
       "1667   10169   552469         cites"
      ]
     },
     "execution_count": 2,
     "metadata": {},
     "output_type": "execute_result"
    }
   ],
   "source": [
    "edgelist = pd.read_csv(os.path.join(data_dir, \"cora.cites\"), sep='\\t', header=None, names=[\"target\", \"source\"])\n",
    "edgelist[\"relation_type\"] = \"cites\"\n",
    "edgelist.sample(frac=1).head(5)"
   ]
  },
  {
   "cell_type": "code",
   "execution_count": 3,
   "id": "6450078a",
   "metadata": {},
   "outputs": [
    {
     "data": {
      "text/html": [
       "<div>\n",
       "<style scoped>\n",
       "    .dataframe tbody tr th:only-of-type {\n",
       "        vertical-align: middle;\n",
       "    }\n",
       "\n",
       "    .dataframe tbody tr th {\n",
       "        vertical-align: top;\n",
       "    }\n",
       "\n",
       "    .dataframe thead th {\n",
       "        text-align: right;\n",
       "    }\n",
       "</style>\n",
       "<table border=\"1\" class=\"dataframe\">\n",
       "  <thead>\n",
       "    <tr style=\"text-align: right;\">\n",
       "      <th></th>\n",
       "      <th>w_0</th>\n",
       "      <th>w_1</th>\n",
       "      <th>w_2</th>\n",
       "      <th>w_3</th>\n",
       "      <th>w_4</th>\n",
       "      <th>w_5</th>\n",
       "      <th>w_6</th>\n",
       "      <th>w_7</th>\n",
       "      <th>w_8</th>\n",
       "      <th>w_9</th>\n",
       "      <th>...</th>\n",
       "      <th>w_1424</th>\n",
       "      <th>w_1425</th>\n",
       "      <th>w_1426</th>\n",
       "      <th>w_1427</th>\n",
       "      <th>w_1428</th>\n",
       "      <th>w_1429</th>\n",
       "      <th>w_1430</th>\n",
       "      <th>w_1431</th>\n",
       "      <th>w_1432</th>\n",
       "      <th>subject</th>\n",
       "    </tr>\n",
       "  </thead>\n",
       "  <tbody>\n",
       "    <tr>\n",
       "      <th>31336</th>\n",
       "      <td>0</td>\n",
       "      <td>0</td>\n",
       "      <td>0</td>\n",
       "      <td>0</td>\n",
       "      <td>0</td>\n",
       "      <td>0</td>\n",
       "      <td>0</td>\n",
       "      <td>0</td>\n",
       "      <td>0</td>\n",
       "      <td>0</td>\n",
       "      <td>...</td>\n",
       "      <td>0</td>\n",
       "      <td>0</td>\n",
       "      <td>1</td>\n",
       "      <td>0</td>\n",
       "      <td>0</td>\n",
       "      <td>0</td>\n",
       "      <td>0</td>\n",
       "      <td>0</td>\n",
       "      <td>0</td>\n",
       "      <td>Neural_Networks</td>\n",
       "    </tr>\n",
       "    <tr>\n",
       "      <th>1061127</th>\n",
       "      <td>0</td>\n",
       "      <td>0</td>\n",
       "      <td>0</td>\n",
       "      <td>0</td>\n",
       "      <td>0</td>\n",
       "      <td>0</td>\n",
       "      <td>0</td>\n",
       "      <td>0</td>\n",
       "      <td>0</td>\n",
       "      <td>0</td>\n",
       "      <td>...</td>\n",
       "      <td>0</td>\n",
       "      <td>1</td>\n",
       "      <td>0</td>\n",
       "      <td>0</td>\n",
       "      <td>0</td>\n",
       "      <td>0</td>\n",
       "      <td>0</td>\n",
       "      <td>0</td>\n",
       "      <td>0</td>\n",
       "      <td>Rule_Learning</td>\n",
       "    </tr>\n",
       "    <tr>\n",
       "      <th>1106406</th>\n",
       "      <td>0</td>\n",
       "      <td>0</td>\n",
       "      <td>0</td>\n",
       "      <td>0</td>\n",
       "      <td>0</td>\n",
       "      <td>0</td>\n",
       "      <td>0</td>\n",
       "      <td>0</td>\n",
       "      <td>0</td>\n",
       "      <td>0</td>\n",
       "      <td>...</td>\n",
       "      <td>0</td>\n",
       "      <td>0</td>\n",
       "      <td>0</td>\n",
       "      <td>0</td>\n",
       "      <td>0</td>\n",
       "      <td>0</td>\n",
       "      <td>0</td>\n",
       "      <td>0</td>\n",
       "      <td>0</td>\n",
       "      <td>Reinforcement_Learning</td>\n",
       "    </tr>\n",
       "    <tr>\n",
       "      <th>13195</th>\n",
       "      <td>0</td>\n",
       "      <td>0</td>\n",
       "      <td>0</td>\n",
       "      <td>0</td>\n",
       "      <td>0</td>\n",
       "      <td>0</td>\n",
       "      <td>0</td>\n",
       "      <td>0</td>\n",
       "      <td>0</td>\n",
       "      <td>0</td>\n",
       "      <td>...</td>\n",
       "      <td>0</td>\n",
       "      <td>0</td>\n",
       "      <td>0</td>\n",
       "      <td>0</td>\n",
       "      <td>0</td>\n",
       "      <td>0</td>\n",
       "      <td>0</td>\n",
       "      <td>0</td>\n",
       "      <td>0</td>\n",
       "      <td>Reinforcement_Learning</td>\n",
       "    </tr>\n",
       "    <tr>\n",
       "      <th>37879</th>\n",
       "      <td>0</td>\n",
       "      <td>0</td>\n",
       "      <td>0</td>\n",
       "      <td>0</td>\n",
       "      <td>0</td>\n",
       "      <td>0</td>\n",
       "      <td>0</td>\n",
       "      <td>0</td>\n",
       "      <td>0</td>\n",
       "      <td>0</td>\n",
       "      <td>...</td>\n",
       "      <td>0</td>\n",
       "      <td>0</td>\n",
       "      <td>0</td>\n",
       "      <td>0</td>\n",
       "      <td>0</td>\n",
       "      <td>0</td>\n",
       "      <td>0</td>\n",
       "      <td>0</td>\n",
       "      <td>0</td>\n",
       "      <td>Probabilistic_Methods</td>\n",
       "    </tr>\n",
       "  </tbody>\n",
       "</table>\n",
       "<p>5 rows × 1434 columns</p>\n",
       "</div>"
      ],
      "text/plain": [
       "         w_0  w_1  w_2  w_3  w_4  w_5  w_6  w_7  w_8  w_9  ...  w_1424  \\\n",
       "31336      0    0    0    0    0    0    0    0    0    0  ...       0   \n",
       "1061127    0    0    0    0    0    0    0    0    0    0  ...       0   \n",
       "1106406    0    0    0    0    0    0    0    0    0    0  ...       0   \n",
       "13195      0    0    0    0    0    0    0    0    0    0  ...       0   \n",
       "37879      0    0    0    0    0    0    0    0    0    0  ...       0   \n",
       "\n",
       "         w_1425  w_1426  w_1427  w_1428  w_1429  w_1430  w_1431  w_1432  \\\n",
       "31336         0       1       0       0       0       0       0       0   \n",
       "1061127       1       0       0       0       0       0       0       0   \n",
       "1106406       0       0       0       0       0       0       0       0   \n",
       "13195         0       0       0       0       0       0       0       0   \n",
       "37879         0       0       0       0       0       0       0       0   \n",
       "\n",
       "                        subject  \n",
       "31336           Neural_Networks  \n",
       "1061127           Rule_Learning  \n",
       "1106406  Reinforcement_Learning  \n",
       "13195    Reinforcement_Learning  \n",
       "37879     Probabilistic_Methods  \n",
       "\n",
       "[5 rows x 1434 columns]"
      ]
     },
     "execution_count": 3,
     "metadata": {},
     "output_type": "execute_result"
    }
   ],
   "source": [
    "vocabulary = 1433\n",
    "feature_names = [\"w_{}\".format(i) for i in range(vocabulary)]\n",
    "column_names =  feature_names + [\"subject\"]\n",
    "node_data = pd.read_csv(os.path.join(data_dir, \"cora.content\"), sep='\\t', header=None, names=column_names)\n",
    "node_data.head()"
   ]
  },
  {
   "cell_type": "code",
   "execution_count": 4,
   "id": "a86db90d",
   "metadata": {},
   "outputs": [
    {
     "data": {
      "text/plain": [
       "Neural_Networks           818\n",
       "Probabilistic_Methods     426\n",
       "Genetic_Algorithms        418\n",
       "Theory                    351\n",
       "Case_Based                298\n",
       "Reinforcement_Learning    217\n",
       "Rule_Learning             180\n",
       "Name: subject, dtype: int64"
      ]
     },
     "execution_count": 4,
     "metadata": {},
     "output_type": "execute_result"
    }
   ],
   "source": [
    "node_data[\"subject\"].value_counts()"
   ]
  },
  {
   "cell_type": "code",
   "execution_count": 5,
   "id": "f906a4b9",
   "metadata": {},
   "outputs": [
    {
     "data": {
      "text/plain": [
       "0    818\n",
       "3    426\n",
       "5    418\n",
       "4    351\n",
       "6    298\n",
       "2    217\n",
       "1    180\n",
       "Name: subject, dtype: int64"
      ]
     },
     "execution_count": 5,
     "metadata": {},
     "output_type": "execute_result"
    }
   ],
   "source": [
    "# Converting string to values using label encoder since is not possible to switch from string to tensor\n",
    "dictionary = { key:value for key,value in zip( node_data[\"subject\"].unique(), np.arange(0,7))} \n",
    "node_data[\"subject\"].map(dictionary).value_counts()"
   ]
  },
  {
   "cell_type": "code",
   "execution_count": 6,
   "id": "4094b175",
   "metadata": {},
   "outputs": [
    {
     "data": {
      "text/plain": [
       "6    50\n",
       "5    50\n",
       "4    50\n",
       "3    50\n",
       "2    50\n",
       "1    50\n",
       "0    50\n",
       "Name: subject, dtype: int64"
      ]
     },
     "execution_count": 6,
     "metadata": {},
     "output_type": "execute_result"
    }
   ],
   "source": [
    "balanced_train = pd.DataFrame()\n",
    "for i in node_data[\"subject\"].unique():\n",
    "    balanced_train = pd.concat([balanced_train, node_data.loc[node_data[\"subject\"]==i,:].sample(50) ] ,axis = \"rows\") \n",
    "balanced_train = balanced_train.sample(frac = 1)\n",
    "balanced_train[\"subject\"].map(dictionary).value_counts()"
   ]
  },
  {
   "cell_type": "code",
   "execution_count": 7,
   "id": "ab45c3c1",
   "metadata": {},
   "outputs": [],
   "source": [
    "#Creating a Balanced Mask for training\n",
    "node_data['train_mask'] = node_data.index.to_series().apply(lambda x:True if x in balanced_train.index.tolist() else False)\n",
    "node_data['test_mask'] = node_data.index.to_series().apply(lambda x:False if x in balanced_train.index.tolist() else True)"
   ]
  },
  {
   "cell_type": "code",
   "execution_count": 12,
   "id": "d7baffbb",
   "metadata": {},
   "outputs": [
    {
     "data": {
      "text/plain": [
       "Genetic_Algorithms        50\n",
       "Rule_Learning             50\n",
       "Neural_Networks           50\n",
       "Case_Based                50\n",
       "Probabilistic_Methods     50\n",
       "Theory                    50\n",
       "Reinforcement_Learning    50\n",
       "Name: subject, dtype: int64"
      ]
     },
     "execution_count": 12,
     "metadata": {},
     "output_type": "execute_result"
    }
   ],
   "source": [
    "node_data.loc[node_data.train_mask== True,'subject'].value_counts()"
   ]
  },
  {
   "cell_type": "markdown",
   "id": "02f4b5b9",
   "metadata": {},
   "source": [
    "# Data Preprocessing"
   ]
  },
  {
   "cell_type": "code",
   "execution_count": 8,
   "id": "a2919603",
   "metadata": {},
   "outputs": [
    {
     "name": "stdout",
     "output_type": "stream",
     "text": [
      "\n",
      "Dataset: Graph with 2708 nodes and 5278 edges:\n"
     ]
    }
   ],
   "source": [
    "# Create the Graph\n",
    "G = nx.from_pandas_edgelist(edgelist, edge_attr=\"relation_type\")\n",
    "print()\n",
    "print(f'Dataset: {G}:')\n",
    "# Create pytorch Data Object \n",
    "data_nx = from_networkx(G)\n",
    "data_nx[\"x\"] = torch.from_numpy(node_data[feature_names].values.astype(dtype=np.float32)) \n",
    "data_nx[\"y\"] = torch.from_numpy(node_data[\"subject\"].map(dictionary).values.astype(dtype=np.float32) ).type(torch.LongTensor)\n",
    "\n",
    "\n",
    "# Make Balanced Mask as tensor\n",
    "data_nx[\"train_mask\"] = torch.from_numpy(node_data['train_mask'].values.flatten()).type(torch.BoolTensor)\n",
    "data_nx[\"test_mask\"] = torch.from_numpy(node_data['test_mask'].values.flatten()).type(torch.BoolTensor)"
   ]
  },
  {
   "cell_type": "markdown",
   "id": "23bb0a46",
   "metadata": {},
   "source": [
    "# Goal: Node Classification\n",
    "Predict the subject of a paper (node) on the basis of the surrounding node data and the structure of the graph"
   ]
  },
  {
   "cell_type": "code",
   "execution_count": 9,
   "id": "17de676d",
   "metadata": {},
   "outputs": [
    {
     "name": "stdout",
     "output_type": "stream",
     "text": [
      "MLP(\n",
      "  (lin1): Linear(in_features=1433, out_features=16, bias=True)\n",
      "  (lin2): Linear(in_features=16, out_features=7, bias=True)\n",
      ")\n",
      "Test Accuracy MLP: 0.6408\n",
      "GCN(\n",
      "  (conv1): GCNConv(1433, 16)\n",
      "  (conv2): GCNConv(16, 7)\n",
      ")\n",
      "Test Accuracy with GCN: 0.2778\n"
     ]
    }
   ],
   "source": [
    "data = data_nx\n",
    "num_classes = 7 \n",
    "num_features = 1433\n",
    "##################################### Model and Data Preparation ##########################################\n",
    "class MLP(torch.nn.Module):\n",
    "    def __init__(self, hidden_channels):\n",
    "        super().__init__()\n",
    "        torch.manual_seed(12345)\n",
    "        self.lin1 = Linear(num_features, hidden_channels)\n",
    "        self.lin2 = Linear(hidden_channels, num_classes)\n",
    "    def forward(self, x):\n",
    "        x = self.lin1(x)\n",
    "        x = x.relu()\n",
    "        x = F.dropout(x, p=0.5, training=self.training)\n",
    "        x = self.lin2(x)\n",
    "        return x\n",
    "\n",
    "class GCN(torch.nn.Module):\n",
    "    def __init__(self, hidden_channels):\n",
    "        super().__init__()\n",
    "        torch.manual_seed(1234567)\n",
    "        self.conv1 = GCNConv(num_features, hidden_channels)\n",
    "        self.conv2 = GCNConv(hidden_channels, num_classes)\n",
    "\n",
    "    def forward(self, x, edge_index):\n",
    "        x = self.conv1(x, edge_index)\n",
    "        x = x.relu()\n",
    "        x = F.dropout(x, p=0.5, training=self.training)\n",
    "        x = self.conv2(x, edge_index)\n",
    "        return x\n",
    "\n",
    "# How do we choose the dimension of the hidden layers ?\n",
    "# There is no way of knowing in advance, the main idea is that we should reduce the dimensions  and iterate\n",
    "# In literature they propose 16 as the best number of hidden layers\n",
    "n_hidden_dim = 16\n",
    "#################################################################################################\n",
    "\n",
    "################################## MLP  ########################################################\n",
    "# Use MLP model as model\n",
    "model = MLP(hidden_channels=n_hidden_dim)\n",
    "# Define loss criterion.\n",
    "\n",
    "from sklearn.utils.class_weight import  compute_class_weight\n",
    "\n",
    "class_weights = compute_class_weight(class_weight='balanced',\n",
    "                                     classes= np.unique(node_data[\"subject\"].map(dictionary).unique()),\n",
    "                                     y= series(data.y)\n",
    "                                    )\n",
    "#weights= torch.tensor(class_weights,dtype=torch.float)\n",
    "criterion = torch.nn.CrossEntropyLoss()\n",
    "\n",
    "# Define Optimizer\n",
    "optimizer = torch.optim.Adam(model.parameters(), lr=0.01, weight_decay=5e-4)  # Define optimizer.\n",
    "print(model)\n",
    "def train():\n",
    "      # Train option\n",
    "      model.train()\n",
    "      # Clear gradients.\n",
    "      optimizer.zero_grad()\n",
    "      # Perform a single forward pass for the iteration i\n",
    "      out = model(data.x)\n",
    "      # Compute the loss solely based on the training nodes.\n",
    "      loss = criterion(out[data.train_mask == True ], data.y[data.train_mask == True])\n",
    "      # Derive gradients.\n",
    "      loss.backward()\n",
    "      # Update parameters based on gradients.\n",
    "      optimizer.step()\n",
    "      return loss\n",
    "\n",
    "def test():\n",
    "      # Model is in evaluation mode\n",
    "      model.eval()\n",
    "      # Use model to make prediction\n",
    "      out = model(data.x)\n",
    "      # Use the class with highest probability since the output is a vector of softmax\n",
    "      pred = out.argmax(dim=1)\n",
    "      # Compute accuracy as the counter of  prediction vs ground-truth labels.\n",
    "      test_correct = pred[data.test_mask] == data.y[data.test_mask]\n",
    "      # Derive ratio of correct predictions. to get Accuracy\n",
    "      test_acc = int(test_correct.sum()) / int(data.test_mask.sum())\n",
    "      return test_acc, pred\n",
    "\n",
    "for epoch in range(1, 201):\n",
    "    loss = train()\n",
    "    #print(f'Epoch: {epoch:03d}, Loss: {loss:.4f}')\n",
    "test_acc_mlp,pred_mlp = test()\n",
    "pred_mlp = series(pred_mlp,None)\n",
    "print(f'Test Accuracy MLP: {test_acc_mlp:.4f}')\n",
    "#################################################################################################\n",
    "\n",
    "\n",
    "################################## Graph Convolution ############################################\n",
    "# Use Graph Convolutional Layers\n",
    "model = GCN(hidden_channels=n_hidden_dim)\n",
    "print(model)\n",
    "# Define Adam as optimizer\n",
    "optimizer = torch.optim.Adam(model.parameters(), lr=0.01, weight_decay=5e-4)\n",
    "# Define loss criterion.\n",
    "criterion = torch.nn.CrossEntropyLoss()\n",
    "def train():\n",
    "    # Training mode\n",
    "    model.train()\n",
    "    # Clear gradients.\n",
    "    optimizer.zero_grad()\n",
    "    # Perform a single forward pass for this iteration, note that edges are also an argument here\n",
    "    out = model(data.x, data.edge_index)\n",
    "    # Compute the loss solely based on the training nodes\n",
    "    loss = criterion(out[data.train_mask],\n",
    "                     data.y[data.train_mask])\n",
    "    # Derive gradients.\n",
    "    loss.backward()\n",
    "    # Update parameters based on gradients.\n",
    "    optimizer.step()\n",
    "    return loss\n",
    "\n",
    "def test():\n",
    "    # Evaluation mode\n",
    "    model.eval()\n",
    "    # Compute predictions as output of model\n",
    "    out = model(data.x, data.edge_index)\n",
    "    # Use the class with highest probability since the output is a vector of softmax\n",
    "    pred = out.argmax(dim=1)\n",
    "    # Compute accuracy as the counter of  prediction vs ground-truth labels.\n",
    "    test_correct = pred[data.test_mask] == data.y[data.test_mask]\n",
    "    # Derive ratio of correct predictions. to get Accuracy\n",
    "    test_acc = int(test_correct.sum()) / int(data.test_mask.sum())\n",
    "    return test_acc,pred\n",
    "\n",
    "for epoch in range(1, 101):\n",
    "    loss = train()\n",
    "    #print(f'Epoch: {epoch:03d}, Loss: {loss:.4f}')\n",
    "\n",
    "test_acc_gcn ,pred_gcn = test()\n",
    "pred_gcn = series(pred_gcn,None)\n",
    "print(f'Test Accuracy with GCN: {test_acc_gcn:.4f}')\n",
    "#################################################################################################"
   ]
  },
  {
   "cell_type": "code",
   "execution_count": null,
   "id": "6d2b2810",
   "metadata": {},
   "outputs": [],
   "source": [
    "y_pred  = pred_mlp[series(data.test_mask)]\n",
    "y_true = series(data.y[data.test_mask])\n",
    "# Display CM\n",
    "figure = plt.figure(figsize = (10,5))\n",
    "ax= figure.add_subplot()\n",
    "sns.heatmap(confusion_matrix(y_true, y_pred), annot=True, fmt='g', ax=ax,cmap = \"Blues\");\n",
    "f1_score(y_true, y_pred,average=\"weighted\").round(2)"
   ]
  },
  {
   "cell_type": "code",
   "execution_count": null,
   "id": "85fed6d8",
   "metadata": {},
   "outputs": [],
   "source": [
    "y_pred  = pred_gcn[series(data.test_mask)]\n",
    "y_true = series(data.y[data.test_mask])\n",
    "# Display CM\n",
    "figure = plt.figure(figsize = (10,5))\n",
    "ax= figure.add_subplot()\n",
    "sns.heatmap(confusion_matrix(y_true, y_pred), annot=True, fmt='g', ax=ax,cmap = \"Blues\");\n",
    "f1_score(y_true, y_pred,average=\"weighted\").round(2)"
   ]
  },
  {
   "cell_type": "markdown",
   "id": "feaccb1b",
   "metadata": {},
   "source": [
    "# TO DO :\n",
    "    \n",
    "   * Fix Balance \n",
    "   * Fix Test and Validation Mask because we dont get the same results as Planetoid \n",
    "   * Train mask in Planetoid is balancing the net that is why it performs better\n",
    "   * Edges are not the same even of the Planetoid , thats why we perform differntly\n",
    "   * Used Custom Balanced Mask to check if the results depends on balance data, we still have lower performance! "
   ]
  },
  {
   "cell_type": "code",
   "execution_count": 13,
   "id": "6bd18d9e",
   "metadata": {},
   "outputs": [
    {
     "name": "stdout",
     "output_type": "stream",
     "text": [
      "\n",
      "Dataset: Cora():\n",
      "======================\n",
      "Number of graphs: 1\n",
      "Number of features: 1433\n",
      "Number of classes: 7\n"
     ]
    }
   ],
   "source": [
    "############################################ Data Collection ###################################\n",
    "dataset = Planetoid(root='data/Planetoid', name='Cora', transform=None ) #NormalizeFeatures\n",
    "print()\n",
    "print(f'Dataset: {dataset}:')\n",
    "print('======================')\n",
    "print(f'Number of graphs: {len(dataset)}')\n",
    "print(f'Number of features: {dataset.num_features}')\n",
    "print(f'Number of classes: {dataset.num_classes}')\n",
    "data = dataset[0]\n",
    "#################################################################################################"
   ]
  },
  {
   "cell_type": "code",
   "execution_count": 14,
   "id": "343a5ec8",
   "metadata": {},
   "outputs": [
    {
     "data": {
      "text/plain": [
       "6    20\n",
       "5    20\n",
       "4    20\n",
       "3    20\n",
       "2    20\n",
       "1    20\n",
       "0    20\n",
       "dtype: int64"
      ]
     },
     "execution_count": 14,
     "metadata": {},
     "output_type": "execute_result"
    }
   ],
   "source": [
    "series(data.y[data.train_mask]).value_counts()"
   ]
  },
  {
   "cell_type": "code",
   "execution_count": 15,
   "id": "49767c44",
   "metadata": {},
   "outputs": [
    {
     "name": "stdout",
     "output_type": "stream",
     "text": [
      "MLP(\n",
      "  (lin1): Linear(in_features=1433, out_features=16, bias=True)\n",
      "  (lin2): Linear(in_features=16, out_features=7, bias=True)\n",
      ")\n",
      "Test Accuracy MLP: 0.4990\n",
      "GCN(\n",
      "  (conv1): GCNConv(1433, 16)\n",
      "  (conv2): GCNConv(16, 7)\n",
      ")\n",
      "Test Accuracy with GCN: 0.7910\n"
     ]
    }
   ],
   "source": [
    "num_classes = 7 \n",
    "num_features = 1433\n",
    "##################################### Model and Data Preparation ##########################################\n",
    "class MLP(torch.nn.Module):\n",
    "    def __init__(self, hidden_channels):\n",
    "        super().__init__()\n",
    "        torch.manual_seed(12345)\n",
    "        self.lin1 = Linear(num_features, hidden_channels)\n",
    "        self.lin2 = Linear(hidden_channels, num_classes)\n",
    "    def forward(self, x):\n",
    "        x = self.lin1(x)\n",
    "        x = x.relu()\n",
    "        x = F.dropout(x, p=0.5, training=self.training)\n",
    "        x = self.lin2(x)\n",
    "        return x\n",
    "\n",
    "class GCN(torch.nn.Module):\n",
    "    def __init__(self, hidden_channels):\n",
    "        super().__init__()\n",
    "        torch.manual_seed(1234567)\n",
    "        self.conv1 = GCNConv(num_features, hidden_channels)\n",
    "        self.conv2 = GCNConv(hidden_channels, num_classes)\n",
    "\n",
    "    def forward(self, x, edge_index):\n",
    "        x = self.conv1(x, edge_index)\n",
    "        x = x.relu()\n",
    "        x = F.dropout(x, p=0.5, training=self.training)\n",
    "        x = self.conv2(x, edge_index)\n",
    "        return x\n",
    "\n",
    "# How do we choose the dimension of the hidden layers ?\n",
    "# There is no way of knowing in advance, the main idea is that we should reduce the dimensions  and iterate\n",
    "# In literature they propose 16 as the best number of hidden layers\n",
    "n_hidden_dim = 16\n",
    "#################################################################################################\n",
    "\n",
    "\n",
    "################################## MLP  ########################################################\n",
    "# Use MLP model as model\n",
    "model = MLP(hidden_channels=n_hidden_dim)\n",
    "# Define loss criterion.\n",
    "\n",
    "from sklearn.utils.class_weight import  compute_class_weight\n",
    "\n",
    "class_weights = compute_class_weight(class_weight='balanced',\n",
    "                                     classes= np.unique(node_data[\"subject\"].map(dictionary).unique()),\n",
    "                                     y= series(data.y)\n",
    "                                    )\n",
    "weights= torch.tensor(class_weights,dtype=torch.float)\n",
    "#criterion  = torch.nn.NLLLoss(weight=weights) \n",
    "criterion = torch.nn.CrossEntropyLoss(weight=weights,reduction='mean')\n",
    "\n",
    "# Define Optimizer\n",
    "optimizer = torch.optim.Adam(model.parameters(), lr=0.01, weight_decay=5e-4)  # Define optimizer.\n",
    "print(model)\n",
    "def train():\n",
    "      # Train option\n",
    "      model.train()\n",
    "      # Clear gradients.\n",
    "      optimizer.zero_grad()\n",
    "      # Perform a single forward pass for the iteration i\n",
    "      out = model(data.x)\n",
    "      # Compute the loss solely based on the training nodes.\n",
    "      loss = criterion(out[data.train_mask], data.y[data.train_mask])\n",
    "      # Derive gradients.\n",
    "      loss.backward()\n",
    "      # Update parameters based on gradients.\n",
    "      optimizer.step()\n",
    "      return loss\n",
    "\n",
    "def test():\n",
    "      # Model is in evaluation mode\n",
    "      model.eval()\n",
    "      # Use model to make prediction\n",
    "      out = model(data.x)\n",
    "      # Use the class with highest probability since the output is a vector of softmax\n",
    "      pred = out.argmax(dim=1)\n",
    "      # Compute accuracy as the counter of  prediction vs ground-truth labels.\n",
    "      test_correct = pred[data.test_mask] == data.y[data.test_mask]\n",
    "      # Derive ratio of correct predictions. to get Accuracy\n",
    "      test_acc = int(test_correct.sum()) / int(data.test_mask.sum())\n",
    "      return test_acc, pred\n",
    "\n",
    "for epoch in range(1, 201):\n",
    "    loss = train()\n",
    "    #print(f'Epoch: {epoch:03d}, Loss: {loss:.4f}')\n",
    "test_acc_mlp,pred_mlp = test()\n",
    "pred_mlp = series(pred_mlp,None)\n",
    "print(f'Test Accuracy MLP: {test_acc_mlp:.4f}')\n",
    "#################################################################################################\n",
    "\n",
    "\n",
    "################################## Graph Convolution ############################################\n",
    "# Use Graph Convolutional Layers\n",
    "model = GCN(hidden_channels=n_hidden_dim)\n",
    "print(model)\n",
    "# Define Adam as optimizer\n",
    "optimizer = torch.optim.Adam(model.parameters(), lr=0.01, weight_decay=5e-4)\n",
    "# Define loss criterion.\n",
    "criterion = torch.nn.CrossEntropyLoss()\n",
    "def train():\n",
    "    # Training mode\n",
    "    model.train()\n",
    "    # Clear gradients.\n",
    "    optimizer.zero_grad()\n",
    "    # Perform a single forward pass for this iteration, note that edges are also an argument here\n",
    "    out = model(data.x, data.edge_index)\n",
    "    # Compute the loss solely based on the training nodes\n",
    "    loss = criterion(out[data.train_mask],\n",
    "                     data.y[data.train_mask])\n",
    "    # Derive gradients.\n",
    "    loss.backward()\n",
    "    # Update parameters based on gradients.\n",
    "    optimizer.step()\n",
    "    return loss\n",
    "\n",
    "def test():\n",
    "    # Evaluation mode\n",
    "    model.eval()\n",
    "    # Compute predictions as output of model\n",
    "    out = model(data.x, data.edge_index)\n",
    "    # Use the class with highest probability since the output is a vector of softmax\n",
    "    pred = out.argmax(dim=1)\n",
    "    # Compute accuracy as the counter of  prediction vs ground-truth labels.\n",
    "    test_correct = pred[data.test_mask] == data.y[data.test_mask]\n",
    "    # Derive ratio of correct predictions. to get Accuracy\n",
    "    test_acc = int(test_correct.sum()) / int(data.test_mask.sum())\n",
    "    return test_acc,pred\n",
    "\n",
    "for epoch in range(1, 101):\n",
    "    loss = train()\n",
    "    #print(f'Epoch: {epoch:03d}, Loss: {loss:.4f}')\n",
    "\n",
    "test_acc_gcn ,pred_gcn = test()\n",
    "pred_gcn = series(pred_gcn,None)\n",
    "print(f'Test Accuracy with GCN: {test_acc_gcn:.4f}')"
   ]
  },
  {
   "cell_type": "code",
   "execution_count": 17,
   "id": "834fa507",
   "metadata": {},
   "outputs": [
    {
     "data": {
      "text/plain": [
       "0.48"
      ]
     },
     "execution_count": 17,
     "metadata": {},
     "output_type": "execute_result"
    },
    {
     "data": {
      "image/png": "[encoded data removed]",
      "text/plain": [
       "<Figure size 720x360 with 2 Axes>"
      ]
     },
     "metadata": {
      "needs_background": "light"
     },
     "output_type": "display_data"
    }
   ],
   "source": [
    "y_pred  = pred_mlp[series(data.test_mask)]\n",
    "y_true = series(data.y[data.test_mask])\n",
    "# Display CM\n",
    "figure = plt.figure(figsize = (10,5))\n",
    "ax= figure.add_subplot()\n",
    "sns.heatmap(confusion_matrix(y_true, y_pred), annot=True, fmt='g', ax=ax,cmap = \"Blues\");\n",
    "f1_score(y_true, y_pred,average=\"weighted\").round(2)"
   ]
  },
  {
   "cell_type": "code",
   "execution_count": 18,
   "id": "d8a089aa",
   "metadata": {},
   "outputs": [
    {
     "data": {
      "text/plain": [
       "0.79"
      ]
     },
     "execution_count": 18,
     "metadata": {},
     "output_type": "execute_result"
    },
    {
     "data": {
      "image/png": "[encoded data removed]",
      "text/plain": [
       "<Figure size 720x360 with 2 Axes>"
      ]
     },
     "metadata": {
      "needs_background": "light"
     },
     "output_type": "display_data"
    }
   ],
   "source": [
    "y_pred  = pred_gcn[series(data.test_mask)]\n",
    "y_true = series(data.y[data.test_mask])\n",
    "# Display CM\n",
    "figure = plt.figure(figsize = (10,5))\n",
    "ax= figure.add_subplot()\n",
    "sns.heatmap(confusion_matrix(y_true, y_pred), annot=True, fmt='g', ax=ax,cmap = \"Blues\");\n",
    "f1_score(y_true, y_pred,average=\"weighted\").round(2)"
   ]
  },
  {
   "cell_type": "markdown",
   "id": "813b6515",
   "metadata": {},
   "source": [
    "# References\n",
    "\n",
    "* Semi-Supervised Classification with Graph Convolutional Networks: https://arxiv.org/abs/1609.02907\n",
    "\n",
    "* Graph Convolutional Layers : https://tkipf.github.io/graph-convolutional-networks/\n",
    "\n",
    "* Graph Datasets : https://linqs.soe.ucsc.edu/data\n",
    "\n",
    "* Introdocution to Graph Neural Networks: https://towardsdatascience.com/a-gentle-introduction-to-graph-neural-network-basics-deepwalk-and-graphsage-db5d540d50b3\n",
    "\n",
    "* PyTorch Geometric Documentation : https://pytorch-geometric.readthedocs.io/en/latest/index.html"
   ]
  },
  {
   "cell_type": "code",
   "execution_count": null,
   "id": "c416fb07",
   "metadata": {},
   "outputs": [],
   "source": [
    "#pd.Series(series(data.train_mask),name='train_mask').to_csv('train_mask.csv',index = False)\n",
    "#pd.Series(series(data.train_mask),name='test_mask').to_csv('test_mask.csv',index = False)"
   ]
  },
  {
   "cell_type": "code",
   "execution_count": null,
   "id": "a6b02dd9",
   "metadata": {},
   "outputs": [],
   "source": [
    "!ls"
   ]
  },
  {
   "cell_type": "code",
   "execution_count": null,
   "id": "55caac8e",
   "metadata": {},
   "outputs": [],
   "source": [
    "#train_mask = torch.from_numpy( pd.read_csv('train_mask.csv').values.flatten()  ).type(torch.BoolTensor)\n",
    "#test_mask = torch.from_numpy(pd.read_csv('test_mask.csv').values.flatten()  ).type(torch.BoolTensor) \n",
    "## Split the data \n",
    "#train_ratio = 0.2\n",
    "#num_nodes = data_nx.x.shape[0]\n",
    "#num_train = int(num_nodes * train_ratio)\n",
    "#idx = [i for i in range(num_nodes)]\n",
    "\n",
    "## Creating the mask for training and test\n",
    "#np.random.shuffle(idx)\n",
    "#train_mask = torch.full_like(data_nx.y, False, dtype=bool)\n",
    "#train_mask[idx[:num_train]] = True\n",
    "#test_mask = torch.full_like(data_nx.y, False, dtype=bool)\n",
    "#test_mask[idx[num_train:]] = True"
   ]
  },
  {
   "cell_type": "code",
   "execution_count": null,
   "id": "c60ce0a3",
   "metadata": {},
   "outputs": [],
   "source": []
  }
 ],
 "metadata": {
  "kernelspec": {
   "display_name": "Python 3 (ipykernel)",
   "language": "python",
   "name": "python3"
  },
  "language_info": {
   "codemirror_mode": {
    "name": "ipython",
    "version": 3
   },
   "file_extension": ".py",
   "mimetype": "text/x-python",
   "name": "python",
   "nbconvert_exporter": "python",
   "pygments_lexer": "ipython3",
   "version": "3.7.0"
  }
 },
 "nbformat": 4,
 "nbformat_minor": 5
}
